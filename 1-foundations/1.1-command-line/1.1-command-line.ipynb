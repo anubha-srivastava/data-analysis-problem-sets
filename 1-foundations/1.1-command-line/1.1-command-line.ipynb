{
 "cells": [
  {
   "cell_type": "markdown",
   "metadata": {},
   "source": [
    "# Problem Set 1.1: Command line\n",
    "\n",
    "Learn to run commands and understand their output and errors, navigate\n",
    "directories, move and copy files."
   ]
  },
  {
   "cell_type": "markdown",
   "metadata": {},
   "source": [
    "- What a prompt is\n",
    "- Command syntax\n",
    "- Options and arguments\n",
    "- --help\n",
    "- Navigation: cd, ls, tree\n",
    "- File operations: cp, mv, rm, cat\n",
    "- Quoting\n",
    "- Errors"
   ]
  }
 ],
 "metadata": {
  "kernelspec": {
   "display_name": "Python 3",
   "language": "python",
   "name": "python3"
  },
  "language_info": {
   "codemirror_mode": {
    "name": "ipython",
    "version": 3
   },
   "file_extension": ".py",
   "mimetype": "text/x-python",
   "name": "python",
   "nbconvert_exporter": "python",
   "pygments_lexer": "ipython3",
   "version": "3.11.7"
  }
 },
 "nbformat": 4,
 "nbformat_minor": 2
}
