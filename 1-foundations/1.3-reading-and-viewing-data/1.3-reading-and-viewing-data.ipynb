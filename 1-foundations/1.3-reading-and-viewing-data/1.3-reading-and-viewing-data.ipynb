{
 "cells": [
  {
   "cell_type": "markdown",
   "metadata": {},
   "source": [
    "# Problem Set 1.3: Reading and viewing data\n",
    "\n",
    "[Click here to open this notebook in your browser](https://leifwalsh.github.io/data-analysis-problem-sets/lab/index.html?path=1-foundations/1.3-reading-and-viewing-data/1.3-reading-and-viewing-data.ipynb)\n",
    "\n",
    "Start exploring some simple data, at first with just Python built-ins."
   ]
  },
  {
   "cell_type": "markdown",
   "metadata": {},
   "source": [
    "## Reading files\n",
    "\n",
    "You can read files in the same directory as the notebook in a couple of ways:\n",
    "\n",
    "- With the `open()` builtin - this gives you a file object to read from\n",
    "- With `pathlib.Path()` - a little easier\n",
    "\n",
    "Let's try both.\n",
    "\n",
    "First, let's look at the files that are nearby. `os.listdir()` is like `ls` on\n",
    "the command line: it **list**s what's in a **dir**ectory."
   ]
  },
  {
   "cell_type": "code",
   "execution_count": null,
   "metadata": {},
   "outputs": [],
   "source": [
    "# Import the `os` module, which stands for Operating System\n",
    "\n",
    "import os\n",
    "\n",
    "# Call the `listdir()` function in the `os` module\n",
    "\n",
    "os.listdir()"
   ]
  },
  {
   "cell_type": "markdown",
   "metadata": {},
   "source": [
    "It's a list of strings! We can see the notebook we're in, and some other files.\n",
    "\n",
    "Let's open and read the `simple.csv` file, first with the builtin `open()`:"
   ]
  },
  {
   "cell_type": "code",
   "execution_count": null,
   "metadata": {},
   "outputs": [],
   "source": [
    "# The \"r\" means you want to **read** the file, so Python won't let you edit it\n",
    "#\n",
    "# You can also open for writing, or both, and there's a thing about \"encoding\"\n",
    "# we're going to ignore\n",
    "simple_csv_file = open(\"simple.csv\", \"r\")\n",
    "\n",
    "# Now we have a \"file object\"\n",
    "simple_csv_file"
   ]
  },
  {
   "cell_type": "code",
   "execution_count": null,
   "metadata": {},
   "outputs": [],
   "source": [
    "# Try tab-completing after the dot to see some things you can do with a file:\n",
    "simple_csv_file."
   ]
  },
  {
   "cell_type": "code",
   "execution_count": null,
   "metadata": {},
   "outputs": [],
   "source": [
    "# We can read the whole thing by calling `read()`:\n",
    "text = simple_csv_file.read()\n",
    "\n",
    "# Now we have a string with the contents. Note the `\\n` thing: this means\n",
    "# \"newline\"\n",
    "text"
   ]
  },
  {
   "cell_type": "code",
   "execution_count": null,
   "metadata": {},
   "outputs": [],
   "source": [
    "# The file object has a sort of cursor - it remembers where you are in the\n",
    "# text. This means you can read a file a little bit at a time, but after\n",
    "# reading the whole thing, now we're at the end. If we call `read()` again, we\n",
    "# get an empty string because there's nothing left to read after the end:\n",
    "simple_csv_file.read()"
   ]
  },
  {
   "cell_type": "code",
   "execution_count": null,
   "metadata": {},
   "outputs": [],
   "source": [
    "# But we still have our text:\n",
    "text"
   ]
  },
  {
   "cell_type": "markdown",
   "metadata": {},
   "source": [
    "Now let's use `pathlib` to read the file again, then we'll get on to parsing:"
   ]
  },
  {
   "cell_type": "code",
   "execution_count": null,
   "metadata": {},
   "outputs": [],
   "source": [
    "# Import the `Path` class from the `pathlib` module:\n",
    "\n",
    "from pathlib import Path\n",
    "\n",
    "# Make a Path object referring to `simple.csv`\n",
    "path = Path(\"simple.csv\")\n",
    "path"
   ]
  },
  {
   "cell_type": "code",
   "execution_count": null,
   "metadata": {},
   "outputs": [],
   "source": [
    "# We can do many things with a Path too:\n",
    "print(f\"{path.absolute() = }\")\n",
    "print(f\"{path.parent = }\")\n",
    "print(f\"{path.stem = }\")"
   ]
  },
  {
   "cell_type": "code",
   "execution_count": null,
   "metadata": {},
   "outputs": [],
   "source": [
    "# Try tab-completing here too:\n",
    "path."
   ]
  },
  {
   "cell_type": "code",
   "execution_count": null,
   "metadata": {},
   "outputs": [],
   "source": [
    "# But most importantly, we can read it with one method on Path:\n",
    "text = path.read_text()\n",
    "text"
   ]
  },
  {
   "cell_type": "code",
   "execution_count": null,
   "metadata": {},
   "outputs": [],
   "source": [
    "# When you just evaluate `text`, it includes those special characters like\n",
    "# newlines, but if you `print()` a string, it prints them like normal:\n",
    "print(text)"
   ]
  },
  {
   "cell_type": "markdown",
   "metadata": {},
   "source": [
    "## Basic CSV Parsing\n",
    "\n",
    "Now let's try to turn this string into something we can work with. Later we'll\n",
    "see that `pandas` can do this for us, and handle a bunch of weird formatting,\n",
    "but for now we're on our own."
   ]
  },
  {
   "cell_type": "code",
   "execution_count": null,
   "metadata": {},
   "outputs": [],
   "source": [
    "# You can split a string into lines with `splitlines()`\n",
    "lines = text.splitlines()\n",
    "lines"
   ]
  },
  {
   "cell_type": "code",
   "execution_count": null,
   "metadata": {},
   "outputs": [],
   "source": [
    "# Let's just look at the header row:\n",
    "header = lines[0]\n",
    "header"
   ]
  },
  {
   "cell_type": "code",
   "execution_count": null,
   "metadata": {},
   "outputs": [],
   "source": [
    "# We can split on columns with the `split()` method - you have to tell it to\n",
    "# split on the comma.\n",
    "column_names = header.split(\",\")\n",
    "column_names"
   ]
  },
  {
   "cell_type": "code",
   "execution_count": null,
   "metadata": {},
   "outputs": [],
   "source": [
    "# We can split all the other rows too, in a loop:\n",
    "\n",
    "data_lines = lines[1:]  # This is the same as lines[1:len(lines)] - everything\n",
    "                        # but the first line\n",
    "data_lines"
   ]
  },
  {
   "cell_type": "code",
   "execution_count": null,
   "metadata": {},
   "outputs": [],
   "source": [
    "for line in data_lines:\n",
    "    print(line.split(\",\"))"
   ]
  },
  {
   "cell_type": "code",
   "execution_count": null,
   "metadata": {},
   "outputs": [],
   "source": [
    "# Now we can build a dictionary, mapping column names to the values in that\n",
    "# column.\n",
    "\n",
    "# First, let's make an empty one:\n",
    "\n",
    "table = {}  # Make an empty dictionary\n",
    "for column in column_names:\n",
    "    table[column] = []  # Insert an empty list\n",
    "\n",
    "table"
   ]
  },
  {
   "cell_type": "code",
   "execution_count": null,
   "metadata": {},
   "outputs": [],
   "source": [
    "# There's a faster way to do this, called a \"dict comprehension\":\n",
    "\n",
    "table = {                    # Make a dictionary\n",
    "    col: []                  # by setting `col` to an empty list\n",
    "    for col in column_names  # for each `col` in `column_names`\n",
    "}\n",
    "table"
   ]
  },
  {
   "cell_type": "code",
   "execution_count": null,
   "metadata": {},
   "outputs": [],
   "source": [
    "# You can do it all on one line too:\n",
    "table = {col: [] for col in column_names}\n",
    "table"
   ]
  },
  {
   "cell_type": "code",
   "execution_count": null,
   "metadata": {},
   "outputs": [],
   "source": [
    "# Then we can append every row's values to each column.\n",
    "for line in data_lines:\n",
    "    values = line.split(\",\")\n",
    "    print(f\"{values = }\")\n",
    "    # `enumerate()` prepends each item with its index number, starting at 0:\n",
    "    for index, value in enumerate(values):\n",
    "        print(f\"{index = }, {value = }\")\n",
    "        # We can use `index` to get the column name for this value:\n",
    "        col = column_names[index]\n",
    "        print(f\"{col = }\")\n",
    "        table[col].append(value)"
   ]
  },
  {
   "cell_type": "code",
   "execution_count": null,
   "metadata": {},
   "outputs": [],
   "source": [
    "# And we're done!\n",
    "table"
   ]
  },
  {
   "cell_type": "code",
   "execution_count": null,
   "metadata": {},
   "outputs": [],
   "source": [
    "# Now, if we want to look something up, we specify the column we want, then the\n",
    "# row number:\n",
    "table[\"Column B\"][2]"
   ]
  },
  {
   "cell_type": "code",
   "execution_count": null,
   "metadata": {},
   "outputs": [],
   "source": [
    "# Note that everything is still just strings. You can't sum the first column:\n",
    "sum(table[\"Column A\"])"
   ]
  },
  {
   "cell_type": "code",
   "execution_count": null,
   "metadata": {},
   "outputs": [],
   "source": [
    "# We can convert those to ints though:\n",
    "\n",
    "# This is a \"list comprehension\", like the dict comprehension earlier:\n",
    "table[\"Column A\"] = [int(x) for x in table[\"Column A\"]]\n",
    "table"
   ]
  },
  {
   "cell_type": "code",
   "execution_count": null,
   "metadata": {},
   "outputs": [],
   "source": [
    "# Now we can sum it:\n",
    "sum(table[\"Column A\"])"
   ]
  },
  {
   "cell_type": "markdown",
   "metadata": {},
   "source": [
    "## CSV files can get complicated!\n",
    "\n",
    "What if there are commas inside one of your values? Suppose you spent way too\n",
    "much time finding funny ball python color combinations on\n",
    "https://www.worldofballpythons.com, and the `Genetics` column is a list itself?\n",
    "\n",
    "Let's see what's in `morphs.csv`. Can you read the file and print the whole\n",
    "thing as a string?"
   ]
  },
  {
   "cell_type": "code",
   "execution_count": null,
   "metadata": {},
   "outputs": [],
   "source": [
    "path = Path(\"morphs.csv\")\n",
    "morph_text = ...  # Fill this in\n",
    "print(morph_text)"
   ]
  },
  {
   "cell_type": "markdown",
   "metadata": {},
   "source": [
    "Let's try to parse it like before:"
   ]
  },
  {
   "cell_type": "code",
   "execution_count": null,
   "metadata": {},
   "outputs": [],
   "source": [
    "lines = morph_text.splitlines()\n",
    "lines"
   ]
  },
  {
   "cell_type": "code",
   "execution_count": null,
   "metadata": {},
   "outputs": [],
   "source": [
    "column_names = lines[0].split(\",\")\n",
    "table = {col: [] for col in column_names}\n",
    "table"
   ]
  },
  {
   "cell_type": "code",
   "execution_count": null,
   "metadata": {},
   "outputs": [],
   "source": [
    "data_lines = lines[1:]\n",
    "data_lines"
   ]
  },
  {
   "cell_type": "code",
   "execution_count": null,
   "metadata": {},
   "outputs": [],
   "source": [
    "for line in data_lines:\n",
    "    values = line.split(\",\")\n",
    "    print(f\"{values = }\")\n",
    "    for index, value in enumerate(values):\n",
    "        print(f\"{index = }, {value = }\")\n",
    "        col = column_names[index]\n",
    "        print(f\"{col = }\")\n",
    "        table[col].append(value)"
   ]
  },
  {
   "cell_type": "markdown",
   "metadata": {},
   "source": [
    "Oh no. `split()` doesn't know that the quotes around the last column are\n",
    "important.\n",
    "\n",
    "Can you fix it?"
   ]
  },
  {
   "cell_type": "code",
   "execution_count": null,
   "metadata": {},
   "outputs": [],
   "source": [
    "for line in data_lines:\n",
    "    print(f\"{line = }\")"
   ]
  },
  {
   "cell_type": "markdown",
   "metadata": {},
   "source": [
    "Think about this, and try to parse the table here before continuing:"
   ]
  },
  {
   "cell_type": "code",
   "execution_count": null,
   "metadata": {},
   "outputs": [],
   "source": [
    "for line in data_lines:\n",
    "    ..."
   ]
  },
  {
   "cell_type": "markdown",
   "metadata": {},
   "source": [
    "You did try to parse that before continuing, right?"
   ]
  },
  {
   "cell_type": "code",
   "execution_count": null,
   "metadata": {},
   "outputs": [],
   "source": [
    "# We can tell `split()` we only want to split two times:\n",
    "for line in data_lines:\n",
    "    values = line.split(\",\", 2)\n",
    "    print(f\"{values = }\")"
   ]
  },
  {
   "cell_type": "markdown",
   "metadata": {},
   "source": [
    "And maybe that's ok for this table:"
   ]
  },
  {
   "cell_type": "code",
   "execution_count": null,
   "metadata": {},
   "outputs": [],
   "source": [
    "# Reset the table\n",
    "table = {col: [] for col in column_names}\n",
    "\n",
    "# We should split one fewer than the number of columns we have\n",
    "num_splits = len(table) - 1\n",
    "print(f\"{num_splits = }\")\n",
    "\n",
    "# Then the same, mostly:\n",
    "for line in data_lines:\n",
    "    values = line.split(\",\", num_splits)\n",
    "    print(f\"{values = }\")\n",
    "    for index, value in enumerate(values):\n",
    "        print(f\"{index = }, {value = }\")\n",
    "        col = column_names[index]\n",
    "        print(f\"{col = }\")\n",
    "        table[col].append(value)"
   ]
  },
  {
   "cell_type": "code",
   "execution_count": null,
   "metadata": {},
   "outputs": [],
   "source": [
    "# Ta-da?\n",
    "table"
   ]
  },
  {
   "cell_type": "markdown",
   "metadata": {},
   "source": [
    "But that's not going to work if there are commas in the other columns."
   ]
  },
  {
   "cell_type": "markdown",
   "metadata": {},
   "source": [
    "## Okay, fine! We'll try pandas."
   ]
  },
  {
   "cell_type": "code",
   "execution_count": null,
   "metadata": {},
   "outputs": [],
   "source": [
    "import pandas\n",
    "\n",
    "pandas.read_csv(\"morphs.csv\")"
   ]
  },
  {
   "cell_type": "markdown",
   "metadata": {},
   "source": [
    "Much easier, right?\n",
    "\n",
    "Reading all kinds of csv files with complicated, messy formats is arguably what\n",
    "made `pandas` popular in the first place. In the chapters that follow, we'll\n",
    "explore more of what pandas is doing and how to use a table like this."
   ]
  },
  {
   "cell_type": "code",
   "execution_count": null,
   "metadata": {},
   "outputs": [],
   "source": [
    "# By the way, `read_csv` has a lot of different options to let you control how\n",
    "# it deals with strangely formatted data.\n",
    "\n",
    "# In Jupyter, you can use the question mark after a function to look at its\n",
    "# documentation, like `--help` or `man` on the command line:\n",
    "pandas.read_csv?"
   ]
  }
 ],
 "metadata": {
  "kernelspec": {
   "display_name": "Python 3",
   "language": "python",
   "name": "python3"
  },
  "language_info": {
   "codemirror_mode": {
    "name": "ipython",
    "version": 3
   },
   "file_extension": ".py",
   "mimetype": "text/x-python",
   "name": "python",
   "nbconvert_exporter": "python",
   "pygments_lexer": "ipython3",
   "version": "3.11.8"
  }
 },
 "nbformat": 4,
 "nbformat_minor": 2
}
