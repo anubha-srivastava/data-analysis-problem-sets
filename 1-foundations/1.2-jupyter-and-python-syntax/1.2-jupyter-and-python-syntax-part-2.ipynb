{
 "cells": [
  {
   "cell_type": "markdown",
   "metadata": {},
   "source": [
    "# Python Syntax & Fundamentals\n",
    "## Chapter 2: Functions\n",
    "Section Overview: \n",
    "1.  Function Definitions\n",
    "2.  Calling a Function\n",
    "3.  Function Parameters\n",
    "4.  Multiple Parameters\n",
    "5.  Returning a Function\n",
    "6.  Practicing with Parameters\n",
    "7.  Multiple Returns\n",
    "8.  Built-In Functions\n",
    "\n"
   ]
  },
  {
   "cell_type": "markdown",
   "metadata": {},
   "source": [
    "**What are Functions?**  \n",
    "Functions are a convenient way to group our code into reusable blocks.  A function contains a sequence of steps that can be performed repeatedly throughout a program without having to repeat the process of writing the same code.  In essense, by turning your code into a function, you are refactoring your code to conveniently reuse it. \n",
    "\n",
    "\n",
    "In this section we will review the following:\n",
    "- function definitions\n",
    "- calling a function\n",
    "- function parameters\n",
    "- multiple parameters\n",
    "- types of arguments\n",
    "\n",
    "(*sources: Codecademy, and docs.python.org, Leif Walsh, Sarah Crandall*)"
   ]
  },
  {
   "cell_type": "markdown",
   "metadata": {},
   "source": [
    "### 2.1 Function Definitions\n",
    "\n",
    "In the previous chapter we defined\n",
    "`x = 101`\n",
    "\n",
    "Let's keep that `variable` `x`"
   ]
  },
  {
   "cell_type": "code",
   "execution_count": 9,
   "metadata": {},
   "outputs": [],
   "source": [
    "x = 101"
   ]
  },
  {
   "cell_type": "markdown",
   "metadata": {},
   "source": [
    "Now, let's discuss defining functions. \n",
    "\n",
    "Here is an example of a function:"
   ]
  },
  {
   "cell_type": "code",
   "execution_count": null,
   "metadata": {},
   "outputs": [],
   "source": [
    "def function_name():\n",
    "    #function body: function tasks go here"
   ]
  },
  {
   "cell_type": "markdown",
   "metadata": {},
   "source": [
    "Important things to note here:\n",
    "- the `[def]` keyword indicated the beginning of a function (also known as a function header).  The function header is followed by a name in **snake_case** format (a naming convention in which each space is replaced with an underscore `_` character, and words are written in lowercase).\n",
    "- a pair of `( )` always follows after the `[function_name]`.  These `( )` can hold input values known as **parameters**.  In the above example there are no **parameters**.\n",
    "- a colon `:`, is used to mark the end of a function header. \n",
    "- you can have one or more python statements that make up the **function body** (where you see the #comment above).  Notice that the comment is indented. "
   ]
  },
  {
   "cell_type": "code",
   "execution_count": 6,
   "metadata": {},
   "outputs": [],
   "source": [
    "# The function name and parameters (things the function wants to know)\n",
    "# go here:\n",
    "\n",
    "#    name\n",
    "#      |     parameters\n",
    "#      |    /\n",
    "#      |   |\n",
    "#      v   v\n",
    "def double(x):\n",
    "    return x * 2\n",
    "#          ^^^^^\n",
    "#            |\n",
    "# The result of the function comes after the `return` keyword"
   ]
  },
  {
   "cell_type": "code",
   "execution_count": 7,
   "metadata": {},
   "outputs": [
    {
     "name": "stdout",
     "output_type": "stream",
     "text": [
      "6\n",
      "10\n",
      "double(100) = 200\n"
     ]
    }
   ],
   "source": [
    "# Now, we can call the function to run it on some inputs:\n",
    "print(double(3))\n",
    "print(double(5))\n",
    "print(f\"{double(100) = }\")"
   ]
  },
  {
   "cell_type": "markdown",
   "metadata": {},
   "source": [
    "Defining a function is another way to create a \"name\". You can just ask\n",
    "\"what does `double` mean\" and it will tell you:"
   ]
  },
  {
   "cell_type": "code",
   "execution_count": 3,
   "metadata": {},
   "outputs": [
    {
     "data": {
      "text/plain": [
       "<function __main__.double(x)>"
      ]
     },
     "execution_count": 3,
     "metadata": {},
     "output_type": "execute_result"
    }
   ],
   "source": [
    "double"
   ]
  },
  {
   "cell_type": "markdown",
   "metadata": {},
   "source": [
    "Ok, that isn't much information, but it does let you know that it's a\n",
    "function, and it tells you it needs one value passed in, named `x`."
   ]
  },
  {
   "cell_type": "markdown",
   "metadata": {},
   "source": [
    "Wait a minute...don't we already have something called `x`?"
   ]
  },
  {
   "cell_type": "code",
   "execution_count": 4,
   "metadata": {},
   "outputs": [
    {
     "ename": "NameError",
     "evalue": "name 'x' is not defined",
     "output_type": "error",
     "traceback": [
      "\u001b[0;31m---------------------------------------------------------------------------\u001b[0m",
      "\u001b[0;31mNameError\u001b[0m                                 Traceback (most recent call last)",
      "\u001b[0;32m/tmp/ipykernel_501155/32546335.py\u001b[0m in \u001b[0;36m<module>\u001b[0;34m\u001b[0m\n\u001b[0;32m----> 1\u001b[0;31m \u001b[0mx\u001b[0m\u001b[0;34m\u001b[0m\u001b[0;34m\u001b[0m\u001b[0m\n\u001b[0m",
      "\u001b[0;31mNameError\u001b[0m: name 'x' is not defined"
     ]
    }
   ],
   "source": [
    "x"
   ]
  },
  {
   "cell_type": "code",
   "execution_count": 8,
   "metadata": {},
   "outputs": [
    {
     "data": {
      "text/plain": [
       "4"
      ]
     },
     "execution_count": 8,
     "metadata": {},
     "output_type": "execute_result"
    }
   ],
   "source": [
    "double(2)  # why isn't this 202?"
   ]
  },
  {
   "cell_type": "code",
   "execution_count": 10,
   "metadata": {},
   "outputs": [
    {
     "data": {
      "text/plain": [
       "101"
      ]
     },
     "execution_count": 10,
     "metadata": {},
     "output_type": "execute_result"
    }
   ],
   "source": [
    "x  # why isn't this 2 now?"
   ]
  },
  {
   "cell_type": "markdown",
   "metadata": {},
   "source": [
    "When you define a function, you give it its own little world of what\n",
    "names mean. If you say that a function takes a parameter named `x`, it\n",
    "means that while that function is running, `x` will mean whatever was\n",
    "passed in, and when the function is done, or in other contexts, `x` will\n",
    "return to meaning what it did before."
   ]
  },
  {
   "cell_type": "markdown",
   "metadata": {},
   "source": [
    "For the remainder of this Chapter, we will be working with Functions and learning some function basics within the context of a Party Planning application. "
   ]
  },
  {
   "cell_type": "code",
   "execution_count": null,
   "metadata": {},
   "outputs": [],
   "source": [
    "#Example of a function that greets a user in a party planning application\n",
    "\n",
    "def party_planner_welcome():\n",
    "    print(\"Welcome to Party Planner\")\n",
    "    print(\"We are here to help you plan your perfect party.\")"
   ]
  },
  {
   "cell_type": "markdown",
   "metadata": {},
   "source": [
    "### 2.2  Calling a Function\n",
    "Executing the tasks that make up the **function body** is called **calling a function** or **executing a function**.\n",
    "To call a function in Python, type out the **function_name** followed by a set of **parantheses ()**\n",
    "\n",
    "#####  Whitespace and Execution Flows:\n",
    "In python, the amount of whitespace tells the computer what is part of a function and what is NOT part of the function"
   ]
  },
  {
   "cell_type": "code",
   "execution_count": null,
   "metadata": {},
   "outputs": [],
   "source": [
    "def party_planner_welcome():\n",
    "    #indented code is part of the function body\n",
    "    print(\"Welcome to Party Planner\")\n",
    "    print(\"We are here to help you plan your perfect party.\")\n",
    "print(\"Whatever the occasion, we can help bring your vision to life!\")\n",
    "#unindented code below the function is NOT part of the function body\n",
    "\n",
    "party_planner_welcome()"
   ]
  },
  {
   "cell_type": "markdown",
   "metadata": {},
   "source": [
    "Because the print statement was unindented, print(\"Whatever the occasion, we can help bring your vision to life!\") was read as a separate statement and not part of the party_planner_welcome function.  \n",
    "\n",
    "The exection of a program always begins on the first line.  The code is then executed one line at a time from top to bottom.  This is known as **execution flow**, and is the order a program in python executes code.  \n",
    "\n",
    "\"Whatever the occasion, we can help bring your vision to life!\" was printed before the print statements from party_planner_welcome() function, because even though the function was defined before the lone print() statement, we didn't **call** the function until *after* the lone print statement. "
   ]
  },
  {
   "cell_type": "code",
   "execution_count": null,
   "metadata": {},
   "outputs": [],
   "source": [
    "def party_planner_welcome():\n",
    "    #indented code is part of the function body\n",
    "    print(\"Welcome to Party Planner\")\n",
    "    print(\"We are here to help you plan your perfect party.\")\n",
    "    print(\"Whatever the occasion, we can help bring your vision to life!\")\n",
    "\n",
    "party_planner_welcome()"
   ]
  },
  {
   "cell_type": "markdown",
   "metadata": {},
   "source": [
    "### 2.3  Function Parameters\n",
    "**Function Parameters** are variables that are declared in the function definition.  They allow our function to accept data as an input value, and are processed in the function body to produce the desired result.  \n",
    "We list the parameters that a function takes, as the input inside the **( )** of the function.  \n",
    "\n",
    "This is a function that defines a single parameter:"
   ]
  },
  {
   "cell_type": "code",
   "execution_count": null,
   "metadata": {},
   "outputs": [],
   "source": [
    "def my_function(single_parameter):\n",
    "    \n",
    "# Parameters are used by passing in an arugment to the function when we call it.  \n"
   ]
  },
  {
   "cell_type": "code",
   "execution_count": null,
   "metadata": {},
   "outputs": [],
   "source": [
    "def party_planner_welcome (party_type):\n",
    "    print (\"Welcome to Party Planner\")\n",
    "    print (\"Looks like you're planning a \" + party_type + \"today\")\n",
    "\n",
    "# The paramter is the name defined in the parentheses, in this case (party_type), and will be used in the function body. \n"
   ]
  },
  {
   "cell_type": "code",
   "execution_count": null,
   "metadata": {},
   "outputs": [],
   "source": [
    "party_planner_welcome (\"Birthday Party\")\n",
    "# The argument is the data that is passed in when we call the function which is then assigned to the parameter."
   ]
  },
  {
   "cell_type": "markdown",
   "metadata": {},
   "source": [
    "In the above example, \n",
    "\"Birthday Party\" is the **argument** passed through the party_type **parameter** defined in the party_planner_welcome function. \n",
    "When you call party_planner_welcome (\"Birthday Party\"), you are telling the function to pass the string \"Birthday Party\" through the function you defined. "
   ]
  },
  {
   "cell_type": "markdown",
   "metadata": {},
   "source": [
    "### 2.4 Multiple Parameters\n",
    "Functions let us use as many parameters as we want, enabling us to pass in more than one input to our functions. \n",
    "To write a function that takes in more that one parameter, use commas to separate them. "
   ]
  },
  {
   "cell_type": "code",
   "execution_count": null,
   "metadata": {},
   "outputs": [],
   "source": [
    "def my_function(parameter1, parameter2, parameter3)"
   ]
  },
  {
   "cell_type": "markdown",
   "metadata": {},
   "source": [
    "When you **call  a function** with multiple parameters, you will need to provide **arguments** for each of the **parameters** you assigned in the **function definition**."
   ]
  },
  {
   "cell_type": "code",
   "execution_count": null,
   "metadata": {},
   "outputs": [],
   "source": [
    "def party_planner_welcome(party_type, recipient):\n",
    "    print (\"Welcome to Party Planner!\")\n",
    "    print (\"Looks like you're planning a \" + party_type + \"for \" + recipient + \".\")\n",
    "\n",
    "# there are two parameters defined in the above function, you will need to arguments to pass through."
   ]
  },
  {
   "cell_type": "code",
   "execution_count": null,
   "metadata": {},
   "outputs": [],
   "source": [
    "party_planner_welcome(\"Birthday Party\", \"your best friend\")"
   ]
  },
  {
   "cell_type": "markdown",
   "metadata": {},
   "source": [
    "The ordering of your parameters is important, their position will map to the position of the arguments and will determine their assigned value in the function body.  "
   ]
  },
  {
   "cell_type": "code",
   "execution_count": null,
   "metadata": {},
   "outputs": [],
   "source": [
    "party_planner_welcome(\"Engagement Party\", \"your brother\")"
   ]
  },
  {
   "cell_type": "markdown",
   "metadata": {},
   "source": [
    "### 2.5 Returning A Function\n",
    "As seen in the previous examples, you can build functions the print to help us visualize the output.\n",
    "Functions can also **return** a value.  The returned value can be modified or used later.  "
   ]
  },
  {
   "cell_type": "code",
   "execution_count": null,
   "metadata": {},
   "outputs": [],
   "source": [
    "# We are planning a party, and collecting rates from various vendors.  \n",
    "# We expect our party to last 6 hours, and want to calculate the total bartender rate.  \n",
    "\n",
    "def bartender_rate(bartender_hourly, party_length):\n",
    "    return bartender_hourly * party_length"
   ]
  },
  {
   "cell_type": "code",
   "execution_count": null,
   "metadata": {},
   "outputs": [],
   "source": [
    "# You received a quote, and the bartender costs $120 per hours. \n",
    "\n",
    "bartender_rate(120, 6)"
   ]
  },
  {
   "cell_type": "code",
   "execution_count": null,
   "metadata": {},
   "outputs": [],
   "source": [
    "# what if you were considering extending your party from 6 hours to 8 hours?\n",
    "\n",
    "bartender_rate()"
   ]
  },
  {
   "cell_type": "markdown",
   "metadata": {},
   "source": [
    "### 2.6 Practicing with Parameters\n",
    "The users of our party planning application want to calculate the total expenses they might need to consider when planning their party.  \n",
    "\n",
    "Write a function called [calculate_expenses] that will have four paramaters:\n",
    "- venue_price\n",
    "- catering_price\n",
    "- dj_hourly\n",
    "- bartender_hourly\n",
    "\n",
    "Within the body of the function, you will need to calculate the following:\n",
    "- dj rate\n",
    "- bartender rate\n",
    "- and **return** the total expenses based on a party that will last 6 hours "
   ]
  },
  {
   "cell_type": "code",
   "execution_count": null,
   "metadata": {},
   "outputs": [],
   "source": [
    "def calculate_expenses( ):\n",
    "    dj_rate  \n",
    "    bartender_rate  \n",
    "    return  \n"
   ]
  },
  {
   "cell_type": "code",
   "execution_count": null,
   "metadata": {},
   "outputs": [],
   "source": [
    "def calculate_expenses(venue_price, catering_price, dj_hourly, bartender_hourly, party_length):\n",
    "    dj_rate = dj_hourly * party_length\n",
    "    bartender_rate = bartender_hourly * party_length\n",
    "    return dj_rate + bartender_rate + venue_price + catering_price"
   ]
  },
  {
   "cell_type": "markdown",
   "metadata": {},
   "source": [
    "You've just received all of the quotes back from your vendors.  Time to test out your function. \n",
    "- venue_price = $500\n",
    "- catering_price = $800\n",
    "- dj_hourly = $100\n",
    "- bartender_hourly = $120\n",
    "\n",
    "You still think the party will last 6 hours.  How much are your calculated expenses?"
   ]
  },
  {
   "cell_type": "code",
   "execution_count": null,
   "metadata": {},
   "outputs": [],
   "source": [
    "calculate_expenses()\n"
   ]
  },
  {
   "cell_type": "code",
   "execution_count": null,
   "metadata": {},
   "outputs": [],
   "source": [
    "calculate_expenses(500, 800, 100, 120, 6)\n"
   ]
  },
  {
   "cell_type": "markdown",
   "metadata": {},
   "source": [
    "###  2.7 Multiple Returns\n",
    "\n",
    "A friend of yours is also planning a party, they are curious how much you are paying for your DJ. \n",
    "You can have multiple Returns in a single function.  We can return several values by separating them with a comma. \n",
    "\n",
    "Let's edit our original function to pull out the DJ rate from our function."
   ]
  },
  {
   "cell_type": "code",
   "execution_count": null,
   "metadata": {},
   "outputs": [],
   "source": [
    "def calculate_expenses(venue_price, catering_price, dj_hourly, bartender_hourly, party_length):\n",
    "    dj_rate = dj_hourly * party_length\n",
    "    bartender_rate = bartender_hourly * party_length\n",
    "    return dj_rate, dj_rate + bartender_rate + venue_price + catering_price"
   ]
  },
  {
   "cell_type": "code",
   "execution_count": null,
   "metadata": {},
   "outputs": [],
   "source": [
    "calculate_expenses(500, 800, 100, 120, 6)\n"
   ]
  },
  {
   "cell_type": "markdown",
   "metadata": {},
   "source": [
    "### 2.8  User Defined vs Built-In Functions\n",
    "\n",
    "We have been practicing with User Defined functions, but there are built-in functions that you can also leverage. \n",
    "\n",
    "Remember the `print()` function?  That is one of the most common. \n",
    "\n",
    "Here are some other popular ones:\n",
    "- `any()` = takes in an iterable object such as a list or tuple and returns `True` if any of the elements in the iterable are True.  If none of the elements in the iterable are True, returns False\n",
    "- `bool()` = convers a value into a Boolean True or False value\n",
    "- `dict()` = initializes a new **dictionary** from mapping n-number of object(key,value) pairs. \n",
    "- `exec()` = executes a code object or string containing Python code. \n",
    "- `float()` = returns a float value based on a string, numeric data type, or no value at all. \n",
    "- `global()` = returns a dictionary with all the global variables and symbols for the current program. \n",
    "- `len()` = returns the length of an object, which can either be a sequence or collection. \n",
    "- `list()` = returns a list rom an iterable\n",
    "- `max()` = returns the highest value from values given or an iterable.\n",
    "- `min()` = returns the lowest value from values given or an iterable. \n",
    "- `range()` = returns a sequence of numbers based on the given range. \n",
    "- `sorted()` = takes in an interator objective, such as a list, tuple, dictionary, set, or string, and sorts it according to a parameter. \n",
    "- `str()=` takes in a value that can be converted into a string, and returns a copy of the value in the string datatype. \n",
    "- `sum()` = takes in an iterable object, such as a list of tuple, and returns the sum of all elemts. \n",
    "- `type()` = returns the data type of the argument passed to the function. \n",
    "\n",
    "*(source: Codecademy)*"
   ]
  },
  {
   "cell_type": "markdown",
   "metadata": {},
   "source": [
    "Let's see some of these built-in functions in action: \n",
    "\n",
    "Create a variable called `party_rsvps`. \n",
    "\n",
    "You have received the following responses:\n",
    "| RSVP       |  RSVP Count |\n",
    "|------------|-------------|\n",
    "| Crandall   |  3          |\n",
    "| Walsh      |  2          |\n",
    "| Flynn      |  1          |\n",
    "| Miron      |  4          |\n",
    "| Srivastava |  2          |\n",
    "| Yeakel     |  3          |\n",
    "\n",
    "Calculate the number of people currently planning to attend your party and save as your variable `party_rsvps`"
   ]
  },
  {
   "cell_type": "code",
   "execution_count": null,
   "metadata": {},
   "outputs": [],
   "source": []
  },
  {
   "cell_type": "markdown",
   "metadata": {},
   "source": [
    "You might have used our straight forward `+` operator to do this, like:\n",
    "\n",
    "`party_rsvps = [3 + 2 + 1 + 4 + 2+ 3]`\n",
    "\n",
    "`party_rsvps`\n",
    "\n",
    "But let's try something else.  Let's assume you have exported the data out of an e-vite program, and it has provided you with a list:\n",
    "\n",
    "*again, don't worry about lists right now, we will be covering in the next chapter*\n",
    "\n",
    "you now save your exported list to the variable `party_rsvps`\n"
   ]
  },
  {
   "cell_type": "code",
   "execution_count": 3,
   "metadata": {},
   "outputs": [],
   "source": [
    "party_rsvps = [3, 2, 1, 4, 2, 3]"
   ]
  },
  {
   "cell_type": "markdown",
   "metadata": {},
   "source": [
    "Now that you have saved your  list as the variable `party_rsvps`, we can use the `sum()` function to calculate how many people are attending your party:"
   ]
  },
  {
   "cell_type": "markdown",
   "metadata": {},
   "source": [
    "#### `sum()`: "
   ]
  },
  {
   "cell_type": "code",
   "execution_count": 4,
   "metadata": {},
   "outputs": [
    {
     "data": {
      "text/plain": [
       "15"
      ]
     },
     "execution_count": 4,
     "metadata": {},
     "output_type": "execute_result"
    }
   ],
   "source": [
    "sum(party_rsvps)"
   ]
  },
  {
   "cell_type": "markdown",
   "metadata": {},
   "source": [
    "Now you know how many people are currently planning on attending your party! \n",
    "\n",
    "\n",
    "Next, you are curious what is the highest number of plus 1s being brought to your party.  Use the `max()` to find out:\n"
   ]
  },
  {
   "cell_type": "markdown",
   "metadata": {},
   "source": [
    "#### `max()`: "
   ]
  },
  {
   "cell_type": "code",
   "execution_count": null,
   "metadata": {},
   "outputs": [],
   "source": []
  },
  {
   "cell_type": "markdown",
   "metadata": {},
   "source": [
    "What about the lowest number of plus 1s being brought to your party?\n",
    "\n",
    "#### `min()`: "
   ]
  },
  {
   "cell_type": "code",
   "execution_count": null,
   "metadata": {},
   "outputs": [],
   "source": []
  },
  {
   "cell_type": "markdown",
   "metadata": {},
   "source": []
  }
 ],
 "metadata": {
  "kernelspec": {
   "display_name": ".venv",
   "language": "python",
   "name": "python3"
  },
  "language_info": {
   "codemirror_mode": {
    "name": "ipython",
    "version": 3
   },
   "file_extension": ".py",
   "mimetype": "text/x-python",
   "name": "python",
   "nbconvert_exporter": "python",
   "pygments_lexer": "ipython3",
   "version": "3.9.12"
  }
 },
 "nbformat": 4,
 "nbformat_minor": 2
}
