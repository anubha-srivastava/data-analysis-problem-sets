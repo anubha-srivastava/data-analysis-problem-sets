{
 "cells": [
  {
   "cell_type": "markdown",
   "metadata": {},
   "source": [
    "# Python Syntax & Fundamentals \n",
    "## Part 1: Quick Guide & Definitions\n",
    "\n",
    "[Click here to open this notebook in your browser](https://leifwalsh.github.io/data-analysis-problem-sets/lab/index.html?path=1-foundations/1.2-jupyter-and-python-syntax/1.2-jupyter-and-python-syntax-part-1.ipynb)"
   ]
  },
  {
   "cell_type": "markdown",
   "metadata": {},
   "source": [
    "In this section we are going to review a Quick Guide & Definitions:\n",
    "1. Running Cells\n",
    "2. Comments\n",
    "3. Values and a few primitive types\n",
    "4. Variables\n",
    "5. `+=` Operators \n",
    "6. Arithmetic Operations\n",
    "7. Numbers in Python\n",
    "8. Strings\n",
    "9. `print()` functions\n",
    "10. Parenthesis and Brackets\n",
    "11. Variables\n",
    "12. f-strings\n",
    "13. Errors\n",
    "14. Basic data structures\n",
    "\n",
    "\n",
    "(*sources: Codecademy, and docs.python.org, Leif Walsh, Sarah Crandall*)\n"
   ]
  },
  {
   "cell_type": "markdown",
   "metadata": {},
   "source": [
    "## Quick Guide & Definitions\n",
    "\n",
    "Python is a programming langugae that uses \"commands\" to communicate with a\n",
    "computer. We convey our commands to the computer by writing them in a text file\n",
    "that are called programs. Running a program means telling a computer to read\n",
    "the text file, translate it to the set of operation that it understands, and\n",
    "then performs those actions.\n",
    "\n",
    "The Python programming language is different from the command line language we\n",
    "saw in [Chapter 1.1](../1.1-command-line/1.1-command-line.ipynb). We're going\n",
    "to do most of our work in Python.\n",
    "\n",
    "A very simple Python program is:\n",
    "\n",
    "```python\n",
    "print(\"The sum of 3 and 4 is\", 3 + 4)\n",
    "```\n",
    "\n",
    "If you have a terminal open, you can run this program:\n",
    "\n",
    "```bash\n",
    "$ python -c 'print(\"The sum of 3 and 4 is\", 3 + 4)'\n",
    "The sum of 3 and 4 is 7\n",
    "```\n",
    "\n",
    "### What is a Jupyter Notebook?\n",
    "\n",
    "Jupyter is an interactive programming environment, which means you'll write a\n",
    "little code, run it, see what it does, and then write some more code.\n",
    "\n",
    "In contrast with traditional software development, where you typically write\n",
    "some code, then run it from the start (or run your tests from the start) each\n",
    "time you make changes, with Jupyter you're interacting with a live environment.\n",
    "You can load a bunch of data, run some things, and then make changes without\n",
    "restarting the process or discarding the data you've already loaded.\n",
    "\n",
    "This makes iterating on an idea much faster, especially when you're working\n",
    "with large data sets. But it can also be dangerous, as we'll see: if you aren't\n",
    "careful about how you structure your code, you can get a bit lost if you change\n",
    "too many things or forget what order you ran them."
   ]
  },
  {
   "cell_type": "markdown",
   "metadata": {},
   "source": [
    "## Running Cells\n",
    "\n",
    "In Jupyter, you write code in \"cells\" that contain snippets of code, which you\n",
    "can run in any order, but you usually run them top to bottom.\n",
    "\n",
    "To run a cell, click the \"play\" button, or use Ctrl+Enter to evaluate it, or\n",
    "Shift+Enter to evaluate it and move to the next cell.\n",
    "\n",
    "Try running your first cell now. Click on the next box and press Ctrl+Enter."
   ]
  },
  {
   "cell_type": "code",
   "execution_count": null,
   "metadata": {},
   "outputs": [],
   "source": [
    "print(\"The sum of 3 and 4 is\", 3 + 4)"
   ]
  },
  {
   "cell_type": "markdown",
   "metadata": {},
   "source": [
    "Now change the cell, change one of the numbers, and run it again to see what it\n",
    "does."
   ]
  },
  {
   "cell_type": "markdown",
   "metadata": {},
   "source": [
    "## Comments\n",
    "\n",
    "A comment is a piece of text within a program that is not executed.  It can be used to provide additional information related to the code. \n",
    "- comments can be used to help other people read the code\n",
    "- ignore a line of code while testing to see how a program will run without it\n",
    "- provide notes for yourself when experimenting with your code\n",
    "The # character is used to start a comment, and it continues until the end of the line\n",
    "\n",
    "Try running the next cell, you'll see it only does one thing:"
   ]
  },
  {
   "cell_type": "code",
   "execution_count": null,
   "metadata": {},
   "outputs": [],
   "source": [
    "# this is a comment--anything (like this text) that starts with the octothorpe\n",
    "# (#) character and continues to the end of the line. Comments are just\n",
    "# for you and your readers! The comments aren't evaluated as part of the\n",
    "# program, but everything else is evaluated, one line at a time.\n",
    "\n",
    "print(\"this is not a comment\") #this is also a comment\n",
    "# and so is this."
   ]
  },
  {
   "cell_type": "markdown",
   "metadata": {},
   "source": [
    "## Values and a few primitive types\n",
    "\n",
    "So far we've seen a couple of \"primitive\" types of values in Python:\n",
    "\n",
    "- `\"The sum of 3 and 4 is\"` is a \"string\", which is a weird jargon word that\n",
    "  means \"text\". You can use single quotes or double quotes to create a string.\n",
    "- `3` and `4` are \"integers\", which are whole numbers.\n",
    "\n",
    "There are a few other primitive types:\n",
    "\n",
    "- `3.14` is a \"float\", which is a number with a decimal point (again with the\n",
    "  jargon, \"float\" means \"floating point number\" and refers to the way the\n",
    "  computer stores these numbers).\n",
    "- `True` and `False` are \"booleans\", which are a special type of value that\n",
    "  represents truth or falsehood. For example, `3 < 4` is `True`, but `3 > 4` is\n",
    "  `False`.\n",
    "- `None` is a special value in Python that represents \"nothing\".\n",
    "\n",
    "In Jupyter, whenever a cell ends with some value, it just prints that value\n",
    "in the output. For example, if you run a cell with just `3` in it, the output\n",
    "will be `3`. If you run a cell with just `\"hello\"`, the output will be\n",
    "`\"hello\"`. Try running these cells:\n"
   ]
  },
  {
   "cell_type": "code",
   "execution_count": null,
   "metadata": {},
   "outputs": [],
   "source": [
    "3"
   ]
  },
  {
   "cell_type": "code",
   "execution_count": null,
   "metadata": {},
   "outputs": [],
   "source": [
    "\"hello\""
   ]
  },
  {
   "cell_type": "markdown",
   "metadata": {},
   "source": [
    "## Variables\n",
    "\n",
    "A variable is a name that refers to a value. You can think of it as a label\n",
    "that you stick on a value so you can refer to it later. For example, you might\n",
    "have a variable `x` that refers to the number `3`. Then you can use `x` in your\n",
    "program, and it will be the same as if you had written `3`.\n",
    "\n",
    "You can create a variable by writing a name, then an equals sign, then a value.\n",
    "For example:\n",
    "\n",
    "```python\n",
    "x = 3\n",
    "```\n",
    "\n",
    "This creates a variable `x` that refers to the number `3`. You can then use\n",
    "`x` in your program, and it will be the same as if you had written `3`.\n",
    "\n",
    "Try this:"
   ]
  },
  {
   "cell_type": "code",
   "execution_count": null,
   "metadata": {},
   "outputs": [],
   "source": [
    "x = 3\n",
    "y = 4\n",
    "print(\"The sum of\", x, \"and\", y, \"is\", x + y)"
   ]
  },
  {
   "cell_type": "markdown",
   "metadata": {},
   "source": [
    "If you have a cell that just assigns some variables, it doesn't print anything:"
   ]
  },
  {
   "cell_type": "code",
   "execution_count": null,
   "metadata": {},
   "outputs": [],
   "source": [
    "w = 5\n",
    "z = \"six\""
   ]
  },
  {
   "cell_type": "markdown",
   "metadata": {},
   "source": [
    "But after you run that, you can use those names:"
   ]
  },
  {
   "cell_type": "code",
   "execution_count": null,
   "metadata": {},
   "outputs": [],
   "source": [
    "w + x"
   ]
  },
  {
   "cell_type": "code",
   "execution_count": null,
   "metadata": {},
   "outputs": [],
   "source": [
    "print(z)"
   ]
  },
  {
   "cell_type": "markdown",
   "metadata": {},
   "source": [
    "Each time you run a cell, the variables you've created are stored in the\n",
    "working memory of your notebook. You can change what a variable means (just by\n",
    "using the equals sign again), and this may change what other cells do, if they\n",
    "use that variable.\n",
    "\n",
    "Let's try it. Create a variable `a` and set it to `3` in this cell:"
   ]
  },
  {
   "cell_type": "code",
   "execution_count": null,
   "metadata": {},
   "outputs": [],
   "source": []
  },
  {
   "cell_type": "markdown",
   "metadata": {},
   "source": [
    "Now, print `a * 2` in this cell:"
   ]
  },
  {
   "cell_type": "code",
   "execution_count": null,
   "metadata": {},
   "outputs": [],
   "source": []
  },
  {
   "cell_type": "markdown",
   "metadata": {},
   "source": [
    "Now change `a` to `4` in this cell (just type `a = 4` and press Ctrl+Enter):"
   ]
  },
  {
   "cell_type": "code",
   "execution_count": null,
   "metadata": {},
   "outputs": [],
   "source": []
  },
  {
   "cell_type": "markdown",
   "metadata": {},
   "source": [
    "Finally, go back to the cell where you printed `a * 2` and run it again. What\n",
    "happened?"
   ]
  },
  {
   "cell_type": "markdown",
   "metadata": {},
   "source": [
    "## Arithmetic\n",
    "\n",
    "Python has a few arithmetic operations:\n",
    "\n",
    "- `+` for addition\n",
    "- `-` for subtraction\n",
    "- `*` for multiplication\n",
    "- `/` for division\n",
    "- `**` for exponentiation\n",
    "- `%` for modulo (which gives the remainder when you divide one number by\n",
    "  another)\n",
    "\n",
    "Try a few:"
   ]
  },
  {
   "cell_type": "code",
   "execution_count": null,
   "metadata": {},
   "outputs": [],
   "source": [
    "3 + 4"
   ]
  },
  {
   "cell_type": "code",
   "execution_count": null,
   "metadata": {},
   "outputs": [],
   "source": [
    "3 - 1"
   ]
  },
  {
   "cell_type": "code",
   "execution_count": null,
   "metadata": {},
   "outputs": [],
   "source": [
    "6 * 7"
   ]
  },
  {
   "cell_type": "code",
   "execution_count": null,
   "metadata": {},
   "outputs": [],
   "source": [
    "8 / 4"
   ]
  },
  {
   "cell_type": "code",
   "execution_count": null,
   "metadata": {},
   "outputs": [],
   "source": [
    "10 ** 3"
   ]
  },
  {
   "cell_type": "code",
   "execution_count": null,
   "metadata": {},
   "outputs": [],
   "source": [
    "100 % 3"
   ]
  },
  {
   "cell_type": "markdown",
   "metadata": {},
   "source": [
    "You can also add strings together, which is called \"concatenation\":"
   ]
  },
  {
   "cell_type": "code",
   "execution_count": null,
   "metadata": {},
   "outputs": [],
   "source": [
    "\"hello\" + \" \" + \"world\""
   ]
  },
  {
   "cell_type": "markdown",
   "metadata": {},
   "source": [
    "You can multiply strings by numbers too, which is kind of weird:"
   ]
  },
  {
   "cell_type": "code",
   "execution_count": null,
   "metadata": {},
   "outputs": [],
   "source": [
    "\"ba\" + \"na\" * 2"
   ]
  },
  {
   "cell_type": "markdown",
   "metadata": {},
   "source": [
    "You can't multiply strings by things that aren't integers, though:"
   ]
  },
  {
   "cell_type": "code",
   "execution_count": null,
   "metadata": {},
   "outputs": [],
   "source": [
    "\"hello\" * 3.14"
   ]
  },
  {
   "cell_type": "markdown",
   "metadata": {},
   "source": [
    "That's an error! We'll come back to how to read that soon."
   ]
  },
  {
   "cell_type": "markdown",
   "metadata": {},
   "source": [
    "## += Operator\n",
    "\n",
    "The += (plus-equals) operator is a convenient way to add a value to an existing\n",
    "variable, and assign the new value back to the same variable.\n",
    "\n",
    "Essentially, `x += y` is the same as `x = x + y`.\n",
    "\n",
    "When the variable and the values are strings, this operator performs\n",
    "concatenation instead of addition.\n",
    "\n",
    "This operation is performed in-place, meaning that any other variable which\n",
    "points to the variable being updated will also be updated.\n",
    "\n",
    "Let's try it:"
   ]
  },
  {
   "cell_type": "code",
   "execution_count": null,
   "metadata": {},
   "outputs": [],
   "source": [
    "counter = 1"
   ]
  },
  {
   "cell_type": "code",
   "execution_count": null,
   "metadata": {},
   "outputs": [],
   "source": [
    "print(counter)"
   ]
  },
  {
   "cell_type": "code",
   "execution_count": null,
   "metadata": {},
   "outputs": [],
   "source": [
    "counter += 1"
   ]
  },
  {
   "cell_type": "code",
   "execution_count": null,
   "metadata": {},
   "outputs": [],
   "source": [
    "print(counter)"
   ]
  },
  {
   "cell_type": "code",
   "execution_count": null,
   "metadata": {},
   "outputs": [],
   "source": [
    "counter += counter\n",
    "print(counter)"
   ]
  },
  {
   "cell_type": "code",
   "execution_count": null,
   "metadata": {},
   "outputs": [],
   "source": [
    "# Try running this cell\n",
    "2 + 2"
   ]
  },
  {
   "cell_type": "markdown",
   "metadata": {},
   "source": [
    "## Cell Outputs\n",
    "\n",
    "Each time you run a cell, it executes all the code in it, but only prints\n",
    "the last value:"
   ]
  },
  {
   "cell_type": "code",
   "execution_count": null,
   "metadata": {},
   "outputs": [],
   "source": [
    "# This cell computes two things. You will see that the first one doesn't\n",
    "# get printed in the output. Just the last line (the last \"expression\")\n",
    "# gets printed.\n",
    "\n",
    "# The sum of the first six Fibonacci numbers:\n",
    "0 + 1 + 1 + 2 + 3 + 5\n",
    "\n",
    "# And the sum of the first six primes:\n",
    "2 + 3 + 5 + 7 + 11 + 13"
   ]
  },
  {
   "cell_type": "markdown",
   "metadata": {},
   "source": [
    "Can you compute th sum of the numbers 1 through 10 in the next cell?"
   ]
  },
  {
   "cell_type": "code",
   "execution_count": null,
   "metadata": {},
   "outputs": [],
   "source": []
  },
  {
   "cell_type": "markdown",
   "metadata": {},
   "source": [
    "### Numbers in Python\n",
    "There are few types of number data types, and multiple ways of storing numbers.  Which one you use depends on your intended purpose for the number you are saving:\n",
    "- **Integer:** [int] is a whole number.  It has no decimal and contains all counting numbers (1, 2, 3...) as well as their negative counterparts and the number 0.  The number 0 represents an integer value but the same number written as 0.0 would represent a floating point number.  \n",
    "\n",
    "- **Floating-point number:** [float] is a decimal number.  It can be used to represent fractional quantities as well as precise measurements.  For example, a = 3/5 can not be represented as an integer, so the variable \"a\" is assigned a floating point value of 0.6"
   ]
  },
  {
   "cell_type": "markdown",
   "metadata": {},
   "source": [
    "### Strings\n",
    "Computer programmers refer to blocks of text as strings.  In python a string is either surrounded by double quotes (\"Hello World\") or single quotes ('Hello World'). \n",
    "\n",
    "It doesn't matter if you use single quotes or double quotes, just be consistent.\n",
    "Depending on the analysis you are completing, you might use [strings] in defining your functions, as arguments to be passed through a function, or dealing with strings as data types. "
   ]
  },
  {
   "cell_type": "code",
   "execution_count": null,
   "metadata": {},
   "outputs": [],
   "source": [
    "# this is a string\n",
    "\n",
    "\"Hello World\""
   ]
  },
  {
   "cell_type": "code",
   "execution_count": null,
   "metadata": {},
   "outputs": [],
   "source": [
    "# this is ALSO a string\n",
    "\n",
    "'Hello World'"
   ]
  },
  {
   "cell_type": "markdown",
   "metadata": {},
   "source": [
    "### print() Function\n",
    "the print() function is used to output text, numbers, or other printable information to the console. \n",
    "\n",
    "It takes one or more arguments and will output each of the arguments to the console seprated by a space.  \n",
    "If no arguments are provided, the print() function will output a blank line. "
   ]
  },
  {
   "cell_type": "code",
   "execution_count": null,
   "metadata": {},
   "outputs": [],
   "source": [
    "print(\"Hello World!\")\n",
    "print(100)\n",
    "pi = 3.14159\n",
    "print(pi)"
   ]
  },
  {
   "cell_type": "markdown",
   "metadata": {},
   "source": [
    "You can print things, multiple times in a cell if you like. "
   ]
  },
  {
   "cell_type": "code",
   "execution_count": null,
   "metadata": {},
   "outputs": [],
   "source": [
    "print(34 + 55)\n",
    "print(\"I am a banana!\")"
   ]
  },
  {
   "cell_type": "markdown",
   "metadata": {},
   "source": [
    "### Parentheses\n",
    "\n",
    "**Parenthesis:** to call a function in Python, type out its name followed by a parentheses().\n",
    "\n",
    "Can you name a function we've used so far?"
   ]
  },
  {
   "cell_type": "markdown",
   "metadata": {},
   "source": [
    "\n",
    "**Brackets:** a list begins and ends with square brackets, and either item is separated by a comma, good practice to insert a space after each comma.  A bracket is used for dataframes.  Defining a list always has a list name = [ ]\n",
    "\n",
    "NOTE: we will cover *Lists* in chapter 3\n"
   ]
  },
  {
   "cell_type": "markdown",
   "metadata": {},
   "source": [
    "### Variables\n",
    "A variable is used to store data that will be used by the program.  You can then use that name again later to refer to the value.  \n",
    "\n",
    "We assign variables with the `=` symbol: \n",
    "\n",
    "- This data can be a number, a string, a Boolean, a list or some other data type.  Every variable has a name which can consist of letters, numbers, and the underscore character `_`. \n",
    "- If there is a greeting we want to present, a date we need to reuse, or a user ID we need to remember we can create a variable which can store a value.  \n",
    "- The equal sign `=` is used to assign a value to a variable.  After the initial assignment is made, the value of a variable can be updated to new values as needed. \n",
    "- Variables can't begin with numbers but they can have numbers after the first letter (e.g. `cool_variable_5`). \n",
    "- Variables that are assigned numeric values can be treated the same as the number themselves.  Two variables can be added together, divided by 2 and multiplied by a third variable.  Performing arithmetic on variables does not change the variable, you can only update a variable using the `=` signs.  "
   ]
  },
  {
   "cell_type": "code",
   "execution_count": null,
   "metadata": {},
   "outputs": [],
   "source": [
    "# these are all valid variable names and assignment\n",
    "user_name = \"leif\"\n",
    "user_id = 100\n",
    "verified = False\n",
    "\n",
    "# a variable's value can be changed after assignment\n",
    "points = 100\n",
    "points = 120\n"
   ]
  },
  {
   "cell_type": "markdown",
   "metadata": {},
   "source": [
    "**Remeber:** We assign variables with the `=` symbol:"
   ]
  },
  {
   "cell_type": "code",
   "execution_count": null,
   "metadata": {},
   "outputs": [],
   "source": [
    "x = 101"
   ]
  },
  {
   "cell_type": "markdown",
   "metadata": {},
   "source": [
    "Then in other cells we can use them:"
   ]
  },
  {
   "cell_type": "code",
   "execution_count": null,
   "metadata": {},
   "outputs": [],
   "source": [
    "print(\"There are\", x, \"dalmatians\")"
   ]
  },
  {
   "cell_type": "markdown",
   "metadata": {},
   "source": [
    "You can assign as many variables as you like in the same cell, and use them too:"
   ]
  },
  {
   "cell_type": "code",
   "execution_count": null,
   "metadata": {},
   "outputs": [],
   "source": [
    "a = 3\n",
    "b = 2\n",
    "a * b"
   ]
  },
  {
   "cell_type": "markdown",
   "metadata": {},
   "source": [
    "You can also change what a variable that's already defined means. This\n",
    "is where a lot of the \"danger\" of Jupyter notebooks comes from.\n",
    "\n",
    "Run this cell, then go back and run the cell about dalmatians again:"
   ]
  },
  {
   "cell_type": "code",
   "execution_count": null,
   "metadata": {},
   "outputs": [],
   "source": [
    "x = -1"
   ]
  },
  {
   "cell_type": "markdown",
   "metadata": {},
   "source": [
    "Hopefully you noticed how, when you ran the dalmatians cell, it printed\n",
    "something different, because you changed what `x` meant.\n",
    "\n",
    "You can look at what all the names you've created mean:"
   ]
  },
  {
   "cell_type": "code",
   "execution_count": null,
   "metadata": {},
   "outputs": [],
   "source": [
    "print(\"a =\", a)\n",
    "print(\"b =\", b)\n",
    "print(\"x =\", x)"
   ]
  },
  {
   "cell_type": "markdown",
   "metadata": {},
   "source": [
    "### f-Strings\n",
    "##### A quick note on string formatting:\n",
    "Now that we have variables and strings, we can talk about \"f-strings\":\n",
    "these are strings with the letter `f` in front of them, and they can\n",
    "expand the values of variables inside them. So, we can talk about\n",
    "dalmatians again in a new way:"
   ]
  },
  {
   "cell_type": "code",
   "execution_count": null,
   "metadata": {},
   "outputs": [],
   "source": [
    "x = 101\n",
    "print(f\"There are {x} dalmatians\")"
   ]
  },
  {
   "cell_type": "markdown",
   "metadata": {},
   "source": [
    "The format expressions inside f-strings are really powerful. We won't\n",
    "talk about all of them here, but one that's really useful is the \"debug\n",
    "print\" one, where you add a `=` character inside the brackets:"
   ]
  },
  {
   "cell_type": "code",
   "execution_count": null,
   "metadata": {},
   "outputs": [],
   "source": [
    "print(f\"{a=}\")\n",
    "print(f\"{b=}\")\n",
    "print(f\"{x=}\")"
   ]
  },
  {
   "cell_type": "markdown",
   "metadata": {},
   "source": [
    "You can also format with larger expressions:"
   ]
  },
  {
   "cell_type": "code",
   "execution_count": null,
   "metadata": {},
   "outputs": [],
   "source": [
    "print(f\"{a * b = }\")"
   ]
  },
  {
   "cell_type": "markdown",
   "metadata": {},
   "source": [
    "## Errors\n",
    "\n",
    "When programs throw errors that we didn't expect to encounter, we get what's\n",
    "called a \"traceback\", and the code will point to the location where the error\n",
    "occurred with a ^ character. \n",
    "\n",
    "Some common errors that we encounter while writing python are:\n",
    "- **SyntaxError**: means there is something wrong with the way your program is\n",
    "  written, like punctuation that does not belong, a comment where it is not\n",
    "  expected, or a missing parentheses can all trigger SyntaxError\n",
    "- **NameError**: occurs when the Python interpreter sees a word it does not\n",
    "  recognize. Code that contains something that looks like a variable but was\n",
    "  never defined will throw a NameError.\n",
    "- **TypeError**: occurs when you try to combine two objects that are not\n",
    "  compatible. For example, you can't add a string to an integer, or multiply\n",
    "  a string by another string.\n",
    "\n",
    "Let's make some errors:"
   ]
  },
  {
   "cell_type": "code",
   "execution_count": null,
   "metadata": {},
   "outputs": [],
   "source": [
    "a +"
   ]
  },
  {
   "cell_type": "code",
   "execution_count": null,
   "metadata": {},
   "outputs": [],
   "source": [
    "print(sarah)"
   ]
  },
  {
   "cell_type": "code",
   "execution_count": null,
   "metadata": {},
   "outputs": [],
   "source": [
    "\"strings can't\" * \"be multiplied\""
   ]
  },
  {
   "cell_type": "markdown",
   "metadata": {},
   "source": [
    "## Data Structures\n",
    "\n",
    "Python comes with a few useful data structures built in. We'll start with just\n",
    "two you'll use a lot:\n",
    "\n",
    "- **Lists**: a list is an ordered sequence of things. You can put anything you\n",
    "  like in a list, and you can put different types of things in the same list.\n",
    "  You can even put other lists in a list. A list is defined with square\n",
    "  brackets, and the things in it are separated by commas:\n",
    "\n",
    "  ```python\n",
    "  cool_list = [\"white vans\", \"bear\", \"ice\"]\n",
    "  ```\n",
    "\n",
    "- **Dictionaries**: sometimes called \"dicts\" or \"maps\", it associates pairs of\n",
    "  things. The first thing in the pair is called the \"key\", and the second is\n",
    "  called the \"value\". You can use the key to look up the value. A dictionary is\n",
    "  defined with curly braces, and the pairs are separated by commas, with the\n",
    "  key and value separated by a colon:\n",
    "\n",
    "  ```python\n",
    "  cool_dict = {\"shoes\": \"white vans\", \"animal\": \"bear\", \"food\": \"ice\"}\n",
    "  ```\n",
    "\n",
    "Let's actually make these data structures:"
   ]
  },
  {
   "cell_type": "code",
   "execution_count": null,
   "metadata": {},
   "outputs": [],
   "source": [
    "cool_list = [\"white vans\", \"bear\", \"ice\"]\n",
    "cool_dict = {\"shoes\": \"white vans\", \"animal\": \"bear\", \"food\": \"ice\"}"
   ]
  },
  {
   "cell_type": "code",
   "execution_count": null,
   "metadata": {},
   "outputs": [],
   "source": [
    "cool_list"
   ]
  },
  {
   "cell_type": "code",
   "execution_count": null,
   "metadata": {},
   "outputs": [],
   "source": [
    "cool_dict"
   ]
  },
  {
   "cell_type": "markdown",
   "metadata": {},
   "source": [
    "\n",
    "In both cases, you use `[]` to look up a value.\n",
    "\n",
    "For a list, you use the index of the thing you want to look up, which is an\n",
    "integer (the first thing is at index 0, the second at index 1, and so on)."
   ]
  },
  {
   "cell_type": "code",
   "execution_count": null,
   "metadata": {},
   "outputs": [],
   "source": [
    "cool_list[1]"
   ]
  },
  {
   "cell_type": "markdown",
   "metadata": {},
   "source": [
    "For dicts, you use the key you want to look up:"
   ]
  },
  {
   "cell_type": "code",
   "execution_count": null,
   "metadata": {},
   "outputs": [],
   "source": [
    "cool_dict[\"animal\"]"
   ]
  },
  {
   "cell_type": "markdown",
   "metadata": {},
   "source": [
    "If you try to look up something that's not in the list or dict, you'll get an\n",
    "error:"
   ]
  },
  {
   "cell_type": "code",
   "execution_count": null,
   "metadata": {},
   "outputs": [],
   "source": [
    "cool_list[10]"
   ]
  },
  {
   "cell_type": "code",
   "execution_count": null,
   "metadata": {},
   "outputs": [],
   "source": [
    "cool_dict[\"mc hammer\"]"
   ]
  }
 ],
 "metadata": {
  "kernelspec": {
   "display_name": ".venv",
   "language": "python",
   "name": "python3"
  },
  "language_info": {
   "codemirror_mode": {
    "name": "ipython",
    "version": 3
   },
   "file_extension": ".py",
   "mimetype": "text/x-python",
   "name": "python",
   "nbconvert_exporter": "python",
   "pygments_lexer": "ipython3",
   "version": "3.11.8"
  }
 },
 "nbformat": 4,
 "nbformat_minor": 2
}
