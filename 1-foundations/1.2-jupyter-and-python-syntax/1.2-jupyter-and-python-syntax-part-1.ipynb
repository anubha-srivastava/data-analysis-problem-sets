{
 "cells": [
  {
   "cell_type": "markdown",
   "metadata": {},
   "source": [
    "# Python Syntax & Fundamentals \n",
    "## Chapter 1: Quick Guide & Definitions\n"
   ]
  },
  {
   "cell_type": "markdown",
   "metadata": {},
   "source": [
    "In this section we are going to review a Quick Guide & Definitions:\n",
    "1. Running Cells\n",
    "2. Comments\n",
    "3. `+=` Operators \n",
    "4. Arithmetic Operations\n",
    "5. Numbers in Python\n",
    "6. Strings\n",
    "7. `print()` functions\n",
    "8. Parenthesis and Brackets\n",
    "9. Variables\n",
    "10. f-strings\n",
    "11. Errors\n",
    "\n",
    "\n",
    "(*sources: Codecademy, and docs.python.org, Leif Walsh, Sarah Crandall*)\n"
   ]
  },
  {
   "cell_type": "markdown",
   "metadata": {},
   "source": [
    "## Quick Guide & Definitions\n",
    "\n",
    "Python is a programming langugae that uses \"command\" to communicate with a computer.  We convey our commands to the computer by writing them in a text file that are called programs.  Running a program means telling a computer to read the text file, translate it to the set of operation that it understands, and then performs those actions.  \n",
    "\n",
    "\n",
    "**What is a Jupyter Notebook?**\n",
    "\n",
    "Jupyter is an interactive programming environment, which means you'll\n",
    "write a little code, run it, see what it does, and then write some more\n",
    "code.\n",
    "\n",
    "In contrast with traditional software development, where you typically\n",
    "write some code, then run it from the start (or run your tests from the\n",
    "start) each time you make changes, with Jupyter you're interacting with\n",
    "a live environment. You can load a bunch of data, run some things, and\n",
    "then make changes without restarting the process or discarding the data\n",
    "you've already loaded.\n",
    "\n",
    "This makes iterating on an idea much faster, especially when you're\n",
    "working with large data sets. But it can also be dangerous, as we'll\n",
    "see: if you aren't careful about how you structure your code, you can\n",
    "get a bit lost if you change too many things or forget what order you\n",
    "ran them.\n"
   ]
  },
  {
   "cell_type": "markdown",
   "metadata": {},
   "source": [
    "### Running Cells\n",
    "In Jupyter, you write code in \"cells\" that contain snippets of code,\n",
    "which you can run in any order, but you usually run them top to bottom.\n",
    "\n",
    "To run a cell, click the \"play\" button, or use Ctrl-Enter to evaluate\n",
    "it, or Shift-Enter to evaluate it and move to the next cell."
   ]
  },
  {
   "cell_type": "markdown",
   "metadata": {},
   "source": [
    "#### Comments\n",
    "A comment is a piece of text within a program that is not executed.  It can be used to provide additional information related to the code. \n",
    "- comments can be used to help other people read the code\n",
    "- ignore a line of code while testing to see how a program will run without it\n",
    "- provide notes for yourself when experimenting with your code\n",
    "The # character is used to start a comment, and it continues until the end of the line"
   ]
  },
  {
   "cell_type": "code",
   "execution_count": 1,
   "metadata": {},
   "outputs": [
    {
     "name": "stdout",
     "output_type": "stream",
     "text": [
      "this is not a comment\n"
     ]
    }
   ],
   "source": [
    "# this is a comment--anything (like this text) that starts with the octothorpe\n",
    "# (#) character and continues to the end of the line. Comments are just\n",
    "# for you and your readers! The comments aren't evaluated as part of the\n",
    "# program, but everything else is evaluated, one line at a time.\n",
    "\n",
    "print(\"this is not a comment\") #this is also a comment\n",
    "# and so is this."
   ]
  },
  {
   "cell_type": "markdown",
   "metadata": {},
   "source": [
    "### += Operator\n",
    "The += (plus-equals) operator is a convenient way to add a value to an existing variable, and assign the new value back to the same variable.  \n",
    "\n",
    "When the variable and the values are strings, this operatorr performs strings concatenation instead of addition.  \n",
    "\n",
    "This operation is performed in-place, meaning that any other variable which points to the variable being updated will also be updated.  "
   ]
  },
  {
   "cell_type": "code",
   "execution_count": null,
   "metadata": {},
   "outputs": [],
   "source": [
    "# Try running this cell\n",
    "2 + 2"
   ]
  },
  {
   "cell_type": "code",
   "execution_count": null,
   "metadata": {},
   "outputs": [],
   "source": [
    "# This cell computes two things. You will see that the first one doesn't\n",
    "# get printed in the output. Just the last line (the last \"expression\")\n",
    "# gets printed.\n",
    "\n",
    "# The sum of the first six Fibonacci numbers:\n",
    "0 + 1 + 1 + 2 + 3 + 5\n",
    "\n",
    "# And the sum of the first six primes:\n",
    "2 + 3 + 5 + 7 + 11 + 13"
   ]
  },
  {
   "cell_type": "markdown",
   "metadata": {},
   "source": [
    "Can you compute th sum of the numbers 1 through 10 in the next cell?"
   ]
  },
  {
   "cell_type": "code",
   "execution_count": null,
   "metadata": {},
   "outputs": [],
   "source": []
  },
  {
   "cell_type": "markdown",
   "metadata": {},
   "source": [
    "### Arithmetic Operations\n",
    "You can perform different types of arithmetic operations on literal number, variables or a combination of both.  \n",
    "These are the the primary arithmetic operators:\n",
    "- (+) for addition\n",
    "- (-) for subtraction\n",
    "- (*) for multiplication\n",
    "- (/) for division\n",
    "- (**) for exponentiation\n",
    "- (%) for modulus (used to return the remainder).  A modulo calculation returns the remainder of division between the first and second number.  For example:\n",
    "    - The result of the expressions 4 % 2 would result in the value 0, because 4 is evenly divisible by 2 leaving no remainder\n",
    "    - The result of the expression 7 % 3 would return 1, because 7 is not evenly divisible by 3, leaving a remainder of 1. \n"
   ]
  },
  {
   "cell_type": "markdown",
   "metadata": {},
   "source": [
    "### Numbers in Python\n",
    "There are few types of number data types, and multiple ways of storing numbers.  Which one you use depends on your intended purpose for the number you are saving:\n",
    "- **Integer:** [int] is a whole number.  It has no decimal and contains all counting numbers (1, 2, 3...) as well as their negative counterparts and the number 0.  The number 0 represents an integer value but the same number written as 0.0 would represent a floating point number.  \n",
    "\n",
    "- **Floating-point number:** [float] is a decimal number.  It can be used to represent fractional quantities as well as precise measurements.  For example, a = 3/5 can not be represented as an integer, so the variable \"a\" is assigned a floating point value of 0.6"
   ]
  },
  {
   "cell_type": "markdown",
   "metadata": {},
   "source": [
    "### Strings\n",
    "Computer programmers refer to blocks of text as strings.  In python a string is either surrounded by double quotes (\"Hello World\") or single quotes ('Hello World'). \n",
    "\n",
    "It doesn't matter if you use single quotes or double quotes, just be consistent.\n",
    "Depending on the analysis you are completing, you might use [strings] in defining your functions, as arguments to be passed through a function, or dealing with strings as data types. "
   ]
  },
  {
   "cell_type": "code",
   "execution_count": null,
   "metadata": {},
   "outputs": [],
   "source": [
    "# this is a string\n",
    "\n",
    "\"Hello World\""
   ]
  },
  {
   "cell_type": "code",
   "execution_count": null,
   "metadata": {},
   "outputs": [],
   "source": [
    "# this is ALSO a string\n",
    "\n",
    "'Hello World'"
   ]
  },
  {
   "cell_type": "markdown",
   "metadata": {},
   "source": [
    "### print() Function\n",
    "the print() function is used to output text, numbers, or other printable information to the console. \n",
    "\n",
    "It takes one or more arguments and will output each of the arguments to the console seprated by a space.  \n",
    "If no arguments are provided, the print() function will output a blank line. "
   ]
  },
  {
   "cell_type": "code",
   "execution_count": 2,
   "metadata": {},
   "outputs": [
    {
     "name": "stdout",
     "output_type": "stream",
     "text": [
      "Hello World!\n",
      "100\n",
      "3.14159\n"
     ]
    }
   ],
   "source": [
    "print(\"Hello World!\")\n",
    "print(100)\n",
    "pi = 3.14159\n",
    "print(pi)"
   ]
  },
  {
   "cell_type": "markdown",
   "metadata": {},
   "source": [
    "You can print things, multiple times in a cell if you like. "
   ]
  },
  {
   "cell_type": "code",
   "execution_count": null,
   "metadata": {},
   "outputs": [],
   "source": [
    "print(34 + 55)\n",
    "print(\"I am a banana!\")"
   ]
  },
  {
   "cell_type": "markdown",
   "metadata": {},
   "source": [
    "### Parenthesis & Brackets\n",
    "\n",
    "**Parenthesis:** to call a function in Python, type out its name followed by a parentheses().\n",
    "\n",
    "**Brackets:** a list begins and ends with square brackets, and either item is separated by a comma, good practice to insert a space after each comma.  A bracket is used for dataframes.  Defining a list always has a list name = [ ]\n",
    "\n",
    "NOTE: we will cover *Lists* in chapter 3\n"
   ]
  },
  {
   "cell_type": "markdown",
   "metadata": {},
   "source": [
    "### Variables\n",
    "A variable is used to store data that will be used by the program.  You can then use that name again later to refer to the value.  \n",
    "\n",
    "We assign variables with the `=` symbol: \n",
    "\n",
    "- This data can be a number, a string, a Boolean, a list or some other data type.  Every variable has a name which can consist of letters, numbers, and the underscore character `_`. \n",
    "- If there is a greeting we want to present, a date we need to reuse, or a user ID we need to remember we can create a variable which can stoe a value.  \n",
    "- The equal sign `=` is used to assign a value to a variable.  After the initial assignment is made, the value of a variable can be updated to new values as needed. \n",
    "- Variables can't begin with numbers but they can have numbers after the first letter (e.g. `cool_variable_5`). \n",
    "- Variables that are assigned numeric values can be treated the same as the number themselves.  Two variables can be added together, divided by 2 and multiplied by a third variable.  Performing arithmetic on variables does not change the variable, you can only update a variable using the `=` signs.  "
   ]
  },
  {
   "cell_type": "code",
   "execution_count": null,
   "metadata": {},
   "outputs": [],
   "source": [
    "# these are all valid variable names and assignment\n",
    "user_name = \"leif\"\n",
    "user_id = 100\n",
    "verified = False\n",
    "\n",
    "# a variable's value can be changed after assignment\n",
    "points = 100\n",
    "points = 120\n"
   ]
  },
  {
   "cell_type": "markdown",
   "metadata": {},
   "source": [
    "**Remeber:** We assign variables with the `=` symbol:"
   ]
  },
  {
   "cell_type": "code",
   "execution_count": 3,
   "metadata": {},
   "outputs": [],
   "source": [
    "x = 101"
   ]
  },
  {
   "cell_type": "markdown",
   "metadata": {},
   "source": [
    "Then in other cells we can use them:"
   ]
  },
  {
   "cell_type": "code",
   "execution_count": null,
   "metadata": {},
   "outputs": [],
   "source": [
    "print(\"There are\", x, \"dalmatians\")"
   ]
  },
  {
   "cell_type": "markdown",
   "metadata": {},
   "source": [
    "You can assign as many variables as you like in the same cell, and use them too:"
   ]
  },
  {
   "cell_type": "code",
   "execution_count": null,
   "metadata": {},
   "outputs": [],
   "source": [
    "a = 3\n",
    "b = 2\n",
    "a * b"
   ]
  },
  {
   "cell_type": "markdown",
   "metadata": {},
   "source": [
    "You can also change what a variable that's already defined means. This\n",
    "is where a lot of the \"danger\" of Jupyter notebooks comes from.\n",
    "\n",
    "Run this cell, then go back and run the cell about dalmatians again:"
   ]
  },
  {
   "cell_type": "code",
   "execution_count": null,
   "metadata": {},
   "outputs": [],
   "source": [
    "x = -1"
   ]
  },
  {
   "cell_type": "markdown",
   "metadata": {},
   "source": [
    "Hopefully you noticed how, when you ran the dalmatians cell, it printed\n",
    "something different, because you changed what `x` meant.\n",
    "\n",
    "You can look at what all the names you've created mean:"
   ]
  },
  {
   "cell_type": "code",
   "execution_count": null,
   "metadata": {},
   "outputs": [],
   "source": [
    "print(\"a =\", a)\n",
    "print(\"b =\", b)\n",
    "print(\"x =\", x)"
   ]
  },
  {
   "cell_type": "markdown",
   "metadata": {},
   "source": [
    "### f-Strings\n",
    "##### A quick note on string formatting:\n",
    "Now that we have variables and strings, we can talk about \"f-strings\":\n",
    "these are strings with the letter `f` in front of them, and they can\n",
    "expand the values of variables inside them. So, we can talk about\n",
    "dalmatians again in a new way:"
   ]
  },
  {
   "cell_type": "code",
   "execution_count": null,
   "metadata": {},
   "outputs": [],
   "source": [
    "x = 101\n",
    "print(f\"There are {x} dalmatians\")"
   ]
  },
  {
   "cell_type": "markdown",
   "metadata": {},
   "source": [
    "The format expressions inside f-strings are really powerful. We won't\n",
    "talk about all of them here, but one that's really useful is the \"debug\n",
    "print\" one, where you add a `=` character inside the brackets:"
   ]
  },
  {
   "cell_type": "code",
   "execution_count": null,
   "metadata": {},
   "outputs": [],
   "source": [
    "print(f\"{a=}\")\n",
    "print(f\"{b=}\")\n",
    "print(f\"{x=}\")"
   ]
  },
  {
   "cell_type": "markdown",
   "metadata": {},
   "source": [
    "You can also format with larger expressions:"
   ]
  },
  {
   "cell_type": "code",
   "execution_count": null,
   "metadata": {},
   "outputs": [],
   "source": [
    "print(f\"{a * b = }\")"
   ]
  },
  {
   "cell_type": "markdown",
   "metadata": {},
   "source": [
    "### Errors\n",
    "When programs throw error that we didn't expect to encounter, we call them error bugs, and the code will point to the location where the error occurred with a ^ character. \n",
    "\n",
    "Two common errors that we encounter while writing python are:\n",
    "- **SyntaxError**: means there is something wrong with the way your program is written, like punctuation that does not belong, a comment where it is not expected, or a missing parentheses can all trigger SyntaxError\n",
    "- **NameError**: occurs when the Python interpreter sees a word it does not recognize.  Code that contains something that looks like a variable but was never defined will throw a NameError.  "
   ]
  }
 ],
 "metadata": {
  "kernelspec": {
   "display_name": ".venv",
   "language": "python",
   "name": "python3"
  },
  "language_info": {
   "codemirror_mode": {
    "name": "ipython",
    "version": 3
   },
   "file_extension": ".py",
   "mimetype": "text/x-python",
   "name": "python",
   "nbconvert_exporter": "python",
   "pygments_lexer": "ipython3",
   "version": "3.9.12"
  }
 },
 "nbformat": 4,
 "nbformat_minor": 2
}
