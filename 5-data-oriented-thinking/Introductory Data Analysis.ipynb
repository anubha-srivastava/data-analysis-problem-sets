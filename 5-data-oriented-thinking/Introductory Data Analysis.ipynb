{
 "cells": [
  {
   "cell_type": "markdown",
   "id": "9f28e4e4",
   "metadata": {},
   "source": [
    "# Introductory data analysis with a real world dataset"
   ]
  },
  {
   "cell_type": "markdown",
   "id": "2419793a",
   "metadata": {},
   "source": [
    "In this notebook, we'll cover introductory Data Analysis skills that can help you analyze new datasets in real life. We've been exploring different pandas techniques in the previous problem sets. Let's see how we can apply those techniques to clean, explore, and gain insights from the \"Most Watched Netflix Original Shows\" dataset. Credit: [Muhmad Akmal,  Kaggle](https://www.kaggle.com/code/muhmadakmal/most-watched-netflix-original-shows-tv-time/input)\n"
   ]
  },
  {
   "cell_type": "markdown",
   "id": "763a8f84",
   "metadata": {},
   "source": [
    "## Loading the data"
   ]
  },
  {
   "cell_type": "markdown",
   "id": "dbf88905",
   "metadata": {},
   "source": [
    "Let's load the data in pandas and glance at the first few rows."
   ]
  },
  {
   "cell_type": "code",
   "execution_count": 33,
   "id": "6bbce64b",
   "metadata": {},
   "outputs": [],
   "source": [
    "import pandas as pd\n",
    "df = pd.read_csv('netflix_data.csv')"
   ]
  },
  {
   "cell_type": "markdown",
   "id": "19230f6a",
   "metadata": {},
   "source": [
    "Use `df.head()` to return the first n rows of a dataframe based on position. By default,`df.head()` will return the first 5 rows \n"
   ]
  },
  {
   "cell_type": "code",
   "execution_count": 2,
   "id": "4c18375b",
   "metadata": {},
   "outputs": [
    {
     "data": {
      "text/html": [
       "<div>\n",
       "<style scoped>\n",
       "    .dataframe tbody tr th:only-of-type {\n",
       "        vertical-align: middle;\n",
       "    }\n",
       "\n",
       "    .dataframe tbody tr th {\n",
       "        vertical-align: top;\n",
       "    }\n",
       "\n",
       "    .dataframe thead th {\n",
       "        text-align: right;\n",
       "    }\n",
       "</style>\n",
       "<table border=\"1\" class=\"dataframe\">\n",
       "  <thead>\n",
       "    <tr style=\"text-align: right;\">\n",
       "      <th></th>\n",
       "      <th>lister-item-index</th>\n",
       "      <th>lister-item-header</th>\n",
       "      <th>certificate</th>\n",
       "      <th>runtime</th>\n",
       "      <th>genre</th>\n",
       "      <th>rating</th>\n",
       "      <th>votes</th>\n",
       "    </tr>\n",
       "  </thead>\n",
       "  <tbody>\n",
       "    <tr>\n",
       "      <th>0</th>\n",
       "      <td>1</td>\n",
       "      <td>Stranger Things</td>\n",
       "      <td>15</td>\n",
       "      <td>60 min</td>\n",
       "      <td>Drama, Fantasy, Horror</td>\n",
       "      <td>8.7</td>\n",
       "      <td>1,327,188</td>\n",
       "    </tr>\n",
       "    <tr>\n",
       "      <th>1</th>\n",
       "      <td>2</td>\n",
       "      <td>13 Reasons Why</td>\n",
       "      <td>18</td>\n",
       "      <td>60 min</td>\n",
       "      <td>Drama, Mystery, Thriller</td>\n",
       "      <td>7.5</td>\n",
       "      <td>314,321</td>\n",
       "    </tr>\n",
       "    <tr>\n",
       "      <th>2</th>\n",
       "      <td>3</td>\n",
       "      <td>Orange Is the New Black</td>\n",
       "      <td>18</td>\n",
       "      <td>59 min</td>\n",
       "      <td>Comedy, Crime, Drama</td>\n",
       "      <td>8.0</td>\n",
       "      <td>319,342</td>\n",
       "    </tr>\n",
       "    <tr>\n",
       "      <th>3</th>\n",
       "      <td>4</td>\n",
       "      <td>Black Mirror</td>\n",
       "      <td>18</td>\n",
       "      <td>60 min</td>\n",
       "      <td>Drama, Mystery, Sci-Fi</td>\n",
       "      <td>8.7</td>\n",
       "      <td>636,319</td>\n",
       "    </tr>\n",
       "    <tr>\n",
       "      <th>4</th>\n",
       "      <td>5</td>\n",
       "      <td>Money Heist</td>\n",
       "      <td>15</td>\n",
       "      <td>60 min</td>\n",
       "      <td>Action, Crime, Drama</td>\n",
       "      <td>8.2</td>\n",
       "      <td>529,086</td>\n",
       "    </tr>\n",
       "  </tbody>\n",
       "</table>\n",
       "</div>"
      ],
      "text/plain": [
       "   lister-item-index       lister-item-header certificate runtime  \\\n",
       "0                  1          Stranger Things          15  60 min   \n",
       "1                  2           13 Reasons Why          18  60 min   \n",
       "2                  3  Orange Is the New Black          18  59 min   \n",
       "3                  4             Black Mirror          18  60 min   \n",
       "4                  5              Money Heist          15  60 min   \n",
       "\n",
       "                      genre  rating      votes  \n",
       "0    Drama, Fantasy, Horror     8.7  1,327,188  \n",
       "1  Drama, Mystery, Thriller     7.5    314,321  \n",
       "2      Comedy, Crime, Drama     8.0    319,342  \n",
       "3    Drama, Mystery, Sci-Fi     8.7    636,319  \n",
       "4      Action, Crime, Drama     8.2    529,086  "
      ]
     },
     "execution_count": 2,
     "metadata": {},
     "output_type": "execute_result"
    }
   ],
   "source": [
    "df.head()"
   ]
  },
  {
   "cell_type": "markdown",
   "id": "f0a1235f",
   "metadata": {},
   "source": [
    "Let's say we are interested in seeing the first 8 rows. We can simply specify:"
   ]
  },
  {
   "cell_type": "code",
   "execution_count": 3,
   "id": "47c8c10f",
   "metadata": {},
   "outputs": [
    {
     "data": {
      "text/html": [
       "<div>\n",
       "<style scoped>\n",
       "    .dataframe tbody tr th:only-of-type {\n",
       "        vertical-align: middle;\n",
       "    }\n",
       "\n",
       "    .dataframe tbody tr th {\n",
       "        vertical-align: top;\n",
       "    }\n",
       "\n",
       "    .dataframe thead th {\n",
       "        text-align: right;\n",
       "    }\n",
       "</style>\n",
       "<table border=\"1\" class=\"dataframe\">\n",
       "  <thead>\n",
       "    <tr style=\"text-align: right;\">\n",
       "      <th></th>\n",
       "      <th>lister-item-index</th>\n",
       "      <th>lister-item-header</th>\n",
       "      <th>certificate</th>\n",
       "      <th>runtime</th>\n",
       "      <th>genre</th>\n",
       "      <th>rating</th>\n",
       "      <th>votes</th>\n",
       "    </tr>\n",
       "  </thead>\n",
       "  <tbody>\n",
       "    <tr>\n",
       "      <th>0</th>\n",
       "      <td>1</td>\n",
       "      <td>Stranger Things</td>\n",
       "      <td>15</td>\n",
       "      <td>60 min</td>\n",
       "      <td>Drama, Fantasy, Horror</td>\n",
       "      <td>8.7</td>\n",
       "      <td>1,327,188</td>\n",
       "    </tr>\n",
       "    <tr>\n",
       "      <th>1</th>\n",
       "      <td>2</td>\n",
       "      <td>13 Reasons Why</td>\n",
       "      <td>18</td>\n",
       "      <td>60 min</td>\n",
       "      <td>Drama, Mystery, Thriller</td>\n",
       "      <td>7.5</td>\n",
       "      <td>314,321</td>\n",
       "    </tr>\n",
       "    <tr>\n",
       "      <th>2</th>\n",
       "      <td>3</td>\n",
       "      <td>Orange Is the New Black</td>\n",
       "      <td>18</td>\n",
       "      <td>59 min</td>\n",
       "      <td>Comedy, Crime, Drama</td>\n",
       "      <td>8.0</td>\n",
       "      <td>319,342</td>\n",
       "    </tr>\n",
       "    <tr>\n",
       "      <th>3</th>\n",
       "      <td>4</td>\n",
       "      <td>Black Mirror</td>\n",
       "      <td>18</td>\n",
       "      <td>60 min</td>\n",
       "      <td>Drama, Mystery, Sci-Fi</td>\n",
       "      <td>8.7</td>\n",
       "      <td>636,319</td>\n",
       "    </tr>\n",
       "    <tr>\n",
       "      <th>4</th>\n",
       "      <td>5</td>\n",
       "      <td>Money Heist</td>\n",
       "      <td>15</td>\n",
       "      <td>60 min</td>\n",
       "      <td>Action, Crime, Drama</td>\n",
       "      <td>8.2</td>\n",
       "      <td>529,086</td>\n",
       "    </tr>\n",
       "    <tr>\n",
       "      <th>5</th>\n",
       "      <td>6</td>\n",
       "      <td>Lucifer</td>\n",
       "      <td>15</td>\n",
       "      <td>60 min</td>\n",
       "      <td>Crime, Drama, Fantasy</td>\n",
       "      <td>8.1</td>\n",
       "      <td>354,155</td>\n",
       "    </tr>\n",
       "    <tr>\n",
       "      <th>6</th>\n",
       "      <td>7</td>\n",
       "      <td>Narcos</td>\n",
       "      <td>15</td>\n",
       "      <td>50 min</td>\n",
       "      <td>Biography, Crime, Drama</td>\n",
       "      <td>8.8</td>\n",
       "      <td>467,909</td>\n",
       "    </tr>\n",
       "    <tr>\n",
       "      <th>7</th>\n",
       "      <td>8</td>\n",
       "      <td>Daredevil</td>\n",
       "      <td>15</td>\n",
       "      <td>60 min</td>\n",
       "      <td>Action, Crime, Drama</td>\n",
       "      <td>8.6</td>\n",
       "      <td>472,940</td>\n",
       "    </tr>\n",
       "  </tbody>\n",
       "</table>\n",
       "</div>"
      ],
      "text/plain": [
       "   lister-item-index       lister-item-header certificate runtime  \\\n",
       "0                  1          Stranger Things          15  60 min   \n",
       "1                  2           13 Reasons Why          18  60 min   \n",
       "2                  3  Orange Is the New Black          18  59 min   \n",
       "3                  4             Black Mirror          18  60 min   \n",
       "4                  5              Money Heist          15  60 min   \n",
       "5                  6                  Lucifer          15  60 min   \n",
       "6                  7                   Narcos          15  50 min   \n",
       "7                  8                Daredevil          15  60 min   \n",
       "\n",
       "                      genre  rating      votes  \n",
       "0    Drama, Fantasy, Horror     8.7  1,327,188  \n",
       "1  Drama, Mystery, Thriller     7.5    314,321  \n",
       "2      Comedy, Crime, Drama     8.0    319,342  \n",
       "3    Drama, Mystery, Sci-Fi     8.7    636,319  \n",
       "4      Action, Crime, Drama     8.2    529,086  \n",
       "5     Crime, Drama, Fantasy     8.1    354,155  \n",
       "6   Biography, Crime, Drama     8.8    467,909  \n",
       "7      Action, Crime, Drama     8.6    472,940  "
      ]
     },
     "execution_count": 3,
     "metadata": {},
     "output_type": "execute_result"
    }
   ],
   "source": [
    "df.head(8)"
   ]
  },
  {
   "cell_type": "markdown",
   "id": "fa53f1c1",
   "metadata": {},
   "source": [
    "`df.tail()` works in a similar way. It returns the last n rows of the dataset, with the default being 5 rows. "
   ]
  },
  {
   "cell_type": "code",
   "execution_count": 4,
   "id": "46c75367",
   "metadata": {},
   "outputs": [
    {
     "data": {
      "text/html": [
       "<div>\n",
       "<style scoped>\n",
       "    .dataframe tbody tr th:only-of-type {\n",
       "        vertical-align: middle;\n",
       "    }\n",
       "\n",
       "    .dataframe tbody tr th {\n",
       "        vertical-align: top;\n",
       "    }\n",
       "\n",
       "    .dataframe thead th {\n",
       "        text-align: right;\n",
       "    }\n",
       "</style>\n",
       "<table border=\"1\" class=\"dataframe\">\n",
       "  <thead>\n",
       "    <tr style=\"text-align: right;\">\n",
       "      <th></th>\n",
       "      <th>lister-item-index</th>\n",
       "      <th>lister-item-header</th>\n",
       "      <th>certificate</th>\n",
       "      <th>runtime</th>\n",
       "      <th>genre</th>\n",
       "      <th>rating</th>\n",
       "      <th>votes</th>\n",
       "    </tr>\n",
       "  </thead>\n",
       "  <tbody>\n",
       "    <tr>\n",
       "      <th>75</th>\n",
       "      <td>76</td>\n",
       "      <td>F Is for Family</td>\n",
       "      <td>15</td>\n",
       "      <td>30 min</td>\n",
       "      <td>Animation, Comedy, Drama</td>\n",
       "      <td>8.0</td>\n",
       "      <td>41,074</td>\n",
       "    </tr>\n",
       "    <tr>\n",
       "      <th>76</th>\n",
       "      <td>77</td>\n",
       "      <td>The Ranch</td>\n",
       "      <td>15</td>\n",
       "      <td>30 min</td>\n",
       "      <td>Comedy, Drama, Western</td>\n",
       "      <td>7.5</td>\n",
       "      <td>42,401</td>\n",
       "    </tr>\n",
       "    <tr>\n",
       "      <th>77</th>\n",
       "      <td>78</td>\n",
       "      <td>American Vandal</td>\n",
       "      <td>15</td>\n",
       "      <td>34 min</td>\n",
       "      <td>Comedy, Crime, Drama</td>\n",
       "      <td>8.1</td>\n",
       "      <td>32,985</td>\n",
       "    </tr>\n",
       "    <tr>\n",
       "      <th>78</th>\n",
       "      <td>79</td>\n",
       "      <td>Dead to Me</td>\n",
       "      <td>15</td>\n",
       "      <td>30 min</td>\n",
       "      <td>Comedy, Crime, Drama</td>\n",
       "      <td>7.9</td>\n",
       "      <td>99,440</td>\n",
       "    </tr>\n",
       "    <tr>\n",
       "      <th>79</th>\n",
       "      <td>80</td>\n",
       "      <td>Quicksand</td>\n",
       "      <td>18</td>\n",
       "      <td>45 min</td>\n",
       "      <td>Crime, Drama, Mystery</td>\n",
       "      <td>7.4</td>\n",
       "      <td>25,507</td>\n",
       "    </tr>\n",
       "  </tbody>\n",
       "</table>\n",
       "</div>"
      ],
      "text/plain": [
       "    lister-item-index lister-item-header certificate runtime  \\\n",
       "75                 76    F Is for Family          15  30 min   \n",
       "76                 77          The Ranch          15  30 min   \n",
       "77                 78    American Vandal          15  34 min   \n",
       "78                 79         Dead to Me          15  30 min   \n",
       "79                 80          Quicksand          18  45 min   \n",
       "\n",
       "                       genre  rating   votes  \n",
       "75  Animation, Comedy, Drama     8.0  41,074  \n",
       "76    Comedy, Drama, Western     7.5  42,401  \n",
       "77      Comedy, Crime, Drama     8.1  32,985  \n",
       "78      Comedy, Crime, Drama     7.9  99,440  \n",
       "79     Crime, Drama, Mystery     7.4  25,507  "
      ]
     },
     "execution_count": 4,
     "metadata": {},
     "output_type": "execute_result"
    }
   ],
   "source": [
    "df.tail()"
   ]
  },
  {
   "cell_type": "markdown",
   "id": "1f5de50c",
   "metadata": {},
   "source": [
    "You can use `df.sample()` to take a peek at random rows in the dataset. This is especially useful in cases where you don't think the first/last rows are representative of the entire dataset."
   ]
  },
  {
   "cell_type": "code",
   "execution_count": 5,
   "id": "b2f0a019",
   "metadata": {},
   "outputs": [
    {
     "data": {
      "text/html": [
       "<div>\n",
       "<style scoped>\n",
       "    .dataframe tbody tr th:only-of-type {\n",
       "        vertical-align: middle;\n",
       "    }\n",
       "\n",
       "    .dataframe tbody tr th {\n",
       "        vertical-align: top;\n",
       "    }\n",
       "\n",
       "    .dataframe thead th {\n",
       "        text-align: right;\n",
       "    }\n",
       "</style>\n",
       "<table border=\"1\" class=\"dataframe\">\n",
       "  <thead>\n",
       "    <tr style=\"text-align: right;\">\n",
       "      <th></th>\n",
       "      <th>lister-item-index</th>\n",
       "      <th>lister-item-header</th>\n",
       "      <th>certificate</th>\n",
       "      <th>runtime</th>\n",
       "      <th>genre</th>\n",
       "      <th>rating</th>\n",
       "      <th>votes</th>\n",
       "    </tr>\n",
       "  </thead>\n",
       "  <tbody>\n",
       "    <tr>\n",
       "      <th>40</th>\n",
       "      <td>41</td>\n",
       "      <td>Unbreakable Kimmy Schmidt</td>\n",
       "      <td>12</td>\n",
       "      <td>30 min</td>\n",
       "      <td>Comedy</td>\n",
       "      <td>7.6</td>\n",
       "      <td>78,450</td>\n",
       "    </tr>\n",
       "    <tr>\n",
       "      <th>42</th>\n",
       "      <td>43</td>\n",
       "      <td>Cable Girls</td>\n",
       "      <td>15</td>\n",
       "      <td>50 min</td>\n",
       "      <td>Drama</td>\n",
       "      <td>7.5</td>\n",
       "      <td>16,087</td>\n",
       "    </tr>\n",
       "    <tr>\n",
       "      <th>52</th>\n",
       "      <td>53</td>\n",
       "      <td>Love, Death &amp; Robots</td>\n",
       "      <td>18</td>\n",
       "      <td>15 min</td>\n",
       "      <td>Animation, Short, Action</td>\n",
       "      <td>8.4</td>\n",
       "      <td>195,422</td>\n",
       "    </tr>\n",
       "    <tr>\n",
       "      <th>64</th>\n",
       "      <td>65</td>\n",
       "      <td>One Day at a Time</td>\n",
       "      <td>15</td>\n",
       "      <td>30 min</td>\n",
       "      <td>Comedy, Drama</td>\n",
       "      <td>8.2</td>\n",
       "      <td>18,238</td>\n",
       "    </tr>\n",
       "    <tr>\n",
       "      <th>31</th>\n",
       "      <td>32</td>\n",
       "      <td>Altered Carbon</td>\n",
       "      <td>18</td>\n",
       "      <td>60 min</td>\n",
       "      <td>Action, Drama, Sci-Fi</td>\n",
       "      <td>7.9</td>\n",
       "      <td>187,859</td>\n",
       "    </tr>\n",
       "  </tbody>\n",
       "</table>\n",
       "</div>"
      ],
      "text/plain": [
       "    lister-item-index         lister-item-header certificate runtime  \\\n",
       "40                 41  Unbreakable Kimmy Schmidt          12  30 min   \n",
       "42                 43                Cable Girls          15  50 min   \n",
       "52                 53       Love, Death & Robots          18  15 min   \n",
       "64                 65          One Day at a Time          15  30 min   \n",
       "31                 32             Altered Carbon          18  60 min   \n",
       "\n",
       "                       genre  rating    votes  \n",
       "40                    Comedy     7.6   78,450  \n",
       "42                     Drama     7.5   16,087  \n",
       "52  Animation, Short, Action     8.4  195,422  \n",
       "64             Comedy, Drama     8.2   18,238  \n",
       "31     Action, Drama, Sci-Fi     7.9  187,859  "
      ]
     },
     "execution_count": 5,
     "metadata": {},
     "output_type": "execute_result"
    }
   ],
   "source": [
    "df.sample(5)"
   ]
  },
  {
   "cell_type": "markdown",
   "id": "e73f0558",
   "metadata": {},
   "source": [
    "I'll also briefly explain what each column represents:\n",
    "\n",
    "`lister-item-index:` Describes the index of the show as listed on IMDB, and begins indexing at 1.\n",
    "\n",
    "`lister-item-header:` Show Name.\n",
    "\n",
    "`certificate:` Maturity Rating. For example, a certificate of 15 implies that content may be unsuitable for children under the age of 15. \n",
    "\n",
    "`runtime:` The average runtime of each episode.\n",
    "\n",
    "`genre:` The genres associated with the show. \n",
    "\n",
    "`rating:` IMDB rating.\n",
    "\n",
    "`votes:` Number of people that rated the show.\n",
    "\n",
    "For the purposes of this exercise, let's assume that all the data in this dataset is accurate. "
   ]
  },
  {
   "cell_type": "markdown",
   "id": "39284ba5",
   "metadata": {},
   "source": [
    "## Analyzing Columns & Rows"
   ]
  },
  {
   "cell_type": "markdown",
   "id": "8f20702c",
   "metadata": {},
   "source": [
    "Now that we have a good idea of what this dataset looks like, let's analyze the columns more closely! \n",
    "\n",
    "In this case, we can visually see the title of all 7 columns of our dataset. But in larger datasets (say with a 100 columns) we can use `df.columns` to return all column labels.\n"
   ]
  },
  {
   "cell_type": "code",
   "execution_count": 6,
   "id": "27bd240c",
   "metadata": {},
   "outputs": [
    {
     "data": {
      "text/plain": [
       "Index(['lister-item-index', 'lister-item-header', 'certificate', 'runtime',\n",
       "       'genre', 'rating', 'votes'],\n",
       "      dtype='object')"
      ]
     },
     "execution_count": 6,
     "metadata": {},
     "output_type": "execute_result"
    }
   ],
   "source": [
    "df.columns"
   ]
  },
  {
   "cell_type": "markdown",
   "id": "a129054e",
   "metadata": {},
   "source": [
    "Some of these column names are little long. Luckily, we can use `df.rename` to rename any column we'd like. "
   ]
  },
  {
   "cell_type": "code",
   "execution_count": 7,
   "id": "b41a5f43",
   "metadata": {},
   "outputs": [
    {
     "data": {
      "text/html": [
       "<div>\n",
       "<style scoped>\n",
       "    .dataframe tbody tr th:only-of-type {\n",
       "        vertical-align: middle;\n",
       "    }\n",
       "\n",
       "    .dataframe tbody tr th {\n",
       "        vertical-align: top;\n",
       "    }\n",
       "\n",
       "    .dataframe thead th {\n",
       "        text-align: right;\n",
       "    }\n",
       "</style>\n",
       "<table border=\"1\" class=\"dataframe\">\n",
       "  <thead>\n",
       "    <tr style=\"text-align: right;\">\n",
       "      <th></th>\n",
       "      <th>index</th>\n",
       "      <th>show</th>\n",
       "      <th>certificate</th>\n",
       "      <th>runtime</th>\n",
       "      <th>genre</th>\n",
       "      <th>rating</th>\n",
       "      <th>votes</th>\n",
       "    </tr>\n",
       "  </thead>\n",
       "  <tbody>\n",
       "    <tr>\n",
       "      <th>0</th>\n",
       "      <td>1</td>\n",
       "      <td>Stranger Things</td>\n",
       "      <td>15</td>\n",
       "      <td>60 min</td>\n",
       "      <td>Drama, Fantasy, Horror</td>\n",
       "      <td>8.7</td>\n",
       "      <td>1,327,188</td>\n",
       "    </tr>\n",
       "    <tr>\n",
       "      <th>1</th>\n",
       "      <td>2</td>\n",
       "      <td>13 Reasons Why</td>\n",
       "      <td>18</td>\n",
       "      <td>60 min</td>\n",
       "      <td>Drama, Mystery, Thriller</td>\n",
       "      <td>7.5</td>\n",
       "      <td>314,321</td>\n",
       "    </tr>\n",
       "    <tr>\n",
       "      <th>2</th>\n",
       "      <td>3</td>\n",
       "      <td>Orange Is the New Black</td>\n",
       "      <td>18</td>\n",
       "      <td>59 min</td>\n",
       "      <td>Comedy, Crime, Drama</td>\n",
       "      <td>8.0</td>\n",
       "      <td>319,342</td>\n",
       "    </tr>\n",
       "    <tr>\n",
       "      <th>3</th>\n",
       "      <td>4</td>\n",
       "      <td>Black Mirror</td>\n",
       "      <td>18</td>\n",
       "      <td>60 min</td>\n",
       "      <td>Drama, Mystery, Sci-Fi</td>\n",
       "      <td>8.7</td>\n",
       "      <td>636,319</td>\n",
       "    </tr>\n",
       "    <tr>\n",
       "      <th>4</th>\n",
       "      <td>5</td>\n",
       "      <td>Money Heist</td>\n",
       "      <td>15</td>\n",
       "      <td>60 min</td>\n",
       "      <td>Action, Crime, Drama</td>\n",
       "      <td>8.2</td>\n",
       "      <td>529,086</td>\n",
       "    </tr>\n",
       "    <tr>\n",
       "      <th>...</th>\n",
       "      <td>...</td>\n",
       "      <td>...</td>\n",
       "      <td>...</td>\n",
       "      <td>...</td>\n",
       "      <td>...</td>\n",
       "      <td>...</td>\n",
       "      <td>...</td>\n",
       "    </tr>\n",
       "    <tr>\n",
       "      <th>75</th>\n",
       "      <td>76</td>\n",
       "      <td>F Is for Family</td>\n",
       "      <td>15</td>\n",
       "      <td>30 min</td>\n",
       "      <td>Animation, Comedy, Drama</td>\n",
       "      <td>8.0</td>\n",
       "      <td>41,074</td>\n",
       "    </tr>\n",
       "    <tr>\n",
       "      <th>76</th>\n",
       "      <td>77</td>\n",
       "      <td>The Ranch</td>\n",
       "      <td>15</td>\n",
       "      <td>30 min</td>\n",
       "      <td>Comedy, Drama, Western</td>\n",
       "      <td>7.5</td>\n",
       "      <td>42,401</td>\n",
       "    </tr>\n",
       "    <tr>\n",
       "      <th>77</th>\n",
       "      <td>78</td>\n",
       "      <td>American Vandal</td>\n",
       "      <td>15</td>\n",
       "      <td>34 min</td>\n",
       "      <td>Comedy, Crime, Drama</td>\n",
       "      <td>8.1</td>\n",
       "      <td>32,985</td>\n",
       "    </tr>\n",
       "    <tr>\n",
       "      <th>78</th>\n",
       "      <td>79</td>\n",
       "      <td>Dead to Me</td>\n",
       "      <td>15</td>\n",
       "      <td>30 min</td>\n",
       "      <td>Comedy, Crime, Drama</td>\n",
       "      <td>7.9</td>\n",
       "      <td>99,440</td>\n",
       "    </tr>\n",
       "    <tr>\n",
       "      <th>79</th>\n",
       "      <td>80</td>\n",
       "      <td>Quicksand</td>\n",
       "      <td>18</td>\n",
       "      <td>45 min</td>\n",
       "      <td>Crime, Drama, Mystery</td>\n",
       "      <td>7.4</td>\n",
       "      <td>25,507</td>\n",
       "    </tr>\n",
       "  </tbody>\n",
       "</table>\n",
       "<p>80 rows × 7 columns</p>\n",
       "</div>"
      ],
      "text/plain": [
       "    index                     show certificate runtime  \\\n",
       "0       1          Stranger Things          15  60 min   \n",
       "1       2           13 Reasons Why          18  60 min   \n",
       "2       3  Orange Is the New Black          18  59 min   \n",
       "3       4             Black Mirror          18  60 min   \n",
       "4       5              Money Heist          15  60 min   \n",
       "..    ...                      ...         ...     ...   \n",
       "75     76          F Is for Family          15  30 min   \n",
       "76     77                The Ranch          15  30 min   \n",
       "77     78          American Vandal          15  34 min   \n",
       "78     79               Dead to Me          15  30 min   \n",
       "79     80                Quicksand          18  45 min   \n",
       "\n",
       "                       genre  rating      votes  \n",
       "0     Drama, Fantasy, Horror     8.7  1,327,188  \n",
       "1   Drama, Mystery, Thriller     7.5    314,321  \n",
       "2       Comedy, Crime, Drama     8.0    319,342  \n",
       "3     Drama, Mystery, Sci-Fi     8.7    636,319  \n",
       "4       Action, Crime, Drama     8.2    529,086  \n",
       "..                       ...     ...        ...  \n",
       "75  Animation, Comedy, Drama     8.0     41,074  \n",
       "76    Comedy, Drama, Western     7.5     42,401  \n",
       "77      Comedy, Crime, Drama     8.1     32,985  \n",
       "78      Comedy, Crime, Drama     7.9     99,440  \n",
       "79     Crime, Drama, Mystery     7.4     25,507  \n",
       "\n",
       "[80 rows x 7 columns]"
      ]
     },
     "execution_count": 7,
     "metadata": {},
     "output_type": "execute_result"
    }
   ],
   "source": [
    "#this code generates a *new dataframe* with the renamed columns from df\n",
    "df.rename(columns={'lister-item-header': 'show', 'lister-item-index': 'index'})"
   ]
  },
  {
   "cell_type": "markdown",
   "id": "f09b9d1c",
   "metadata": {},
   "source": [
    "To keep track of all the changes we're making (like renaming columns), we'll  maintain two version of our dataset! `df` will contain the original dataframe we loaded from the `pd.read_csv` call above. \n",
    "\n",
    "Meanwhile, we'll use `new_df` to store the cleaned version of our data. At the end, we'll compare `df` and `new_df`so you can see all the differences."
   ]
  },
  {
   "cell_type": "code",
   "execution_count": 8,
   "id": "a3e456db",
   "metadata": {},
   "outputs": [],
   "source": [
    "#this codes *assigns* the result of the renaming operation above to new_df\n",
    "new_df = df.rename(columns={'lister-item-header': 'show', 'lister-item-index': 'index'})"
   ]
  },
  {
   "cell_type": "markdown",
   "id": "34209617",
   "metadata": {},
   "source": [
    "You can see that `df` remains the same."
   ]
  },
  {
   "cell_type": "code",
   "execution_count": 9,
   "id": "cdb4a012",
   "metadata": {},
   "outputs": [
    {
     "data": {
      "text/html": [
       "<div>\n",
       "<style scoped>\n",
       "    .dataframe tbody tr th:only-of-type {\n",
       "        vertical-align: middle;\n",
       "    }\n",
       "\n",
       "    .dataframe tbody tr th {\n",
       "        vertical-align: top;\n",
       "    }\n",
       "\n",
       "    .dataframe thead th {\n",
       "        text-align: right;\n",
       "    }\n",
       "</style>\n",
       "<table border=\"1\" class=\"dataframe\">\n",
       "  <thead>\n",
       "    <tr style=\"text-align: right;\">\n",
       "      <th></th>\n",
       "      <th>lister-item-index</th>\n",
       "      <th>lister-item-header</th>\n",
       "      <th>certificate</th>\n",
       "      <th>runtime</th>\n",
       "      <th>genre</th>\n",
       "      <th>rating</th>\n",
       "      <th>votes</th>\n",
       "    </tr>\n",
       "  </thead>\n",
       "  <tbody>\n",
       "    <tr>\n",
       "      <th>0</th>\n",
       "      <td>1</td>\n",
       "      <td>Stranger Things</td>\n",
       "      <td>15</td>\n",
       "      <td>60 min</td>\n",
       "      <td>Drama, Fantasy, Horror</td>\n",
       "      <td>8.7</td>\n",
       "      <td>1,327,188</td>\n",
       "    </tr>\n",
       "  </tbody>\n",
       "</table>\n",
       "</div>"
      ],
      "text/plain": [
       "   lister-item-index lister-item-header certificate runtime  \\\n",
       "0                  1    Stranger Things          15  60 min   \n",
       "\n",
       "                    genre  rating      votes  \n",
       "0  Drama, Fantasy, Horror     8.7  1,327,188  "
      ]
     },
     "execution_count": 9,
     "metadata": {},
     "output_type": "execute_result"
    }
   ],
   "source": [
    "df.head(1)"
   ]
  },
  {
   "cell_type": "markdown",
   "id": "c6db7a25",
   "metadata": {},
   "source": [
    "And that the new column names are only reflected in `new_df`. "
   ]
  },
  {
   "cell_type": "code",
   "execution_count": 10,
   "id": "0a9fe75e",
   "metadata": {},
   "outputs": [
    {
     "data": {
      "text/html": [
       "<div>\n",
       "<style scoped>\n",
       "    .dataframe tbody tr th:only-of-type {\n",
       "        vertical-align: middle;\n",
       "    }\n",
       "\n",
       "    .dataframe tbody tr th {\n",
       "        vertical-align: top;\n",
       "    }\n",
       "\n",
       "    .dataframe thead th {\n",
       "        text-align: right;\n",
       "    }\n",
       "</style>\n",
       "<table border=\"1\" class=\"dataframe\">\n",
       "  <thead>\n",
       "    <tr style=\"text-align: right;\">\n",
       "      <th></th>\n",
       "      <th>index</th>\n",
       "      <th>show</th>\n",
       "      <th>certificate</th>\n",
       "      <th>runtime</th>\n",
       "      <th>genre</th>\n",
       "      <th>rating</th>\n",
       "      <th>votes</th>\n",
       "    </tr>\n",
       "  </thead>\n",
       "  <tbody>\n",
       "    <tr>\n",
       "      <th>0</th>\n",
       "      <td>1</td>\n",
       "      <td>Stranger Things</td>\n",
       "      <td>15</td>\n",
       "      <td>60 min</td>\n",
       "      <td>Drama, Fantasy, Horror</td>\n",
       "      <td>8.7</td>\n",
       "      <td>1,327,188</td>\n",
       "    </tr>\n",
       "  </tbody>\n",
       "</table>\n",
       "</div>"
      ],
      "text/plain": [
       "   index             show certificate runtime                   genre  rating  \\\n",
       "0      1  Stranger Things          15  60 min  Drama, Fantasy, Horror     8.7   \n",
       "\n",
       "       votes  \n",
       "0  1,327,188  "
      ]
     },
     "execution_count": 10,
     "metadata": {},
     "output_type": "execute_result"
    }
   ],
   "source": [
    "new_df.head(1)"
   ]
  },
  {
   "cell_type": "markdown",
   "id": "fb0827cb",
   "metadata": {},
   "source": [
    "Let's keep going with our analysis. We can use `df.shape` to return the number of rows and columns in our orginal dataframe. "
   ]
  },
  {
   "cell_type": "code",
   "execution_count": 11,
   "id": "3c652fc9",
   "metadata": {},
   "outputs": [
    {
     "data": {
      "text/plain": [
       "(80, 7)"
      ]
     },
     "execution_count": 11,
     "metadata": {},
     "output_type": "execute_result"
    }
   ],
   "source": [
    "df.shape"
   ]
  },
  {
   "cell_type": "markdown",
   "id": "039b8460",
   "metadata": {},
   "source": [
    "Note that `df.shape` returns a tuple, which we can actually store as two seperate variables for easy future access."
   ]
  },
  {
   "cell_type": "code",
   "execution_count": 12,
   "id": "9224f05f",
   "metadata": {},
   "outputs": [],
   "source": [
    "rows, columns = df.shape"
   ]
  },
  {
   "cell_type": "code",
   "execution_count": 13,
   "id": "3ad1e308",
   "metadata": {},
   "outputs": [
    {
     "data": {
      "text/plain": [
       "80"
      ]
     },
     "execution_count": 13,
     "metadata": {},
     "output_type": "execute_result"
    }
   ],
   "source": [
    "rows"
   ]
  },
  {
   "cell_type": "code",
   "execution_count": 14,
   "id": "3caf6c98",
   "metadata": {},
   "outputs": [
    {
     "data": {
      "text/plain": [
       "7"
      ]
     },
     "execution_count": 14,
     "metadata": {},
     "output_type": "execute_result"
    }
   ],
   "source": [
    "columns"
   ]
  },
  {
   "cell_type": "markdown",
   "id": "55f5da2c",
   "metadata": {},
   "source": [
    "There are some other helpful things we can use to describe our data! \n",
    "\n",
    "`df.info()` prints useful information about the dataframe, including the data types found in each column."
   ]
  },
  {
   "cell_type": "code",
   "execution_count": 15,
   "id": "0837108c",
   "metadata": {},
   "outputs": [
    {
     "name": "stdout",
     "output_type": "stream",
     "text": [
      "<class 'pandas.core.frame.DataFrame'>\n",
      "RangeIndex: 80 entries, 0 to 79\n",
      "Data columns (total 7 columns):\n",
      " #   Column              Non-Null Count  Dtype  \n",
      "---  ------              --------------  -----  \n",
      " 0   lister-item-index   80 non-null     int64  \n",
      " 1   lister-item-header  80 non-null     object \n",
      " 2   certificate         80 non-null     object \n",
      " 3   runtime             80 non-null     object \n",
      " 4   genre               80 non-null     object \n",
      " 5   rating              80 non-null     float64\n",
      " 6   votes               80 non-null     object \n",
      "dtypes: float64(1), int64(1), object(5)\n",
      "memory usage: 4.5+ KB\n"
     ]
    }
   ],
   "source": [
    "df.info()"
   ]
  },
  {
   "cell_type": "markdown",
   "id": "4e8f6aa3",
   "metadata": {},
   "source": [
    "The `Non-Null Count` tells us the number of non null values in that column.\n",
    "\n",
    "`Dtype` tells us the data type of the values in a column: \n",
    "* lister-item-index is of type `int64`, \n",
    "* rating is of type `float64`\n",
    "* the remaining  columns are of type `object`.\n",
    "\n",
    "In other words, only two of our columns contain numerical values (lister-item-index and rating). The lister-item-header, certificate, genre, and votes columns are all strings (the default data type for strings in DataFrames is `object`).\n",
    "\n",
    "\n",
    "We also get the overall memory usage of our dataframe. Side note: If you're interested in a more accurate measure of memory usage, feel free to try `df.info(memory_usage='deep')`"
   ]
  },
  {
   "cell_type": "markdown",
   "id": "52a97e24",
   "metadata": {},
   "source": [
    "Small segway since we're talking about null values! There are many, many, many ways to check for null values in your dataset! Here's another approach:"
   ]
  },
  {
   "cell_type": "code",
   "execution_count": 16,
   "id": "ac79291c",
   "metadata": {},
   "outputs": [
    {
     "data": {
      "text/plain": [
       "False"
      ]
     },
     "execution_count": 16,
     "metadata": {},
     "output_type": "execute_result"
    }
   ],
   "source": [
    "df.isnull().values.any()"
   ]
  },
  {
   "cell_type": "markdown",
   "id": "af3f6508",
   "metadata": {},
   "source": [
    "You could also run the following code to see _how many_ null values you have across the entire dataset. In our case, we know the total number is 0.\n"
   ]
  },
  {
   "cell_type": "code",
   "execution_count": 17,
   "id": "e5eaeff2",
   "metadata": {},
   "outputs": [
    {
     "data": {
      "text/plain": [
       "0"
      ]
     },
     "execution_count": 17,
     "metadata": {},
     "output_type": "execute_result"
    }
   ],
   "source": [
    "df.isnull().sum().sum()"
   ]
  },
  {
   "cell_type": "markdown",
   "id": "f54a8def",
   "metadata": {},
   "source": [
    "Another useful method (and one of my favorites) is `df.describe()`. `df.describe()` generates descriptive statistics (such as total count, mean, standard deviation, min, and max) for all _numerical_ columns in your dataset by default. \n",
    "\n",
    "As we saw above, only the `lister-item-index` and `rating` columns in our dataframe are numerical."
   ]
  },
  {
   "cell_type": "code",
   "execution_count": 18,
   "id": "a97f34aa",
   "metadata": {},
   "outputs": [
    {
     "data": {
      "text/html": [
       "<div>\n",
       "<style scoped>\n",
       "    .dataframe tbody tr th:only-of-type {\n",
       "        vertical-align: middle;\n",
       "    }\n",
       "\n",
       "    .dataframe tbody tr th {\n",
       "        vertical-align: top;\n",
       "    }\n",
       "\n",
       "    .dataframe thead th {\n",
       "        text-align: right;\n",
       "    }\n",
       "</style>\n",
       "<table border=\"1\" class=\"dataframe\">\n",
       "  <thead>\n",
       "    <tr style=\"text-align: right;\">\n",
       "      <th></th>\n",
       "      <th>lister-item-index</th>\n",
       "      <th>rating</th>\n",
       "    </tr>\n",
       "  </thead>\n",
       "  <tbody>\n",
       "    <tr>\n",
       "      <th>count</th>\n",
       "      <td>80.0000</td>\n",
       "      <td>80.00000</td>\n",
       "    </tr>\n",
       "    <tr>\n",
       "      <th>mean</th>\n",
       "      <td>40.5000</td>\n",
       "      <td>7.72000</td>\n",
       "    </tr>\n",
       "    <tr>\n",
       "      <th>std</th>\n",
       "      <td>23.2379</td>\n",
       "      <td>0.71235</td>\n",
       "    </tr>\n",
       "    <tr>\n",
       "      <th>min</th>\n",
       "      <td>1.0000</td>\n",
       "      <td>5.90000</td>\n",
       "    </tr>\n",
       "    <tr>\n",
       "      <th>25%</th>\n",
       "      <td>20.7500</td>\n",
       "      <td>7.20000</td>\n",
       "    </tr>\n",
       "    <tr>\n",
       "      <th>50%</th>\n",
       "      <td>40.5000</td>\n",
       "      <td>7.80000</td>\n",
       "    </tr>\n",
       "    <tr>\n",
       "      <th>75%</th>\n",
       "      <td>60.2500</td>\n",
       "      <td>8.22500</td>\n",
       "    </tr>\n",
       "    <tr>\n",
       "      <th>max</th>\n",
       "      <td>80.0000</td>\n",
       "      <td>8.80000</td>\n",
       "    </tr>\n",
       "  </tbody>\n",
       "</table>\n",
       "</div>"
      ],
      "text/plain": [
       "       lister-item-index    rating\n",
       "count            80.0000  80.00000\n",
       "mean             40.5000   7.72000\n",
       "std              23.2379   0.71235\n",
       "min               1.0000   5.90000\n",
       "25%              20.7500   7.20000\n",
       "50%              40.5000   7.80000\n",
       "75%              60.2500   8.22500\n",
       "max              80.0000   8.80000"
      ]
     },
     "execution_count": 18,
     "metadata": {},
     "output_type": "execute_result"
    }
   ],
   "source": [
    "df.describe()"
   ]
  },
  {
   "cell_type": "markdown",
   "id": "90a14cb7",
   "metadata": {},
   "source": [
    "It's not particularly helpful to learn statistics about the `lister-item-index`\tcolumn- the index just identifies each row in the dataset. \n",
    "\n",
    "\n",
    "_But_ we did get some interesting analysis on the ratings across Netflix Orginal shows! For example, the average rating for a show was a 7.72. The standard deviation was only around .71. We also learned that the max rating achieved by any show was 8.8"
   ]
  },
  {
   "cell_type": "markdown",
   "id": "c1d16a07",
   "metadata": {},
   "source": [
    "If you'd like, you could also specify your own percentiles for `df.describe().`"
   ]
  },
  {
   "cell_type": "code",
   "execution_count": 19,
   "id": "cee2ff91",
   "metadata": {},
   "outputs": [
    {
     "data": {
      "text/html": [
       "<div>\n",
       "<style scoped>\n",
       "    .dataframe tbody tr th:only-of-type {\n",
       "        vertical-align: middle;\n",
       "    }\n",
       "\n",
       "    .dataframe tbody tr th {\n",
       "        vertical-align: top;\n",
       "    }\n",
       "\n",
       "    .dataframe thead th {\n",
       "        text-align: right;\n",
       "    }\n",
       "</style>\n",
       "<table border=\"1\" class=\"dataframe\">\n",
       "  <thead>\n",
       "    <tr style=\"text-align: right;\">\n",
       "      <th></th>\n",
       "      <th>lister-item-index</th>\n",
       "      <th>rating</th>\n",
       "    </tr>\n",
       "  </thead>\n",
       "  <tbody>\n",
       "    <tr>\n",
       "      <th>count</th>\n",
       "      <td>80.0000</td>\n",
       "      <td>80.00000</td>\n",
       "    </tr>\n",
       "    <tr>\n",
       "      <th>mean</th>\n",
       "      <td>40.5000</td>\n",
       "      <td>7.72000</td>\n",
       "    </tr>\n",
       "    <tr>\n",
       "      <th>std</th>\n",
       "      <td>23.2379</td>\n",
       "      <td>0.71235</td>\n",
       "    </tr>\n",
       "    <tr>\n",
       "      <th>min</th>\n",
       "      <td>1.0000</td>\n",
       "      <td>5.90000</td>\n",
       "    </tr>\n",
       "    <tr>\n",
       "      <th>5%</th>\n",
       "      <td>4.9500</td>\n",
       "      <td>6.40000</td>\n",
       "    </tr>\n",
       "    <tr>\n",
       "      <th>10%</th>\n",
       "      <td>8.9000</td>\n",
       "      <td>6.70000</td>\n",
       "    </tr>\n",
       "    <tr>\n",
       "      <th>25%</th>\n",
       "      <td>20.7500</td>\n",
       "      <td>7.20000</td>\n",
       "    </tr>\n",
       "    <tr>\n",
       "      <th>50%</th>\n",
       "      <td>40.5000</td>\n",
       "      <td>7.80000</td>\n",
       "    </tr>\n",
       "    <tr>\n",
       "      <th>75%</th>\n",
       "      <td>60.2500</td>\n",
       "      <td>8.22500</td>\n",
       "    </tr>\n",
       "    <tr>\n",
       "      <th>90%</th>\n",
       "      <td>72.1000</td>\n",
       "      <td>8.60000</td>\n",
       "    </tr>\n",
       "    <tr>\n",
       "      <th>99%</th>\n",
       "      <td>79.2100</td>\n",
       "      <td>8.80000</td>\n",
       "    </tr>\n",
       "    <tr>\n",
       "      <th>max</th>\n",
       "      <td>80.0000</td>\n",
       "      <td>8.80000</td>\n",
       "    </tr>\n",
       "  </tbody>\n",
       "</table>\n",
       "</div>"
      ],
      "text/plain": [
       "       lister-item-index    rating\n",
       "count            80.0000  80.00000\n",
       "mean             40.5000   7.72000\n",
       "std              23.2379   0.71235\n",
       "min               1.0000   5.90000\n",
       "5%                4.9500   6.40000\n",
       "10%               8.9000   6.70000\n",
       "25%              20.7500   7.20000\n",
       "50%              40.5000   7.80000\n",
       "75%              60.2500   8.22500\n",
       "90%              72.1000   8.60000\n",
       "99%              79.2100   8.80000\n",
       "max              80.0000   8.80000"
      ]
     },
     "execution_count": 19,
     "metadata": {},
     "output_type": "execute_result"
    }
   ],
   "source": [
    "percentiles = [.05, .10, .25, .50, .75, .90, .99]\n",
    "df.describe(percentiles)"
   ]
  },
  {
   "cell_type": "markdown",
   "id": "1caede42",
   "metadata": {},
   "source": [
    "Let's come back to `df.describe()` after we do some more data cleaning. This method will become even more useful for us later."
   ]
  },
  {
   "cell_type": "markdown",
   "id": "05359048",
   "metadata": {},
   "source": [
    "## Data Cleaning"
   ]
  },
  {
   "cell_type": "markdown",
   "id": "81338606",
   "metadata": {},
   "source": [
    "Anubha is a Netflix addict- she'd like to watch the first episode of ALL the Netflix shows in our dataframe. How many minutes will it take her to watch all of these episodes? \n",
    "\n",
    "Let's sum up all the runtimes in our table to get the answer. \n",
    "\n"
   ]
  },
  {
   "cell_type": "code",
   "execution_count": 20,
   "id": "6cc23883",
   "metadata": {},
   "outputs": [
    {
     "data": {
      "text/plain": [
       "'60 min60 min59 min60 min60 min60 min50 min60 min60 min56 min50 min25 min60 min60 min60 min45 min60 min60 min60 min60 min55 min55 min30 min30 min45 min50 min60 min60 min45 min60 min49 min60 min60 min30 min30 min25 min26 min60 min60 min50 min30 min30 min50 min60 min58 min60 min60 min30 min23 min30 min60 min30 min15 min30 min60 min25 min63 min60 min30 min45 min30 min50 min60 min27 min30 min60 min35 min60 min51 min52 min45 min30 min22 min46 min60 min30 min30 min34 min30 min45 min'"
      ]
     },
     "execution_count": 20,
     "metadata": {},
     "output_type": "execute_result"
    }
   ],
   "source": [
    "df['runtime'].sum()"
   ]
  },
  {
   "cell_type": "markdown",
   "id": "3d2f1c84",
   "metadata": {},
   "source": [
    "What went wrong here? We've done this before in previous problem sets! \n",
    "\n",
    "Remember that Python only lets us do arithmetic operations on numbers. From `df.info()`, we learned that only `lister-item-index` and `rating` are numerical columns. \n",
    "\n",
    "We can also directly see which columns in our dataframe can be summed by running `df.sum(numeric_only= True)`. Runtime is not one of them. \n",
    " "
   ]
  },
  {
   "cell_type": "code",
   "execution_count": 21,
   "id": "a7a58592",
   "metadata": {},
   "outputs": [
    {
     "data": {
      "text/plain": [
       "lister-item-index    3240.0\n",
       "rating                617.6\n",
       "dtype: float64"
      ]
     },
     "execution_count": 21,
     "metadata": {},
     "output_type": "execute_result"
    }
   ],
   "source": [
    "df.sum(numeric_only= True)"
   ]
  },
  {
   "cell_type": "markdown",
   "id": "87f9f5da",
   "metadata": {},
   "source": [
    "To sum runtimes, we'll need to convert all values in the runtime column into numerical values instead of a strings (we want to go from _'60 min'_ to  _60_).\n",
    "\n",
    "Let's do this by first removing the word 'min' from each value, and then converting the result from a string to an int! One approach is to use `df.replace` and `.astype()`\n"
   ]
  },
  {
   "cell_type": "code",
   "execution_count": 22,
   "id": "70f9715b",
   "metadata": {},
   "outputs": [
    {
     "data": {
      "text/plain": [
       "0     60\n",
       "1     60\n",
       "2     59\n",
       "3     60\n",
       "4     60\n",
       "      ..\n",
       "75    30\n",
       "76    30\n",
       "77    34\n",
       "78    30\n",
       "79    45\n",
       "Name: runtime, Length: 80, dtype: int64"
      ]
     },
     "execution_count": 22,
     "metadata": {},
     "output_type": "execute_result"
    }
   ],
   "source": [
    "#First, remove the word 'min' from runtimes by replacing it with an empty substring\n",
    "replace_mins = df['runtime'].str.replace(' min', '')\n",
    "\n",
    "#Second, convert runtimes to ints \n",
    "runtime_as_ints = replace_mins.astype('int')\n",
    "runtime_as_ints\n",
    "\n",
    "#You could also do this all in one line by running the following:\n",
    "#runtime_as_ints = df['runtime'].str.replace(' min', '').astype('int')"
   ]
  },
  {
   "cell_type": "code",
   "execution_count": 23,
   "id": "775b003f",
   "metadata": {},
   "outputs": [],
   "source": [
    "#To actually assign runtime_as_ints to our new_df dataframe, run:\n",
    "new_df['runtime'] =  runtime_as_ints"
   ]
  },
  {
   "cell_type": "code",
   "execution_count": 24,
   "id": "1701b34d",
   "metadata": {},
   "outputs": [
    {
     "data": {
      "text/plain": [
       "0     60\n",
       "1     60\n",
       "2     59\n",
       "3     60\n",
       "4     60\n",
       "      ..\n",
       "75    30\n",
       "76    30\n",
       "77    34\n",
       "78    30\n",
       "79    45\n",
       "Name: runtime, Length: 80, dtype: int64"
      ]
     },
     "execution_count": 24,
     "metadata": {},
     "output_type": "execute_result"
    }
   ],
   "source": [
    "#Great! If you run this cell, you'll see that all our runtime values are of type int64!\n",
    "new_df['runtime']"
   ]
  },
  {
   "cell_type": "markdown",
   "id": "4fdaf6eb",
   "metadata": {},
   "source": [
    "Now... how many minutes will it take Anubha to watch the first episode of every show in our Netflix dataset?"
   ]
  },
  {
   "cell_type": "code",
   "execution_count": 25,
   "id": "4a427505",
   "metadata": {},
   "outputs": [
    {
     "data": {
      "text/plain": [
       "3741"
      ]
     },
     "execution_count": 25,
     "metadata": {},
     "output_type": "execute_result"
    }
   ],
   "source": [
    "new_df['runtime'].sum()"
   ]
  },
  {
   "cell_type": "markdown",
   "id": "5e02362b",
   "metadata": {},
   "source": [
    "That's a lot of minutes 😬. This example was to show that you'll have to do some data cleaning/data manipulation with pretty much every dataset you encounter. This is a relatively \"easy\" dataset- it has a usability rating of 10 on Kaggle. But we still had to do some work to find right answer.\n",
    "\n",
    "Now that we've converted the runtime column into a numerical column, we can do all kinds of other fun analysis. What's the average runtime of Netflix Original shows? "
   ]
  },
  {
   "cell_type": "code",
   "execution_count": 26,
   "id": "2442f8a1",
   "metadata": {},
   "outputs": [
    {
     "data": {
      "text/plain": [
       "46.7625"
      ]
     },
     "execution_count": 26,
     "metadata": {},
     "output_type": "execute_result"
    }
   ],
   "source": [
    "new_df['runtime'].mean()"
   ]
  },
  {
   "cell_type": "markdown",
   "id": "e4c3492e",
   "metadata": {},
   "source": [
    "What about the max runtime?"
   ]
  },
  {
   "cell_type": "code",
   "execution_count": 27,
   "id": "8047679e",
   "metadata": {},
   "outputs": [
    {
     "data": {
      "text/plain": [
       "63"
      ]
     },
     "execution_count": 27,
     "metadata": {},
     "output_type": "execute_result"
    }
   ],
   "source": [
    "new_df['runtime'].max()"
   ]
  },
  {
   "cell_type": "markdown",
   "id": "22eb6cd7",
   "metadata": {},
   "source": [
    "Also, let's go back to `.describe()` and see how the output changes now that runtime is a numerical column! "
   ]
  },
  {
   "cell_type": "code",
   "execution_count": 28,
   "id": "450b6997",
   "metadata": {},
   "outputs": [
    {
     "data": {
      "text/html": [
       "<div>\n",
       "<style scoped>\n",
       "    .dataframe tbody tr th:only-of-type {\n",
       "        vertical-align: middle;\n",
       "    }\n",
       "\n",
       "    .dataframe tbody tr th {\n",
       "        vertical-align: top;\n",
       "    }\n",
       "\n",
       "    .dataframe thead th {\n",
       "        text-align: right;\n",
       "    }\n",
       "</style>\n",
       "<table border=\"1\" class=\"dataframe\">\n",
       "  <thead>\n",
       "    <tr style=\"text-align: right;\">\n",
       "      <th></th>\n",
       "      <th>index</th>\n",
       "      <th>runtime</th>\n",
       "      <th>rating</th>\n",
       "    </tr>\n",
       "  </thead>\n",
       "  <tbody>\n",
       "    <tr>\n",
       "      <th>count</th>\n",
       "      <td>80.0000</td>\n",
       "      <td>80.000000</td>\n",
       "      <td>80.00000</td>\n",
       "    </tr>\n",
       "    <tr>\n",
       "      <th>mean</th>\n",
       "      <td>40.5000</td>\n",
       "      <td>46.762500</td>\n",
       "      <td>7.72000</td>\n",
       "    </tr>\n",
       "    <tr>\n",
       "      <th>std</th>\n",
       "      <td>23.2379</td>\n",
       "      <td>14.156667</td>\n",
       "      <td>0.71235</td>\n",
       "    </tr>\n",
       "    <tr>\n",
       "      <th>min</th>\n",
       "      <td>1.0000</td>\n",
       "      <td>15.000000</td>\n",
       "      <td>5.90000</td>\n",
       "    </tr>\n",
       "    <tr>\n",
       "      <th>25%</th>\n",
       "      <td>20.7500</td>\n",
       "      <td>30.000000</td>\n",
       "      <td>7.20000</td>\n",
       "    </tr>\n",
       "    <tr>\n",
       "      <th>50%</th>\n",
       "      <td>40.5000</td>\n",
       "      <td>50.000000</td>\n",
       "      <td>7.80000</td>\n",
       "    </tr>\n",
       "    <tr>\n",
       "      <th>75%</th>\n",
       "      <td>60.2500</td>\n",
       "      <td>60.000000</td>\n",
       "      <td>8.22500</td>\n",
       "    </tr>\n",
       "    <tr>\n",
       "      <th>max</th>\n",
       "      <td>80.0000</td>\n",
       "      <td>63.000000</td>\n",
       "      <td>8.80000</td>\n",
       "    </tr>\n",
       "  </tbody>\n",
       "</table>\n",
       "</div>"
      ],
      "text/plain": [
       "         index    runtime    rating\n",
       "count  80.0000  80.000000  80.00000\n",
       "mean   40.5000  46.762500   7.72000\n",
       "std    23.2379  14.156667   0.71235\n",
       "min     1.0000  15.000000   5.90000\n",
       "25%    20.7500  30.000000   7.20000\n",
       "50%    40.5000  50.000000   7.80000\n",
       "75%    60.2500  60.000000   8.22500\n",
       "max    80.0000  63.000000   8.80000"
      ]
     },
     "execution_count": 28,
     "metadata": {},
     "output_type": "execute_result"
    }
   ],
   "source": [
    "new_df.describe()"
   ]
  },
  {
   "cell_type": "markdown",
   "id": "c4e8efac",
   "metadata": {},
   "source": [
    "The mode (or most common value) is not included in `.describe()`. Let's see what the most _common_ rating is for a Netflix Orginal show. \n",
    "\n"
   ]
  },
  {
   "cell_type": "code",
   "execution_count": 29,
   "id": "705b1c7e",
   "metadata": {},
   "outputs": [
    {
     "data": {
      "text/plain": [
       "0    8.2\n",
       "Name: rating, dtype: float64"
      ]
     },
     "execution_count": 29,
     "metadata": {},
     "output_type": "execute_result"
    }
   ],
   "source": [
    "new_df['rating'].mode()"
   ]
  },
  {
   "cell_type": "markdown",
   "id": "39d1f9a7",
   "metadata": {},
   "source": [
    "Note that in our previous mean, max, mode calculations, we didn't actually learn _which_ show is associate with any of those values. Let's compute the max rating again, but this time, let's find out _which_ show got the max rating.\n"
   ]
  },
  {
   "cell_type": "code",
   "execution_count": 30,
   "id": "f1bca2ec",
   "metadata": {},
   "outputs": [
    {
     "data": {
      "text/html": [
       "<div>\n",
       "<style scoped>\n",
       "    .dataframe tbody tr th:only-of-type {\n",
       "        vertical-align: middle;\n",
       "    }\n",
       "\n",
       "    .dataframe tbody tr th {\n",
       "        vertical-align: top;\n",
       "    }\n",
       "\n",
       "    .dataframe thead th {\n",
       "        text-align: right;\n",
       "    }\n",
       "</style>\n",
       "<table border=\"1\" class=\"dataframe\">\n",
       "  <thead>\n",
       "    <tr style=\"text-align: right;\">\n",
       "      <th></th>\n",
       "      <th>index</th>\n",
       "      <th>show</th>\n",
       "      <th>certificate</th>\n",
       "      <th>runtime</th>\n",
       "      <th>genre</th>\n",
       "      <th>rating</th>\n",
       "      <th>votes</th>\n",
       "    </tr>\n",
       "  </thead>\n",
       "  <tbody>\n",
       "    <tr>\n",
       "      <th>6</th>\n",
       "      <td>7</td>\n",
       "      <td>Narcos</td>\n",
       "      <td>15</td>\n",
       "      <td>50</td>\n",
       "      <td>Biography, Crime, Drama</td>\n",
       "      <td>8.8</td>\n",
       "      <td>467,909</td>\n",
       "    </tr>\n",
       "    <tr>\n",
       "      <th>35</th>\n",
       "      <td>36</td>\n",
       "      <td>BoJack Horseman</td>\n",
       "      <td>18</td>\n",
       "      <td>25</td>\n",
       "      <td>Animation, Comedy, Drama</td>\n",
       "      <td>8.8</td>\n",
       "      <td>186,993</td>\n",
       "    </tr>\n",
       "  </tbody>\n",
       "</table>\n",
       "</div>"
      ],
      "text/plain": [
       "    index             show certificate  runtime                     genre  \\\n",
       "6       7           Narcos          15       50   Biography, Crime, Drama   \n",
       "35     36  BoJack Horseman          18       25  Animation, Comedy, Drama   \n",
       "\n",
       "    rating    votes  \n",
       "6      8.8  467,909  \n",
       "35     8.8  186,993  "
      ]
     },
     "execution_count": 30,
     "metadata": {},
     "output_type": "execute_result"
    }
   ],
   "source": [
    "max_rating = new_df['rating'].max()\n",
    "\n",
    "new_df.loc[new_df['rating'] == max_rating]"
   ]
  },
  {
   "cell_type": "markdown",
   "id": "bdec096f",
   "metadata": {},
   "source": [
    "# Exercises "
   ]
  },
  {
   "cell_type": "markdown",
   "id": "90b13e67",
   "metadata": {},
   "source": [
    "### 1. Look up your favorite Netflix Original and return its information. If it doesn't pop up in this table, feel free to pick a random show instead."
   ]
  },
  {
   "cell_type": "code",
   "execution_count": null,
   "id": "0bee2299",
   "metadata": {},
   "outputs": [],
   "source": []
  },
  {
   "cell_type": "markdown",
   "id": "06219df8",
   "metadata": {},
   "source": [
    "### 2. What show had the lowest ratings? What was the rating? "
   ]
  },
  {
   "cell_type": "code",
   "execution_count": null,
   "id": "535df4ca",
   "metadata": {},
   "outputs": [],
   "source": []
  },
  {
   "cell_type": "markdown",
   "id": "792b661b",
   "metadata": {},
   "source": [
    "### 3. Which Netflix Original is the most popular (had the most votes)? What was the number of votes?\n",
    "Hint: Votes are strings here, and need to be converted to numerical values (ints)! \n",
    "\n",
    "Another Hint: Last time, we had to remove the word \"mins\" from runtime values before converting to ints. What do we need to remove from the votes values before we can convert to ints?  \n"
   ]
  },
  {
   "cell_type": "code",
   "execution_count": null,
   "id": "6d475500",
   "metadata": {},
   "outputs": [],
   "source": []
  },
  {
   "cell_type": "code",
   "execution_count": 31,
   "id": "29a32631",
   "metadata": {},
   "outputs": [],
   "source": [
    "# Make sure to store your new votes values in new_df "
   ]
  },
  {
   "cell_type": "markdown",
   "id": "99157d2e",
   "metadata": {},
   "source": [
    "### 4. Sarah loves the Mystery genre. She's curious which shows with the word 'Mystery' in the genre column have the highest ratings. Recommend the top 3 highest rated shows in the Mystery genre to Sarah.\n",
    "\n"
   ]
  },
  {
   "cell_type": "code",
   "execution_count": null,
   "id": "d722ea46",
   "metadata": {},
   "outputs": [],
   "source": []
  },
  {
   "cell_type": "markdown",
   "id": "8b3f0cd6",
   "metadata": {},
   "source": [
    "### 5. Leif would like to recommend shows to his 15 year old cousin, but wants to make sure that he recommends shows that are age appropriate. Return a dataframe of all the shows with a Maturity Rating less than or equal to 15.  \n",
    "\n",
    "Hint: How should we think about handling 'PG' in this case? We could replace 'PG' with 13. \n"
   ]
  },
  {
   "cell_type": "code",
   "execution_count": null,
   "id": "201c9d5d",
   "metadata": {},
   "outputs": [],
   "source": []
  },
  {
   "cell_type": "code",
   "execution_count": 32,
   "id": "989b5e0c",
   "metadata": {},
   "outputs": [],
   "source": [
    "# Make sure to store your new certificates values in new_df"
   ]
  },
  {
   "cell_type": "markdown",
   "id": "c239690c",
   "metadata": {},
   "source": [
    "### 6. Compare `df.info()` and `new_df.info()`. Compare  `df.describe()` and `new_df.describe()`. You can use new_df to answer other questions you are curious about!"
   ]
  },
  {
   "cell_type": "code",
   "execution_count": null,
   "id": "17a05f74",
   "metadata": {},
   "outputs": [],
   "source": []
  }
 ],
 "metadata": {
  "kernelspec": {
   "display_name": "Python 3 (ipykernel)",
   "language": "python",
   "name": "python3"
  },
  "language_info": {
   "codemirror_mode": {
    "name": "ipython",
    "version": 3
   },
   "file_extension": ".py",
   "mimetype": "text/x-python",
   "name": "python",
   "nbconvert_exporter": "python",
   "pygments_lexer": "ipython3",
   "version": "3.9.12"
  }
 },
 "nbformat": 4,
 "nbformat_minor": 5
}
