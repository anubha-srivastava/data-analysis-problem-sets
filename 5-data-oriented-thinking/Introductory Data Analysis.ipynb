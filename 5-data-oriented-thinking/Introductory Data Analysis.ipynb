{
 "cells": [
  {
   "cell_type": "markdown",
   "id": "9f21820e",
   "metadata": {},
   "source": [
    "# Introductory data analysis with a real world dataset"
   ]
  },
  {
   "cell_type": "markdown",
   "id": "ab37400f",
   "metadata": {},
   "source": [
    "In this notebook, we'll cover some Introductory Data Analysis skills that can help you analyze new data. We've been exploring different pandas techniques in the previous problem sets. Let's see how we can apply those learnings to clean, explore, and gain insights from a real-world dataset. \n",
    "\n",
    "For this exercise, we'll be working with Netflix data! Specifically, we'll be working with the \"Most watched Netflix original shows\" dataset. Credit: [Muhmad Akmal,  Kaggle](https://www.kaggle.com/code/muhmadakmal/most-watched-netflix-original-shows-tv-time/input)\n"
   ]
  },
  {
   "cell_type": "markdown",
   "id": "07c58bf2",
   "metadata": {},
   "source": [
    "## Loading the data"
   ]
  },
  {
   "cell_type": "markdown",
   "id": "9b1eef1b",
   "metadata": {},
   "source": [
    "As you know from previous problem sets, one of the first things we can do when encountering a new dataset is load it into pandas and glance at first few rows."
   ]
  },
  {
   "cell_type": "code",
   "execution_count": 426,
   "id": "33fa3045",
   "metadata": {},
   "outputs": [],
   "source": [
    "import pandas as pd\n",
    "df = pd.read_csv('netflix_data.csv')"
   ]
  },
  {
   "cell_type": "markdown",
   "id": "dfe8cf93",
   "metadata": {},
   "source": [
    "Let's start with a very useful method called `[df.head()]` \n",
    "\n",
    "`df.head()` returns the first n rows of a dataframe based on position. By default, it will return the first 5 rows \n"
   ]
  },
  {
   "cell_type": "code",
   "execution_count": 427,
   "id": "4c18375b",
   "metadata": {},
   "outputs": [
    {
     "data": {
      "text/html": [
       "<div>\n",
       "<style scoped>\n",
       "    .dataframe tbody tr th:only-of-type {\n",
       "        vertical-align: middle;\n",
       "    }\n",
       "\n",
       "    .dataframe tbody tr th {\n",
       "        vertical-align: top;\n",
       "    }\n",
       "\n",
       "    .dataframe thead th {\n",
       "        text-align: right;\n",
       "    }\n",
       "</style>\n",
       "<table border=\"1\" class=\"dataframe\">\n",
       "  <thead>\n",
       "    <tr style=\"text-align: right;\">\n",
       "      <th></th>\n",
       "      <th>lister-item-index</th>\n",
       "      <th>lister-item-header</th>\n",
       "      <th>certificate</th>\n",
       "      <th>runtime</th>\n",
       "      <th>genre</th>\n",
       "      <th>rating</th>\n",
       "      <th>votes</th>\n",
       "    </tr>\n",
       "  </thead>\n",
       "  <tbody>\n",
       "    <tr>\n",
       "      <th>0</th>\n",
       "      <td>1</td>\n",
       "      <td>Stranger Things</td>\n",
       "      <td>15</td>\n",
       "      <td>60 min</td>\n",
       "      <td>Drama, Fantasy, Horror</td>\n",
       "      <td>8.7</td>\n",
       "      <td>1,327,188</td>\n",
       "    </tr>\n",
       "    <tr>\n",
       "      <th>1</th>\n",
       "      <td>2</td>\n",
       "      <td>13 Reasons Why</td>\n",
       "      <td>18</td>\n",
       "      <td>60 min</td>\n",
       "      <td>Drama, Mystery, Thriller</td>\n",
       "      <td>7.5</td>\n",
       "      <td>314,321</td>\n",
       "    </tr>\n",
       "    <tr>\n",
       "      <th>2</th>\n",
       "      <td>3</td>\n",
       "      <td>Orange Is the New Black</td>\n",
       "      <td>18</td>\n",
       "      <td>59 min</td>\n",
       "      <td>Comedy, Crime, Drama</td>\n",
       "      <td>8.0</td>\n",
       "      <td>319,342</td>\n",
       "    </tr>\n",
       "    <tr>\n",
       "      <th>3</th>\n",
       "      <td>4</td>\n",
       "      <td>Black Mirror</td>\n",
       "      <td>18</td>\n",
       "      <td>60 min</td>\n",
       "      <td>Drama, Mystery, Sci-Fi</td>\n",
       "      <td>8.7</td>\n",
       "      <td>636,319</td>\n",
       "    </tr>\n",
       "    <tr>\n",
       "      <th>4</th>\n",
       "      <td>5</td>\n",
       "      <td>Money Heist</td>\n",
       "      <td>15</td>\n",
       "      <td>60 min</td>\n",
       "      <td>Action, Crime, Drama</td>\n",
       "      <td>8.2</td>\n",
       "      <td>529,086</td>\n",
       "    </tr>\n",
       "  </tbody>\n",
       "</table>\n",
       "</div>"
      ],
      "text/plain": [
       "   lister-item-index       lister-item-header certificate runtime  \\\n",
       "0                  1          Stranger Things          15  60 min   \n",
       "1                  2           13 Reasons Why          18  60 min   \n",
       "2                  3  Orange Is the New Black          18  59 min   \n",
       "3                  4             Black Mirror          18  60 min   \n",
       "4                  5              Money Heist          15  60 min   \n",
       "\n",
       "                      genre  rating      votes  \n",
       "0    Drama, Fantasy, Horror     8.7  1,327,188  \n",
       "1  Drama, Mystery, Thriller     7.5    314,321  \n",
       "2      Comedy, Crime, Drama     8.0    319,342  \n",
       "3    Drama, Mystery, Sci-Fi     8.7    636,319  \n",
       "4      Action, Crime, Drama     8.2    529,086  "
      ]
     },
     "execution_count": 427,
     "metadata": {},
     "output_type": "execute_result"
    }
   ],
   "source": [
    "df.head()"
   ]
  },
  {
   "cell_type": "markdown",
   "id": "bd3b33d2",
   "metadata": {},
   "source": [
    "But let's say we were interested in seeing the first 8 rows. We can simply specify:\n"
   ]
  },
  {
   "cell_type": "code",
   "execution_count": 428,
   "id": "47c8c10f",
   "metadata": {},
   "outputs": [
    {
     "data": {
      "text/html": [
       "<div>\n",
       "<style scoped>\n",
       "    .dataframe tbody tr th:only-of-type {\n",
       "        vertical-align: middle;\n",
       "    }\n",
       "\n",
       "    .dataframe tbody tr th {\n",
       "        vertical-align: top;\n",
       "    }\n",
       "\n",
       "    .dataframe thead th {\n",
       "        text-align: right;\n",
       "    }\n",
       "</style>\n",
       "<table border=\"1\" class=\"dataframe\">\n",
       "  <thead>\n",
       "    <tr style=\"text-align: right;\">\n",
       "      <th></th>\n",
       "      <th>lister-item-index</th>\n",
       "      <th>lister-item-header</th>\n",
       "      <th>certificate</th>\n",
       "      <th>runtime</th>\n",
       "      <th>genre</th>\n",
       "      <th>rating</th>\n",
       "      <th>votes</th>\n",
       "    </tr>\n",
       "  </thead>\n",
       "  <tbody>\n",
       "    <tr>\n",
       "      <th>0</th>\n",
       "      <td>1</td>\n",
       "      <td>Stranger Things</td>\n",
       "      <td>15</td>\n",
       "      <td>60 min</td>\n",
       "      <td>Drama, Fantasy, Horror</td>\n",
       "      <td>8.7</td>\n",
       "      <td>1,327,188</td>\n",
       "    </tr>\n",
       "    <tr>\n",
       "      <th>1</th>\n",
       "      <td>2</td>\n",
       "      <td>13 Reasons Why</td>\n",
       "      <td>18</td>\n",
       "      <td>60 min</td>\n",
       "      <td>Drama, Mystery, Thriller</td>\n",
       "      <td>7.5</td>\n",
       "      <td>314,321</td>\n",
       "    </tr>\n",
       "    <tr>\n",
       "      <th>2</th>\n",
       "      <td>3</td>\n",
       "      <td>Orange Is the New Black</td>\n",
       "      <td>18</td>\n",
       "      <td>59 min</td>\n",
       "      <td>Comedy, Crime, Drama</td>\n",
       "      <td>8.0</td>\n",
       "      <td>319,342</td>\n",
       "    </tr>\n",
       "    <tr>\n",
       "      <th>3</th>\n",
       "      <td>4</td>\n",
       "      <td>Black Mirror</td>\n",
       "      <td>18</td>\n",
       "      <td>60 min</td>\n",
       "      <td>Drama, Mystery, Sci-Fi</td>\n",
       "      <td>8.7</td>\n",
       "      <td>636,319</td>\n",
       "    </tr>\n",
       "    <tr>\n",
       "      <th>4</th>\n",
       "      <td>5</td>\n",
       "      <td>Money Heist</td>\n",
       "      <td>15</td>\n",
       "      <td>60 min</td>\n",
       "      <td>Action, Crime, Drama</td>\n",
       "      <td>8.2</td>\n",
       "      <td>529,086</td>\n",
       "    </tr>\n",
       "    <tr>\n",
       "      <th>5</th>\n",
       "      <td>6</td>\n",
       "      <td>Lucifer</td>\n",
       "      <td>15</td>\n",
       "      <td>60 min</td>\n",
       "      <td>Crime, Drama, Fantasy</td>\n",
       "      <td>8.1</td>\n",
       "      <td>354,155</td>\n",
       "    </tr>\n",
       "    <tr>\n",
       "      <th>6</th>\n",
       "      <td>7</td>\n",
       "      <td>Narcos</td>\n",
       "      <td>15</td>\n",
       "      <td>50 min</td>\n",
       "      <td>Biography, Crime, Drama</td>\n",
       "      <td>8.8</td>\n",
       "      <td>467,909</td>\n",
       "    </tr>\n",
       "    <tr>\n",
       "      <th>7</th>\n",
       "      <td>8</td>\n",
       "      <td>Daredevil</td>\n",
       "      <td>15</td>\n",
       "      <td>60 min</td>\n",
       "      <td>Action, Crime, Drama</td>\n",
       "      <td>8.6</td>\n",
       "      <td>472,940</td>\n",
       "    </tr>\n",
       "  </tbody>\n",
       "</table>\n",
       "</div>"
      ],
      "text/plain": [
       "   lister-item-index       lister-item-header certificate runtime  \\\n",
       "0                  1          Stranger Things          15  60 min   \n",
       "1                  2           13 Reasons Why          18  60 min   \n",
       "2                  3  Orange Is the New Black          18  59 min   \n",
       "3                  4             Black Mirror          18  60 min   \n",
       "4                  5              Money Heist          15  60 min   \n",
       "5                  6                  Lucifer          15  60 min   \n",
       "6                  7                   Narcos          15  50 min   \n",
       "7                  8                Daredevil          15  60 min   \n",
       "\n",
       "                      genre  rating      votes  \n",
       "0    Drama, Fantasy, Horror     8.7  1,327,188  \n",
       "1  Drama, Mystery, Thriller     7.5    314,321  \n",
       "2      Comedy, Crime, Drama     8.0    319,342  \n",
       "3    Drama, Mystery, Sci-Fi     8.7    636,319  \n",
       "4      Action, Crime, Drama     8.2    529,086  \n",
       "5     Crime, Drama, Fantasy     8.1    354,155  \n",
       "6   Biography, Crime, Drama     8.8    467,909  \n",
       "7      Action, Crime, Drama     8.6    472,940  "
      ]
     },
     "execution_count": 428,
     "metadata": {},
     "output_type": "execute_result"
    }
   ],
   "source": [
    "df.head(8)"
   ]
  },
  {
   "cell_type": "markdown",
   "id": "50579c89",
   "metadata": {},
   "source": [
    "`df.tail()` works in a similar way. It returns the last n rows of the dataset, with the default being 5 rows. "
   ]
  },
  {
   "cell_type": "code",
   "execution_count": 429,
   "id": "13c7b086",
   "metadata": {},
   "outputs": [
    {
     "data": {
      "text/html": [
       "<div>\n",
       "<style scoped>\n",
       "    .dataframe tbody tr th:only-of-type {\n",
       "        vertical-align: middle;\n",
       "    }\n",
       "\n",
       "    .dataframe tbody tr th {\n",
       "        vertical-align: top;\n",
       "    }\n",
       "\n",
       "    .dataframe thead th {\n",
       "        text-align: right;\n",
       "    }\n",
       "</style>\n",
       "<table border=\"1\" class=\"dataframe\">\n",
       "  <thead>\n",
       "    <tr style=\"text-align: right;\">\n",
       "      <th></th>\n",
       "      <th>lister-item-index</th>\n",
       "      <th>lister-item-header</th>\n",
       "      <th>certificate</th>\n",
       "      <th>runtime</th>\n",
       "      <th>genre</th>\n",
       "      <th>rating</th>\n",
       "      <th>votes</th>\n",
       "    </tr>\n",
       "  </thead>\n",
       "  <tbody>\n",
       "    <tr>\n",
       "      <th>75</th>\n",
       "      <td>76</td>\n",
       "      <td>F Is for Family</td>\n",
       "      <td>15</td>\n",
       "      <td>30 min</td>\n",
       "      <td>Animation, Comedy, Drama</td>\n",
       "      <td>8.0</td>\n",
       "      <td>41,074</td>\n",
       "    </tr>\n",
       "    <tr>\n",
       "      <th>76</th>\n",
       "      <td>77</td>\n",
       "      <td>The Ranch</td>\n",
       "      <td>15</td>\n",
       "      <td>30 min</td>\n",
       "      <td>Comedy, Drama, Western</td>\n",
       "      <td>7.5</td>\n",
       "      <td>42,401</td>\n",
       "    </tr>\n",
       "    <tr>\n",
       "      <th>77</th>\n",
       "      <td>78</td>\n",
       "      <td>American Vandal</td>\n",
       "      <td>15</td>\n",
       "      <td>34 min</td>\n",
       "      <td>Comedy, Crime, Drama</td>\n",
       "      <td>8.1</td>\n",
       "      <td>32,985</td>\n",
       "    </tr>\n",
       "    <tr>\n",
       "      <th>78</th>\n",
       "      <td>79</td>\n",
       "      <td>Dead to Me</td>\n",
       "      <td>15</td>\n",
       "      <td>30 min</td>\n",
       "      <td>Comedy, Crime, Drama</td>\n",
       "      <td>7.9</td>\n",
       "      <td>99,440</td>\n",
       "    </tr>\n",
       "    <tr>\n",
       "      <th>79</th>\n",
       "      <td>80</td>\n",
       "      <td>Quicksand</td>\n",
       "      <td>18</td>\n",
       "      <td>45 min</td>\n",
       "      <td>Crime, Drama, Mystery</td>\n",
       "      <td>7.4</td>\n",
       "      <td>25,507</td>\n",
       "    </tr>\n",
       "  </tbody>\n",
       "</table>\n",
       "</div>"
      ],
      "text/plain": [
       "    lister-item-index lister-item-header certificate runtime  \\\n",
       "75                 76    F Is for Family          15  30 min   \n",
       "76                 77          The Ranch          15  30 min   \n",
       "77                 78    American Vandal          15  34 min   \n",
       "78                 79         Dead to Me          15  30 min   \n",
       "79                 80          Quicksand          18  45 min   \n",
       "\n",
       "                       genre  rating   votes  \n",
       "75  Animation, Comedy, Drama     8.0  41,074  \n",
       "76    Comedy, Drama, Western     7.5  42,401  \n",
       "77      Comedy, Crime, Drama     8.1  32,985  \n",
       "78      Comedy, Crime, Drama     7.9  99,440  \n",
       "79     Crime, Drama, Mystery     7.4  25,507  "
      ]
     },
     "execution_count": 429,
     "metadata": {},
     "output_type": "execute_result"
    }
   ],
   "source": [
    "df.tail()"
   ]
  },
  {
   "cell_type": "markdown",
   "id": "03919c86",
   "metadata": {},
   "source": [
    "You can use `df.sample()` to randomly sample some rows that you want to take a peek at. This is especially useful in cases where you don't think the first/last few rows are indicitative of the entire dataset."
   ]
  },
  {
   "cell_type": "code",
   "execution_count": 473,
   "id": "51eb4e30",
   "metadata": {},
   "outputs": [
    {
     "data": {
      "text/html": [
       "<div>\n",
       "<style scoped>\n",
       "    .dataframe tbody tr th:only-of-type {\n",
       "        vertical-align: middle;\n",
       "    }\n",
       "\n",
       "    .dataframe tbody tr th {\n",
       "        vertical-align: top;\n",
       "    }\n",
       "\n",
       "    .dataframe thead th {\n",
       "        text-align: right;\n",
       "    }\n",
       "</style>\n",
       "<table border=\"1\" class=\"dataframe\">\n",
       "  <thead>\n",
       "    <tr style=\"text-align: right;\">\n",
       "      <th></th>\n",
       "      <th>lister-item-index</th>\n",
       "      <th>lister-item-header</th>\n",
       "      <th>certificate</th>\n",
       "      <th>runtime</th>\n",
       "      <th>genre</th>\n",
       "      <th>rating</th>\n",
       "      <th>votes</th>\n",
       "    </tr>\n",
       "  </thead>\n",
       "  <tbody>\n",
       "    <tr>\n",
       "      <th>44</th>\n",
       "      <td>45</td>\n",
       "      <td>The Society</td>\n",
       "      <td>15</td>\n",
       "      <td>58 min</td>\n",
       "      <td>Drama, Mystery, Sci-Fi</td>\n",
       "      <td>7.1</td>\n",
       "      <td>36,504</td>\n",
       "    </tr>\n",
       "    <tr>\n",
       "      <th>61</th>\n",
       "      <td>62</td>\n",
       "      <td>Love</td>\n",
       "      <td>15</td>\n",
       "      <td>50 min</td>\n",
       "      <td>Comedy, Drama, Romance</td>\n",
       "      <td>7.6</td>\n",
       "      <td>45,854</td>\n",
       "    </tr>\n",
       "    <tr>\n",
       "      <th>6</th>\n",
       "      <td>7</td>\n",
       "      <td>Narcos</td>\n",
       "      <td>15</td>\n",
       "      <td>50 min</td>\n",
       "      <td>Biography, Crime, Drama</td>\n",
       "      <td>8.8</td>\n",
       "      <td>467,909</td>\n",
       "    </tr>\n",
       "    <tr>\n",
       "      <th>34</th>\n",
       "      <td>35</td>\n",
       "      <td>Disenchantment</td>\n",
       "      <td>15</td>\n",
       "      <td>30 min</td>\n",
       "      <td>Animation, Action, Adventure</td>\n",
       "      <td>7.2</td>\n",
       "      <td>72,503</td>\n",
       "    </tr>\n",
       "    <tr>\n",
       "      <th>18</th>\n",
       "      <td>19</td>\n",
       "      <td>The Punisher</td>\n",
       "      <td>18</td>\n",
       "      <td>60 min</td>\n",
       "      <td>Action, Crime, Drama</td>\n",
       "      <td>8.4</td>\n",
       "      <td>263,516</td>\n",
       "    </tr>\n",
       "  </tbody>\n",
       "</table>\n",
       "</div>"
      ],
      "text/plain": [
       "    lister-item-index lister-item-header certificate runtime  \\\n",
       "44                 45        The Society          15  58 min   \n",
       "61                 62               Love          15  50 min   \n",
       "6                   7             Narcos          15  50 min   \n",
       "34                 35     Disenchantment          15  30 min   \n",
       "18                 19       The Punisher          18  60 min   \n",
       "\n",
       "                           genre  rating    votes  \n",
       "44        Drama, Mystery, Sci-Fi     7.1   36,504  \n",
       "61        Comedy, Drama, Romance     7.6   45,854  \n",
       "6        Biography, Crime, Drama     8.8  467,909  \n",
       "34  Animation, Action, Adventure     7.2   72,503  \n",
       "18          Action, Crime, Drama     8.4  263,516  "
      ]
     },
     "execution_count": 473,
     "metadata": {},
     "output_type": "execute_result"
    }
   ],
   "source": [
    "df.sample(5)"
   ]
  },
  {
   "cell_type": "markdown",
   "id": "6f91d304",
   "metadata": {},
   "source": [
    "## Analyzing Columns & Rows"
   ]
  },
  {
   "cell_type": "markdown",
   "id": "bcb789ad",
   "metadata": {},
   "source": [
    "Now that we have a good idea of what this dataset looks like, let's analyze what each column here is representing! \n",
    "\n",
    "In our case, we can visually see the title of all 7 columns of our dataset. But in larger datasets (say with a 100 columns) we can use `df.columns` to return all the column labels in our dataframe.\n"
   ]
  },
  {
   "cell_type": "code",
   "execution_count": 474,
   "id": "34527b04",
   "metadata": {},
   "outputs": [
    {
     "data": {
      "text/plain": [
       "Index(['lister-item-index', 'lister-item-header', 'certificate', 'runtime',\n",
       "       'genre', 'rating', 'votes'],\n",
       "      dtype='object')"
      ]
     },
     "execution_count": 474,
     "metadata": {},
     "output_type": "execute_result"
    }
   ],
   "source": [
    "df.columns"
   ]
  },
  {
   "cell_type": "markdown",
   "id": "b359260c",
   "metadata": {},
   "source": [
    "Some of these column names are little long. Luckily, we can use `df.rename` to rename any column we'd like"
   ]
  },
  {
   "cell_type": "code",
   "execution_count": 432,
   "id": "82c07a8a",
   "metadata": {},
   "outputs": [
    {
     "data": {
      "text/html": [
       "<div>\n",
       "<style scoped>\n",
       "    .dataframe tbody tr th:only-of-type {\n",
       "        vertical-align: middle;\n",
       "    }\n",
       "\n",
       "    .dataframe tbody tr th {\n",
       "        vertical-align: top;\n",
       "    }\n",
       "\n",
       "    .dataframe thead th {\n",
       "        text-align: right;\n",
       "    }\n",
       "</style>\n",
       "<table border=\"1\" class=\"dataframe\">\n",
       "  <thead>\n",
       "    <tr style=\"text-align: right;\">\n",
       "      <th></th>\n",
       "      <th>index</th>\n",
       "      <th>show</th>\n",
       "      <th>certificate</th>\n",
       "      <th>runtime</th>\n",
       "      <th>genre</th>\n",
       "      <th>rating</th>\n",
       "      <th>votes</th>\n",
       "    </tr>\n",
       "  </thead>\n",
       "  <tbody>\n",
       "    <tr>\n",
       "      <th>0</th>\n",
       "      <td>1</td>\n",
       "      <td>Stranger Things</td>\n",
       "      <td>15</td>\n",
       "      <td>60 min</td>\n",
       "      <td>Drama, Fantasy, Horror</td>\n",
       "      <td>8.7</td>\n",
       "      <td>1,327,188</td>\n",
       "    </tr>\n",
       "    <tr>\n",
       "      <th>1</th>\n",
       "      <td>2</td>\n",
       "      <td>13 Reasons Why</td>\n",
       "      <td>18</td>\n",
       "      <td>60 min</td>\n",
       "      <td>Drama, Mystery, Thriller</td>\n",
       "      <td>7.5</td>\n",
       "      <td>314,321</td>\n",
       "    </tr>\n",
       "    <tr>\n",
       "      <th>2</th>\n",
       "      <td>3</td>\n",
       "      <td>Orange Is the New Black</td>\n",
       "      <td>18</td>\n",
       "      <td>59 min</td>\n",
       "      <td>Comedy, Crime, Drama</td>\n",
       "      <td>8.0</td>\n",
       "      <td>319,342</td>\n",
       "    </tr>\n",
       "    <tr>\n",
       "      <th>3</th>\n",
       "      <td>4</td>\n",
       "      <td>Black Mirror</td>\n",
       "      <td>18</td>\n",
       "      <td>60 min</td>\n",
       "      <td>Drama, Mystery, Sci-Fi</td>\n",
       "      <td>8.7</td>\n",
       "      <td>636,319</td>\n",
       "    </tr>\n",
       "    <tr>\n",
       "      <th>4</th>\n",
       "      <td>5</td>\n",
       "      <td>Money Heist</td>\n",
       "      <td>15</td>\n",
       "      <td>60 min</td>\n",
       "      <td>Action, Crime, Drama</td>\n",
       "      <td>8.2</td>\n",
       "      <td>529,086</td>\n",
       "    </tr>\n",
       "  </tbody>\n",
       "</table>\n",
       "</div>"
      ],
      "text/plain": [
       "   index                     show certificate runtime  \\\n",
       "0      1          Stranger Things          15  60 min   \n",
       "1      2           13 Reasons Why          18  60 min   \n",
       "2      3  Orange Is the New Black          18  59 min   \n",
       "3      4             Black Mirror          18  60 min   \n",
       "4      5              Money Heist          15  60 min   \n",
       "\n",
       "                      genre  rating      votes  \n",
       "0    Drama, Fantasy, Horror     8.7  1,327,188  \n",
       "1  Drama, Mystery, Thriller     7.5    314,321  \n",
       "2      Comedy, Crime, Drama     8.0    319,342  \n",
       "3    Drama, Mystery, Sci-Fi     8.7    636,319  \n",
       "4      Action, Crime, Drama     8.2    529,086  "
      ]
     },
     "execution_count": 432,
     "metadata": {},
     "output_type": "execute_result"
    }
   ],
   "source": [
    "new_df = df.rename(columns={'lister-item-header': 'show', 'lister-item-index': 'index'})\n",
    "new_df.head()"
   ]
  },
  {
   "cell_type": "markdown",
   "id": "fcce436e",
   "metadata": {},
   "source": [
    "`index:` Describes the index of the show as listed on IMDB - begins indexing at 1\n",
    "\n",
    "`show:` Show Name\n",
    "\n",
    "`certificate:` Maturity Rating. For example, a certificate of 15 implies that content may be unsuitable for children under this age. \n",
    "\n",
    "`runtime:` The average runtime of each episode of the show\n",
    "\n",
    "`genre:` The genres associated with the show. \n",
    "\n",
    "`rating:` IMDB rating for that show \n",
    "\n",
    "`votes:` Number of people that rated the show\n",
    "\n",
    "For the purposes of this exercise, let's assume that all the data in this dataset is accurate. "
   ]
  },
  {
   "cell_type": "markdown",
   "id": "412ae461",
   "metadata": {},
   "source": [
    "Let's keep going with our columns and row analysis: We can use `new_df.shape` to return the number of rows and columns of our dataframe. "
   ]
  },
  {
   "cell_type": "code",
   "execution_count": 475,
   "id": "13beb3f0",
   "metadata": {},
   "outputs": [
    {
     "data": {
      "text/plain": [
       "(80, 7)"
      ]
     },
     "execution_count": 475,
     "metadata": {},
     "output_type": "execute_result"
    }
   ],
   "source": [
    "new_df.shape"
   ]
  },
  {
   "cell_type": "markdown",
   "id": "06bfbad1",
   "metadata": {},
   "source": [
    "Note that our `.shape` returns a tuple, which we can actually store into two seperate variables (called rows and columns) for easy future access."
   ]
  },
  {
   "cell_type": "code",
   "execution_count": 476,
   "id": "984ef50b",
   "metadata": {},
   "outputs": [],
   "source": [
    "rows, columns = new_df.shape"
   ]
  },
  {
   "cell_type": "code",
   "execution_count": 477,
   "id": "41eabf19",
   "metadata": {},
   "outputs": [
    {
     "data": {
      "text/plain": [
       "80"
      ]
     },
     "execution_count": 477,
     "metadata": {},
     "output_type": "execute_result"
    }
   ],
   "source": [
    "rows"
   ]
  },
  {
   "cell_type": "code",
   "execution_count": 478,
   "id": "11ee06cd",
   "metadata": {},
   "outputs": [
    {
     "data": {
      "text/plain": [
       "7"
      ]
     },
     "execution_count": 478,
     "metadata": {},
     "output_type": "execute_result"
    }
   ],
   "source": [
    "columns"
   ]
  },
  {
   "cell_type": "markdown",
   "id": "0635b1af",
   "metadata": {},
   "source": [
    "There are some other helpful things we can use to describe our data! \n",
    "\n",
    "`new_df.info()` prints information about the dataframe, including the data types found in each column."
   ]
  },
  {
   "cell_type": "code",
   "execution_count": 437,
   "id": "0837108c",
   "metadata": {},
   "outputs": [
    {
     "name": "stdout",
     "output_type": "stream",
     "text": [
      "<class 'pandas.core.frame.DataFrame'>\n",
      "RangeIndex: 80 entries, 0 to 79\n",
      "Data columns (total 7 columns):\n",
      " #   Column       Non-Null Count  Dtype  \n",
      "---  ------       --------------  -----  \n",
      " 0   index        80 non-null     int64  \n",
      " 1   show         80 non-null     object \n",
      " 2   certificate  80 non-null     object \n",
      " 3   runtime      80 non-null     object \n",
      " 4   genre        80 non-null     object \n",
      " 5   rating       80 non-null     float64\n",
      " 6   votes        80 non-null     object \n",
      "dtypes: float64(1), int64(1), object(5)\n",
      "memory usage: 4.5+ KB\n"
     ]
    }
   ],
   "source": [
    "new_df.info()"
   ]
  },
  {
   "cell_type": "markdown",
   "id": "e79ba9f9",
   "metadata": {},
   "source": [
    "There's a lot of things outputted here! Let's break them down: \n",
    "\n",
    "For each of our 7 dataframe columns, we can see `Non-Null Count` and `Dtype`. The `Non-Null Count` (as the name implies) tells us how many values in that particular column are not null.\n",
    "\n",
    "`Dtype` tells us what the data type is for values in a column. The index column is of type `int64`, the rating column is `float64`, and the remaining  columns are of type `object`. In other words, only two of our columns are representing a numerical value (index and rating). The show, certificate, genre, and ratings, and votes columns are strings (the default data type for strings in DataFrames is the object type).\n",
    "\n",
    "\n",
    "We also get overall memory usage of our dataframe. Side note: If you're interested in a more accurate measure of memory usage, feel free to try `new_df.info(memory_usage='deep')`"
   ]
  },
  {
   "cell_type": "markdown",
   "id": "f8997a4d",
   "metadata": {},
   "source": [
    "##### ----------------------------------------------------------------------------------------------------------------------------------------------------------------\n",
    "Small segway since we're talking about null values! There are many, many, many ways to check for null values in your dataset! Here's one approach:"
   ]
  },
  {
   "cell_type": "code",
   "execution_count": 481,
   "id": "1b40f86e",
   "metadata": {},
   "outputs": [
    {
     "data": {
      "text/plain": [
       "False"
      ]
     },
     "execution_count": 481,
     "metadata": {},
     "output_type": "execute_result"
    }
   ],
   "source": [
    "new_df.isnull().values.any()"
   ]
  },
  {
   "cell_type": "markdown",
   "id": "a42ffd46",
   "metadata": {},
   "source": [
    "You can also run the following code to see __how many__ values are null in the dataset. In our case, we know the total number is 0\n"
   ]
  },
  {
   "cell_type": "code",
   "execution_count": 482,
   "id": "af885abc",
   "metadata": {},
   "outputs": [
    {
     "data": {
      "text/plain": [
       "0"
      ]
     },
     "execution_count": 482,
     "metadata": {},
     "output_type": "execute_result"
    }
   ],
   "source": [
    "new_df.isnull().sum().sum()"
   ]
  },
  {
   "cell_type": "markdown",
   "id": "7664e368",
   "metadata": {},
   "source": [
    "##### ----------------------------------------------------------------------------------------------------------------------------------------------------------------"
   ]
  },
  {
   "cell_type": "markdown",
   "id": "08bde6e5",
   "metadata": {},
   "source": [
    "Another useful method (and one of my favorites) is `df.describe()`. `df.describe()` generates descriptive statistics (e.g. total count, mean, standard deviation, min, and max) for all __numerical__ columns in your dataset by default. \n",
    "\n",
    "As we saw above, only the `index` and `rating` columns in our dataframe are numerical"
   ]
  },
  {
   "cell_type": "code",
   "execution_count": 440,
   "id": "a97f34aa",
   "metadata": {},
   "outputs": [
    {
     "data": {
      "text/html": [
       "<div>\n",
       "<style scoped>\n",
       "    .dataframe tbody tr th:only-of-type {\n",
       "        vertical-align: middle;\n",
       "    }\n",
       "\n",
       "    .dataframe tbody tr th {\n",
       "        vertical-align: top;\n",
       "    }\n",
       "\n",
       "    .dataframe thead th {\n",
       "        text-align: right;\n",
       "    }\n",
       "</style>\n",
       "<table border=\"1\" class=\"dataframe\">\n",
       "  <thead>\n",
       "    <tr style=\"text-align: right;\">\n",
       "      <th></th>\n",
       "      <th>index</th>\n",
       "      <th>rating</th>\n",
       "    </tr>\n",
       "  </thead>\n",
       "  <tbody>\n",
       "    <tr>\n",
       "      <th>count</th>\n",
       "      <td>80.0000</td>\n",
       "      <td>80.00000</td>\n",
       "    </tr>\n",
       "    <tr>\n",
       "      <th>mean</th>\n",
       "      <td>40.5000</td>\n",
       "      <td>7.72000</td>\n",
       "    </tr>\n",
       "    <tr>\n",
       "      <th>std</th>\n",
       "      <td>23.2379</td>\n",
       "      <td>0.71235</td>\n",
       "    </tr>\n",
       "    <tr>\n",
       "      <th>min</th>\n",
       "      <td>1.0000</td>\n",
       "      <td>5.90000</td>\n",
       "    </tr>\n",
       "    <tr>\n",
       "      <th>25%</th>\n",
       "      <td>20.7500</td>\n",
       "      <td>7.20000</td>\n",
       "    </tr>\n",
       "    <tr>\n",
       "      <th>50%</th>\n",
       "      <td>40.5000</td>\n",
       "      <td>7.80000</td>\n",
       "    </tr>\n",
       "    <tr>\n",
       "      <th>75%</th>\n",
       "      <td>60.2500</td>\n",
       "      <td>8.22500</td>\n",
       "    </tr>\n",
       "    <tr>\n",
       "      <th>max</th>\n",
       "      <td>80.0000</td>\n",
       "      <td>8.80000</td>\n",
       "    </tr>\n",
       "  </tbody>\n",
       "</table>\n",
       "</div>"
      ],
      "text/plain": [
       "         index    rating\n",
       "count  80.0000  80.00000\n",
       "mean   40.5000   7.72000\n",
       "std    23.2379   0.71235\n",
       "min     1.0000   5.90000\n",
       "25%    20.7500   7.20000\n",
       "50%    40.5000   7.80000\n",
       "75%    60.2500   8.22500\n",
       "max    80.0000   8.80000"
      ]
     },
     "execution_count": 440,
     "metadata": {},
     "output_type": "execute_result"
    }
   ],
   "source": [
    "new_df.describe()"
   ]
  },
  {
   "cell_type": "markdown",
   "id": "b6b7dec6",
   "metadata": {},
   "source": [
    "It's not particularly helpful for us to learn statistics about the index column- the index just identifies each row in the dataset. \n",
    "\n",
    "\n",
    "But we did get some interesting analysis on the ratings across our Netflix shows! For example, the average rating for a show was a 7.72. The standard deviation was only ~.71! This tells us that there wasn't much variance from the average rating. \n",
    "\n",
    "\n",
    "We also learned that the max rating achieved by any show was 8.8"
   ]
  },
  {
   "cell_type": "markdown",
   "id": "f868c304",
   "metadata": {},
   "source": [
    "Let's come back to `df.describe` after we do some more data cleaning (yay...)! This method will become even more useful for us later."
   ]
  },
  {
   "cell_type": "markdown",
   "id": "2ef1e920",
   "metadata": {},
   "source": [
    "## Data Cleaning"
   ]
  },
  {
   "cell_type": "markdown",
   "id": "4a00adf7",
   "metadata": {},
   "source": [
    "Anubha is a Netflix addict! She'd like to watch the first episode of ALL the Netflix shows in our dataframe. How many minutes will it take her to watch all of these epsiodes? Let's sum up all of the runtimes in our table to get the answer. \n",
    "\n"
   ]
  },
  {
   "cell_type": "code",
   "execution_count": 441,
   "id": "6cc23883",
   "metadata": {},
   "outputs": [
    {
     "data": {
      "text/plain": [
       "'60 min60 min59 min60 min60 min60 min50 min60 min60 min56 min50 min25 min60 min60 min60 min45 min60 min60 min60 min60 min55 min55 min30 min30 min45 min50 min60 min60 min45 min60 min49 min60 min60 min30 min30 min25 min26 min60 min60 min50 min30 min30 min50 min60 min58 min60 min60 min30 min23 min30 min60 min30 min15 min30 min60 min25 min63 min60 min30 min45 min30 min50 min60 min27 min30 min60 min35 min60 min51 min52 min45 min30 min22 min46 min60 min30 min30 min34 min30 min45 min'"
      ]
     },
     "execution_count": 441,
     "metadata": {},
     "output_type": "execute_result"
    }
   ],
   "source": [
    "new_df['runtime'].sum()"
   ]
  },
  {
   "cell_type": "markdown",
   "id": "43688b5e",
   "metadata": {},
   "source": [
    "We've done this before in previous problem sets! What went wrong here? \n",
    "\n",
    "Remember that Python only let's us do arithmetic operations on numbers. From `new_df.info()`, we learned that only `index` and `rating` are numerical columns.\n",
    "\n",
    "To tripled check, let's just see which columns in our datframe can actually be summed. "
   ]
  },
  {
   "cell_type": "code",
   "execution_count": 483,
   "id": "3a121262",
   "metadata": {},
   "outputs": [
    {
     "data": {
      "text/plain": [
       "index      3240.0\n",
       "runtime    3741.0\n",
       "rating      617.6\n",
       "dtype: float64"
      ]
     },
     "execution_count": 483,
     "metadata": {},
     "output_type": "execute_result"
    }
   ],
   "source": [
    "new_df.sum(numeric_only= True)"
   ]
  },
  {
   "cell_type": "markdown",
   "id": "b1cebf1f",
   "metadata": {},
   "source": [
    "Runtime is not one of them. \n",
    "\n",
    "\n",
    "\n"
   ]
  },
  {
   "cell_type": "code",
   "execution_count": 460,
   "id": "691c5e1d",
   "metadata": {},
   "outputs": [
    {
     "data": {
      "text/plain": [
       "'60 min'"
      ]
     },
     "execution_count": 460,
     "metadata": {},
     "output_type": "execute_result"
    }
   ],
   "source": [
    "#Let's take another look at what a value in df['runtimes'] looks like, just for reference\n",
    "df['runtime'][0]"
   ]
  },
  {
   "cell_type": "markdown",
   "id": "c4c3b58f",
   "metadata": {},
   "source": [
    "To sum runtimes, we'll need to convert each value into a numerical value instead of a string. We want to go from '60 min' to  60.\n",
    "\n",
    "Let's do this by first removing the word 'min' from each value, and then converting the result from a string to an int! The simplest (but not only) way to do this is by using `df.replace` and `.astype()`\n"
   ]
  },
  {
   "cell_type": "code",
   "execution_count": 446,
   "id": "775b003f",
   "metadata": {},
   "outputs": [],
   "source": [
    "#The following code shows you how to do this operation for all values in our df.runtime column at once.\n",
    "#It also overwrites the original runtime in new_df with the new runtime column we just created.\n",
    "new_df['runtime'] = df['runtime'].str.replace(' min', '').astype('int')"
   ]
  },
  {
   "cell_type": "code",
   "execution_count": 484,
   "id": "1701b34d",
   "metadata": {},
   "outputs": [
    {
     "data": {
      "text/plain": [
       "0     60\n",
       "1     60\n",
       "2     59\n",
       "3     60\n",
       "4     60\n",
       "      ..\n",
       "75    30\n",
       "76    30\n",
       "77    34\n",
       "78    30\n",
       "79    45\n",
       "Name: runtime, Length: 80, dtype: int64"
      ]
     },
     "execution_count": 484,
     "metadata": {},
     "output_type": "execute_result"
    }
   ],
   "source": [
    "#Great! If you run this cell, you'll see that all our runtime values are of type int64!\n",
    "new_df['runtime']"
   ]
  },
  {
   "cell_type": "markdown",
   "id": "50ce82df",
   "metadata": {},
   "source": [
    "Now... how many minutes will it take Anubha to watch the first episode of every show in our Netflix dataset?"
   ]
  },
  {
   "cell_type": "code",
   "execution_count": 463,
   "id": "4a427505",
   "metadata": {},
   "outputs": [
    {
     "data": {
      "text/plain": [
       "3741"
      ]
     },
     "execution_count": 463,
     "metadata": {},
     "output_type": "execute_result"
    }
   ],
   "source": [
    "new_df['runtime'].sum()"
   ]
  },
  {
   "cell_type": "markdown",
   "id": "7b5d2b74",
   "metadata": {},
   "source": [
    "That's a lot of minutes 😬. (This example was to show that you'll have to do some data cleaning/data manipulation with pretty much every dataset you encounter. This is a relatively \"easy\" dataset- it has a usability rating of 10 on Kaggle. But we still had to do some additional tricks to find the answers we're looking for.) \n",
    "\n",
    "Now that we've converted the runtime column into a numerical column, we can do all kinds of other fun analysis. What's the average runtime of Netflix orgininal shows? "
   ]
  },
  {
   "cell_type": "code",
   "execution_count": 488,
   "id": "d7181a69",
   "metadata": {},
   "outputs": [
    {
     "data": {
      "text/plain": [
       "46.7625"
      ]
     },
     "execution_count": 488,
     "metadata": {},
     "output_type": "execute_result"
    }
   ],
   "source": [
    "new_df['runtime'].mean()"
   ]
  },
  {
   "cell_type": "markdown",
   "id": "e15fc328",
   "metadata": {},
   "source": [
    "What about the max runtime?"
   ]
  },
  {
   "cell_type": "code",
   "execution_count": 486,
   "id": "6f32a686",
   "metadata": {},
   "outputs": [
    {
     "data": {
      "text/plain": [
       "63"
      ]
     },
     "execution_count": 486,
     "metadata": {},
     "output_type": "execute_result"
    }
   ],
   "source": [
    "new_df['runtime'].max()"
   ]
  },
  {
   "cell_type": "markdown",
   "id": "8820ad12",
   "metadata": {},
   "source": [
    "Also, let's go back to `new_df.describe` and see how the output changes now that runtime is a numerical column! "
   ]
  },
  {
   "cell_type": "code",
   "execution_count": 489,
   "id": "450b6997",
   "metadata": {},
   "outputs": [
    {
     "data": {
      "text/html": [
       "<div>\n",
       "<style scoped>\n",
       "    .dataframe tbody tr th:only-of-type {\n",
       "        vertical-align: middle;\n",
       "    }\n",
       "\n",
       "    .dataframe tbody tr th {\n",
       "        vertical-align: top;\n",
       "    }\n",
       "\n",
       "    .dataframe thead th {\n",
       "        text-align: right;\n",
       "    }\n",
       "</style>\n",
       "<table border=\"1\" class=\"dataframe\">\n",
       "  <thead>\n",
       "    <tr style=\"text-align: right;\">\n",
       "      <th></th>\n",
       "      <th>index</th>\n",
       "      <th>runtime</th>\n",
       "      <th>rating</th>\n",
       "    </tr>\n",
       "  </thead>\n",
       "  <tbody>\n",
       "    <tr>\n",
       "      <th>count</th>\n",
       "      <td>80.0000</td>\n",
       "      <td>80.000000</td>\n",
       "      <td>80.00000</td>\n",
       "    </tr>\n",
       "    <tr>\n",
       "      <th>mean</th>\n",
       "      <td>40.5000</td>\n",
       "      <td>46.762500</td>\n",
       "      <td>7.72000</td>\n",
       "    </tr>\n",
       "    <tr>\n",
       "      <th>std</th>\n",
       "      <td>23.2379</td>\n",
       "      <td>14.156667</td>\n",
       "      <td>0.71235</td>\n",
       "    </tr>\n",
       "    <tr>\n",
       "      <th>min</th>\n",
       "      <td>1.0000</td>\n",
       "      <td>15.000000</td>\n",
       "      <td>5.90000</td>\n",
       "    </tr>\n",
       "    <tr>\n",
       "      <th>25%</th>\n",
       "      <td>20.7500</td>\n",
       "      <td>30.000000</td>\n",
       "      <td>7.20000</td>\n",
       "    </tr>\n",
       "    <tr>\n",
       "      <th>50%</th>\n",
       "      <td>40.5000</td>\n",
       "      <td>50.000000</td>\n",
       "      <td>7.80000</td>\n",
       "    </tr>\n",
       "    <tr>\n",
       "      <th>75%</th>\n",
       "      <td>60.2500</td>\n",
       "      <td>60.000000</td>\n",
       "      <td>8.22500</td>\n",
       "    </tr>\n",
       "    <tr>\n",
       "      <th>max</th>\n",
       "      <td>80.0000</td>\n",
       "      <td>63.000000</td>\n",
       "      <td>8.80000</td>\n",
       "    </tr>\n",
       "  </tbody>\n",
       "</table>\n",
       "</div>"
      ],
      "text/plain": [
       "         index    runtime    rating\n",
       "count  80.0000  80.000000  80.00000\n",
       "mean   40.5000  46.762500   7.72000\n",
       "std    23.2379  14.156667   0.71235\n",
       "min     1.0000  15.000000   5.90000\n",
       "25%    20.7500  30.000000   7.20000\n",
       "50%    40.5000  50.000000   7.80000\n",
       "75%    60.2500  60.000000   8.22500\n",
       "max    80.0000  63.000000   8.80000"
      ]
     },
     "execution_count": 489,
     "metadata": {},
     "output_type": "execute_result"
    }
   ],
   "source": [
    "new_df.describe()"
   ]
  },
  {
   "cell_type": "markdown",
   "id": "9e3d810d",
   "metadata": {},
   "source": [
    "The mode (or most common value) is not included in `.describe()`. Let's see what the most __common__ rating is for a Netflix Orginal show. \n",
    "\n"
   ]
  },
  {
   "cell_type": "code",
   "execution_count": 491,
   "id": "9deed88b",
   "metadata": {},
   "outputs": [
    {
     "data": {
      "text/plain": [
       "0    8.2\n",
       "Name: rating, dtype: float64"
      ]
     },
     "execution_count": 491,
     "metadata": {},
     "output_type": "execute_result"
    }
   ],
   "source": [
    "new_df['rating'].mode()"
   ]
  },
  {
   "cell_type": "markdown",
   "id": "565ce93d",
   "metadata": {},
   "source": [
    "Note that in our previous mean, max, mode calculations, we didn't actually learn __which__ show is associate with any of those values. \n",
    "\n",
    "Let's compute the max rating again, but this time, let's find out which show got the max rating.\n"
   ]
  },
  {
   "cell_type": "code",
   "execution_count": 497,
   "id": "7d30f8bc",
   "metadata": {},
   "outputs": [
    {
     "data": {
      "text/html": [
       "<div>\n",
       "<style scoped>\n",
       "    .dataframe tbody tr th:only-of-type {\n",
       "        vertical-align: middle;\n",
       "    }\n",
       "\n",
       "    .dataframe tbody tr th {\n",
       "        vertical-align: top;\n",
       "    }\n",
       "\n",
       "    .dataframe thead th {\n",
       "        text-align: right;\n",
       "    }\n",
       "</style>\n",
       "<table border=\"1\" class=\"dataframe\">\n",
       "  <thead>\n",
       "    <tr style=\"text-align: right;\">\n",
       "      <th></th>\n",
       "      <th>index</th>\n",
       "      <th>show</th>\n",
       "      <th>certificate</th>\n",
       "      <th>runtime</th>\n",
       "      <th>genre</th>\n",
       "      <th>rating</th>\n",
       "      <th>votes</th>\n",
       "    </tr>\n",
       "  </thead>\n",
       "  <tbody>\n",
       "    <tr>\n",
       "      <th>6</th>\n",
       "      <td>7</td>\n",
       "      <td>Narcos</td>\n",
       "      <td>15</td>\n",
       "      <td>50</td>\n",
       "      <td>Biography, Crime, Drama</td>\n",
       "      <td>8.8</td>\n",
       "      <td>467,909</td>\n",
       "    </tr>\n",
       "    <tr>\n",
       "      <th>35</th>\n",
       "      <td>36</td>\n",
       "      <td>BoJack Horseman</td>\n",
       "      <td>18</td>\n",
       "      <td>25</td>\n",
       "      <td>Animation, Comedy, Drama</td>\n",
       "      <td>8.8</td>\n",
       "      <td>186,993</td>\n",
       "    </tr>\n",
       "  </tbody>\n",
       "</table>\n",
       "</div>"
      ],
      "text/plain": [
       "    index             show certificate  runtime                     genre  \\\n",
       "6       7           Narcos          15       50   Biography, Crime, Drama   \n",
       "35     36  BoJack Horseman          18       25  Animation, Comedy, Drama   \n",
       "\n",
       "    rating    votes  \n",
       "6      8.8  467,909  \n",
       "35     8.8  186,993  "
      ]
     },
     "execution_count": 497,
     "metadata": {},
     "output_type": "execute_result"
    }
   ],
   "source": [
    "#Which show(s) had the max rating?\n",
    "new_df.loc[df['rating'] == new_df['rating'].max()]"
   ]
  },
  {
   "cell_type": "code",
   "execution_count": 499,
   "id": "417ac89a",
   "metadata": {},
   "outputs": [
    {
     "data": {
      "text/html": [
       "<div>\n",
       "<style scoped>\n",
       "    .dataframe tbody tr th:only-of-type {\n",
       "        vertical-align: middle;\n",
       "    }\n",
       "\n",
       "    .dataframe tbody tr th {\n",
       "        vertical-align: top;\n",
       "    }\n",
       "\n",
       "    .dataframe thead th {\n",
       "        text-align: right;\n",
       "    }\n",
       "</style>\n",
       "<table border=\"1\" class=\"dataframe\">\n",
       "  <thead>\n",
       "    <tr style=\"text-align: right;\">\n",
       "      <th></th>\n",
       "      <th>index</th>\n",
       "      <th>show</th>\n",
       "      <th>certificate</th>\n",
       "      <th>runtime</th>\n",
       "      <th>genre</th>\n",
       "      <th>rating</th>\n",
       "      <th>votes</th>\n",
       "    </tr>\n",
       "  </thead>\n",
       "  <tbody>\n",
       "    <tr>\n",
       "      <th>6</th>\n",
       "      <td>7</td>\n",
       "      <td>Narcos</td>\n",
       "      <td>15</td>\n",
       "      <td>50</td>\n",
       "      <td>Biography, Crime, Drama</td>\n",
       "      <td>8.8</td>\n",
       "      <td>467,909</td>\n",
       "    </tr>\n",
       "    <tr>\n",
       "      <th>35</th>\n",
       "      <td>36</td>\n",
       "      <td>BoJack Horseman</td>\n",
       "      <td>18</td>\n",
       "      <td>25</td>\n",
       "      <td>Animation, Comedy, Drama</td>\n",
       "      <td>8.8</td>\n",
       "      <td>186,993</td>\n",
       "    </tr>\n",
       "  </tbody>\n",
       "</table>\n",
       "</div>"
      ],
      "text/plain": [
       "    index             show certificate  runtime                     genre  \\\n",
       "6       7           Narcos          15       50   Biography, Crime, Drama   \n",
       "35     36  BoJack Horseman          18       25  Animation, Comedy, Drama   \n",
       "\n",
       "    rating    votes  \n",
       "6      8.8  467,909  \n",
       "35     8.8  186,993  "
      ]
     },
     "execution_count": 499,
     "metadata": {},
     "output_type": "execute_result"
    }
   ],
   "source": [
    "#You couild also store the max rating as a variable (optional, but improves readbility)\n",
    "max_rating = new_df['rating'].max()\n",
    "max_rating \n",
    "\n",
    "#This code does the same thing as the code from the cell above\n",
    "new_df.loc[new_df['rating'] == max_rating]"
   ]
  },
  {
   "cell_type": "markdown",
   "id": "89646d9d",
   "metadata": {},
   "source": [
    "# Exercises "
   ]
  },
  {
   "cell_type": "markdown",
   "id": "e7fdfff1",
   "metadata": {},
   "source": [
    "### 1. Look up your favorite Netflix original and return its information. If it doesn't pop up in this table, feel free to pick a random show instead."
   ]
  },
  {
   "cell_type": "code",
   "execution_count": null,
   "id": "ffa8ba52",
   "metadata": {},
   "outputs": [],
   "source": []
  },
  {
   "cell_type": "markdown",
   "id": "f28241cb",
   "metadata": {},
   "source": [
    "### 2. What show had the lowest ratings? What was the rating? :( "
   ]
  },
  {
   "cell_type": "code",
   "execution_count": null,
   "id": "70ac60b5",
   "metadata": {},
   "outputs": [],
   "source": []
  },
  {
   "cell_type": "markdown",
   "id": "d11b6a51",
   "metadata": {},
   "source": [
    "### 3. Which Netflix show was the most popular (had the most votes)? What was the number of votes?\n",
    "Hint: Votes are strings here, and need to be converted to ints! \n",
    "\n",
    "Another Hint: Last time, we removed the word \"mins\" from our runtime values before converting to ints. What do need to remove from the votes column before we can convert to ints?  \n"
   ]
  },
  {
   "cell_type": "code",
   "execution_count": null,
   "id": "46de0703",
   "metadata": {},
   "outputs": [],
   "source": []
  },
  {
   "cell_type": "markdown",
   "id": "f58d884a",
   "metadata": {},
   "source": [
    "### 4. Sarah loves the Mystery genre. She's curious which shows in the Mystery genre have the highest ratings. Recommend the top 3 highest rated shows in the Mystery genre to Sarah!\n",
    "\n"
   ]
  },
  {
   "cell_type": "code",
   "execution_count": null,
   "id": "c90b3010",
   "metadata": {},
   "outputs": [],
   "source": []
  },
  {
   "cell_type": "markdown",
   "id": "6e4690d7",
   "metadata": {},
   "source": [
    "### 5. Leif would like to recommend shows to his 15 year old cousin, but wants to make sure that he recommends shows that are age appropriate. Return a dataframe of all the shows with a Maturity Rating less than or equal to 15.  \n",
    "\n",
    "Hint: How should we think about handling 'PG' in this case? We could replace 'PG' with 13. \n"
   ]
  },
  {
   "cell_type": "code",
   "execution_count": null,
   "id": "6f4ca824",
   "metadata": {},
   "outputs": [],
   "source": []
  },
  {
   "cell_type": "markdown",
   "id": "13fdb662",
   "metadata": {},
   "source": [
    "### 6. Feel free to do your analysis and answer other questions you are curious about!"
   ]
  },
  {
   "cell_type": "code",
   "execution_count": null,
   "id": "937abdc3",
   "metadata": {},
   "outputs": [],
   "source": []
  }
 ],
 "metadata": {
  "kernelspec": {
   "display_name": "Python 3 (ipykernel)",
   "language": "python",
   "name": "python3"
  },
  "language_info": {
   "codemirror_mode": {
    "name": "ipython",
    "version": 3
   },
   "file_extension": ".py",
   "mimetype": "text/x-python",
   "name": "python",
   "nbconvert_exporter": "python",
   "pygments_lexer": "ipython3",
   "version": "3.9.12"
  }
 },
 "nbformat": 4,
 "nbformat_minor": 5
}
