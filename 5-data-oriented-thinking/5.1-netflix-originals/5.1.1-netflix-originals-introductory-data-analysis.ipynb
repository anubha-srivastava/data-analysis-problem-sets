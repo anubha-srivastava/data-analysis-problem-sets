{
 "cells": [
  {
   "cell_type": "markdown",
   "id": "9f28e4e4",
   "metadata": {},
   "source": [
    "# Introductory data analysis with a real world dataset"
   ]
  },
  {
   "cell_type": "markdown",
   "id": "2419793a",
   "metadata": {},
   "source": [
    "[Click here to open this notebook in your browser](https://leifwalsh.github.io/data-analysis-problem-sets/lab/index.html?path=5-data-oriented-thinking/5.1-netflix-originals/5.1.1-netflix-originals-introductory-data-analysis.ipynb)\n",
    "\n",
    "In this notebook, we'll cover introductory Data Analysis skills that can help you analyze new datasets in real life. We've been exploring different pandas techniques in the previous problem sets. Let's see how we can apply those techniques to clean, explore, and gain insights from the \"Most Watched Netflix Original Shows\" dataset. Credit: [Muhmad Akmal,  Kaggle](https://www.kaggle.com/code/muhmadakmal/most-watched-netflix-original-shows-tv-time/input)"
   ]
  },
  {
   "cell_type": "markdown",
   "id": "763a8f84",
   "metadata": {},
   "source": [
    "## Loading the data"
   ]
  },
  {
   "cell_type": "markdown",
   "id": "dbf88905",
   "metadata": {},
   "source": [
    "Let's load the data in pandas and glance at the first few rows."
   ]
  },
  {
   "cell_type": "code",
   "execution_count": null,
   "id": "6bbce64b",
   "metadata": {},
   "outputs": [],
   "source": [
    "import pandas as pd\n",
    "df = pd.read_csv('netflix_data.csv')"
   ]
  },
  {
   "cell_type": "markdown",
   "id": "19230f6a",
   "metadata": {},
   "source": [
    "Use `df.head()` to return the first n rows of a dataframe based on position. By default, `df.head()` will return the first 5 rows \n"
   ]
  },
  {
   "cell_type": "code",
   "execution_count": null,
   "id": "4c18375b",
   "metadata": {},
   "outputs": [],
   "source": [
    "df.head()"
   ]
  },
  {
   "cell_type": "markdown",
   "id": "f0a1235f",
   "metadata": {},
   "source": [
    "Let's say we are interested in seeing the first 8 rows. We can simply specify:"
   ]
  },
  {
   "cell_type": "code",
   "execution_count": null,
   "id": "47c8c10f",
   "metadata": {},
   "outputs": [],
   "source": [
    "df.head(8)"
   ]
  },
  {
   "cell_type": "markdown",
   "id": "fa53f1c1",
   "metadata": {},
   "source": [
    "`df.tail()` works in a similar way. It returns the last n rows of the dataset, with the default being 5 rows. "
   ]
  },
  {
   "cell_type": "code",
   "execution_count": null,
   "id": "46c75367",
   "metadata": {},
   "outputs": [],
   "source": [
    "df.tail()"
   ]
  },
  {
   "cell_type": "markdown",
   "id": "1f5de50c",
   "metadata": {},
   "source": [
    "You can use `df.sample()` to take a peek at random rows in the dataset. This is especially useful in cases where you don't think the first/last rows are representative of the entire dataset."
   ]
  },
  {
   "cell_type": "code",
   "execution_count": null,
   "id": "b2f0a019",
   "metadata": {},
   "outputs": [],
   "source": [
    "df.sample(5)"
   ]
  },
  {
   "cell_type": "markdown",
   "id": "e73f0558",
   "metadata": {},
   "source": [
    "I'll also briefly explain what each column represents:\n",
    "\n",
    "`lister-item-index:` Describes the index of the show as listed on IMDB, and begins indexing at 1.\n",
    "\n",
    "`lister-item-header:` Show Name.\n",
    "\n",
    "`certificate:` Maturity Rating. For example, a certificate of 15 implies that content may be unsuitable for children under the age of 15. \n",
    "\n",
    "`runtime:` The average runtime of each episode.\n",
    "\n",
    "`genre:` The genres associated with the show. \n",
    "\n",
    "`rating:` IMDB rating.\n",
    "\n",
    "`votes:` Number of people that rated the show.\n",
    "\n",
    "For the purposes of this exercise, let's assume that all the data in this dataset is accurate. "
   ]
  },
  {
   "cell_type": "markdown",
   "id": "39284ba5",
   "metadata": {},
   "source": [
    "## Analyzing Columns & Rows"
   ]
  },
  {
   "cell_type": "markdown",
   "id": "8f20702c",
   "metadata": {},
   "source": [
    "Now that we have a good idea of what this dataset looks like, let's analyze the columns more closely! \n",
    "\n",
    "In this case, we can visually see the title of all 7 columns of our dataset. But in larger datasets (say with a 100 columns) we can use `df.columns` to return all column labels.\n"
   ]
  },
  {
   "cell_type": "code",
   "execution_count": null,
   "id": "27bd240c",
   "metadata": {},
   "outputs": [],
   "source": [
    "df.columns"
   ]
  },
  {
   "cell_type": "markdown",
   "id": "a129054e",
   "metadata": {},
   "source": [
    "Some of these column names are little long. Luckily, we can use `df.rename` to rename any column we'd like. "
   ]
  },
  {
   "cell_type": "code",
   "execution_count": null,
   "id": "b41a5f43",
   "metadata": {},
   "outputs": [],
   "source": [
    "#this code generates a *new dataframe* with the renamed columns from df\n",
    "df.rename(columns={'lister-item-header': 'show', 'lister-item-index': 'index'})"
   ]
  },
  {
   "cell_type": "markdown",
   "id": "f09b9d1c",
   "metadata": {},
   "source": [
    "To keep track of all the changes we're making (like renaming columns), we'll maintain two versions of our dataset! `df` will contain the original dataframe we loaded from the `pd.read_csv` call above. \n",
    "\n",
    "Meanwhile, we'll use `new_df` to store the cleaned version of our data. At the end, we'll compare `df` and `new_df`so you can see all the differences."
   ]
  },
  {
   "cell_type": "code",
   "execution_count": null,
   "id": "a3e456db",
   "metadata": {},
   "outputs": [],
   "source": [
    "#this codes *assigns* the result of the renaming operation above to new_df\n",
    "new_df = df.rename(columns={'lister-item-header': 'show', 'lister-item-index': 'index'})"
   ]
  },
  {
   "cell_type": "markdown",
   "id": "34209617",
   "metadata": {},
   "source": [
    "You can see that `df` remains the same."
   ]
  },
  {
   "cell_type": "code",
   "execution_count": null,
   "id": "cdb4a012",
   "metadata": {},
   "outputs": [],
   "source": [
    "df.head(1)"
   ]
  },
  {
   "cell_type": "markdown",
   "id": "c6db7a25",
   "metadata": {},
   "source": [
    "And that the new column names are only reflected in `new_df`. "
   ]
  },
  {
   "cell_type": "code",
   "execution_count": null,
   "id": "0a9fe75e",
   "metadata": {},
   "outputs": [],
   "source": [
    "new_df.head(1)"
   ]
  },
  {
   "cell_type": "markdown",
   "id": "fb0827cb",
   "metadata": {},
   "source": [
    "Let's keep going with our analysis. We can use `df.shape` to return the number of rows and columns in our orginal dataframe. "
   ]
  },
  {
   "cell_type": "code",
   "execution_count": null,
   "id": "3c652fc9",
   "metadata": {},
   "outputs": [],
   "source": [
    "df.shape"
   ]
  },
  {
   "cell_type": "markdown",
   "id": "039b8460",
   "metadata": {},
   "source": [
    "Note that `df.shape` returns a tuple, which we can actually store as two seperate variables for easy future access."
   ]
  },
  {
   "cell_type": "code",
   "execution_count": null,
   "id": "9224f05f",
   "metadata": {},
   "outputs": [],
   "source": [
    "rows, columns = df.shape"
   ]
  },
  {
   "cell_type": "code",
   "execution_count": null,
   "id": "3ad1e308",
   "metadata": {},
   "outputs": [],
   "source": [
    "rows"
   ]
  },
  {
   "cell_type": "code",
   "execution_count": null,
   "id": "3caf6c98",
   "metadata": {},
   "outputs": [],
   "source": [
    "columns"
   ]
  },
  {
   "cell_type": "markdown",
   "id": "55f5da2c",
   "metadata": {},
   "source": [
    "There are some other helpful things we can use to describe our data! \n",
    "\n",
    "`df.info()` prints useful information about the dataframe, including the data types found in each column."
   ]
  },
  {
   "cell_type": "code",
   "execution_count": null,
   "id": "0837108c",
   "metadata": {},
   "outputs": [],
   "source": [
    "df.info()"
   ]
  },
  {
   "cell_type": "markdown",
   "id": "4e8f6aa3",
   "metadata": {},
   "source": [
    "The `Non-Null Count` tells us the number of non null values in that column.\n",
    "\n",
    "`Dtype` tells us the data type of the values in a column: \n",
    "* lister-item-index is of type `int64`, \n",
    "* rating is of type `float64`\n",
    "* the remaining  columns are of type `object`.\n",
    "\n",
    "In other words, only two of our columns contain numerical values (lister-item-index and rating). The lister-item-header, certificate, genre, and votes columns are all strings (the default data type for strings in DataFrames is `object`).\n",
    "\n",
    "\n",
    "We also get the overall memory usage of our dataframe. Side note: If you're interested in a more accurate measure of memory usage, feel free to try `df.info(memory_usage='deep')`"
   ]
  },
  {
   "cell_type": "markdown",
   "id": "52a97e24",
   "metadata": {},
   "source": [
    "Small segue since we're talking about null values! There are many, many, many ways to check for null values in your dataset! Here's another approach:"
   ]
  },
  {
   "cell_type": "code",
   "execution_count": null,
   "id": "ac79291c",
   "metadata": {},
   "outputs": [],
   "source": [
    "df.isna().any()"
   ]
  },
  {
   "cell_type": "markdown",
   "id": "af3f6508",
   "metadata": {},
   "source": [
    "You could also run the following code to see _how many_ null values you have across the entire dataset. In our case, we know the total number is 0.\n"
   ]
  },
  {
   "cell_type": "code",
   "execution_count": null,
   "id": "e5eaeff2",
   "metadata": {},
   "outputs": [],
   "source": [
    "df.isna().sum().sum()"
   ]
  },
  {
   "cell_type": "markdown",
   "id": "f54a8def",
   "metadata": {},
   "source": [
    "Another useful method (and one of my favorites) is `df.describe()`. `df.describe()` generates descriptive statistics (such as total count, mean, standard deviation, min, and max) for all _numerical_ columns in your dataset by default. \n",
    "\n",
    "As we saw above, only the `lister-item-index` and `rating` columns in our dataframe are numerical."
   ]
  },
  {
   "cell_type": "code",
   "execution_count": null,
   "id": "a97f34aa",
   "metadata": {},
   "outputs": [],
   "source": [
    "df.describe()"
   ]
  },
  {
   "cell_type": "markdown",
   "id": "90a14cb7",
   "metadata": {},
   "source": [
    "It's not particularly helpful to learn statistics about the `lister-item-index`\tcolumn- the index just identifies each row in the dataset. \n",
    "\n",
    "\n",
    "_But_ we did get some interesting analysis on the ratings across Netflix Original shows! For example, the average rating for a show was 7.72. The standard deviation was only around .71. We also learned that the max rating achieved by any show was 8.8"
   ]
  },
  {
   "cell_type": "markdown",
   "id": "c1d16a07",
   "metadata": {},
   "source": [
    "If you'd like, you could also specify your own percentiles for `df.describe().`"
   ]
  },
  {
   "cell_type": "code",
   "execution_count": null,
   "id": "cee2ff91",
   "metadata": {},
   "outputs": [],
   "source": [
    "percentiles = [.05, .10, .25, .50, .75, .90, .99]\n",
    "df.describe(percentiles)"
   ]
  },
  {
   "cell_type": "markdown",
   "id": "1caede42",
   "metadata": {},
   "source": [
    "Let's come back to `df.describe()` after we do some more data cleaning. This method will become even more useful for us later."
   ]
  },
  {
   "cell_type": "markdown",
   "id": "05359048",
   "metadata": {},
   "source": [
    "## Data Cleaning"
   ]
  },
  {
   "cell_type": "markdown",
   "id": "81338606",
   "metadata": {},
   "source": [
    "Anubha is a Netflix addict- she'd like to watch the first episode of ALL the Netflix shows in our dataframe. How many minutes will it take her to watch all of these episodes? \n",
    "\n",
    "Let's sum up all the runtimes in our table to get the answer. \n",
    "\n"
   ]
  },
  {
   "cell_type": "code",
   "execution_count": null,
   "id": "6cc23883",
   "metadata": {},
   "outputs": [],
   "source": [
    "df['runtime'].sum()"
   ]
  },
  {
   "cell_type": "markdown",
   "id": "3d2f1c84",
   "metadata": {},
   "source": [
    "What went wrong here? We've done this before in previous problem sets! \n",
    "\n",
    "Remember that Python only lets us do arithmetic operations on numbers. From `df.info()`, we learned that only `lister-item-index` and `rating` are numerical columns. \n",
    "\n",
    "We can also directly see which columns in our dataframe can be summed by running `df.sum(numeric_only= True)`. Runtime is not one of them. \n",
    " "
   ]
  },
  {
   "cell_type": "code",
   "execution_count": null,
   "id": "a7a58592",
   "metadata": {},
   "outputs": [],
   "source": [
    "df.sum(numeric_only= True)"
   ]
  },
  {
   "cell_type": "markdown",
   "id": "87f9f5da",
   "metadata": {},
   "source": [
    "To sum runtimes, we'll need to convert all values in the runtime column into numerical values instead of a strings (we want to go from _'60 min'_ to  _60_).\n",
    "\n",
    "Let's do this by first removing the word 'min' from each value, and then converting the result from a string to an int! One approach is to use `df.str.replace` and `.astype()`\n"
   ]
  },
  {
   "cell_type": "code",
   "execution_count": null,
   "id": "70f9715b",
   "metadata": {},
   "outputs": [],
   "source": [
    "#First, remove the word 'min' from runtimes by replacing it with an empty substring\n",
    "replace_mins = df['runtime'].str.replace(' min', '')\n",
    "\n",
    "#Second, convert runtimes to ints \n",
    "runtime_as_ints = replace_mins.astype('int')\n",
    "runtime_as_ints\n",
    "\n",
    "#You could also do this all in one line by running the following:\n",
    "#runtime_as_ints = df['runtime'].str.replace(' min', '').astype('int')"
   ]
  },
  {
   "cell_type": "code",
   "execution_count": null,
   "id": "775b003f",
   "metadata": {},
   "outputs": [],
   "source": [
    "#To actually assign runtime_as_ints to our new_df dataframe, run:\n",
    "new_df['runtime'] =  runtime_as_ints"
   ]
  },
  {
   "cell_type": "code",
   "execution_count": null,
   "id": "1701b34d",
   "metadata": {},
   "outputs": [],
   "source": [
    "#Great! If you run this cell, you'll see that all our runtime values are of type int64!\n",
    "new_df['runtime']"
   ]
  },
  {
   "cell_type": "markdown",
   "id": "4fdaf6eb",
   "metadata": {},
   "source": [
    "Now... how many minutes will it take Anubha to watch the first episode of every show in our Netflix dataset?"
   ]
  },
  {
   "cell_type": "code",
   "execution_count": null,
   "id": "4a427505",
   "metadata": {},
   "outputs": [],
   "source": [
    "new_df['runtime'].sum()"
   ]
  },
  {
   "cell_type": "markdown",
   "id": "5e02362b",
   "metadata": {},
   "source": [
    "That's a lot of minutes 😬. This example was to show that you'll have to do some data cleaning/data manipulation with pretty much every dataset you encounter. This is a relatively \"easy\" dataset- it has a usability rating of 10 on Kaggle. But we still had to do some work to find right answer.\n",
    "\n",
    "Now that we've converted the runtime column into a numerical column, we can do all kinds of other fun analysis. What's the average runtime of Netflix Original shows? "
   ]
  },
  {
   "cell_type": "code",
   "execution_count": null,
   "id": "2442f8a1",
   "metadata": {},
   "outputs": [],
   "source": [
    "new_df['runtime'].mean()"
   ]
  },
  {
   "cell_type": "markdown",
   "id": "e4c3492e",
   "metadata": {},
   "source": [
    "What about the max runtime?"
   ]
  },
  {
   "cell_type": "code",
   "execution_count": null,
   "id": "8047679e",
   "metadata": {},
   "outputs": [],
   "source": [
    "new_df['runtime'].max()"
   ]
  },
  {
   "cell_type": "markdown",
   "id": "22eb6cd7",
   "metadata": {},
   "source": [
    "Also, let's go back to `.describe()` and see how the output changes now that runtime is a numerical column! "
   ]
  },
  {
   "cell_type": "code",
   "execution_count": null,
   "id": "450b6997",
   "metadata": {},
   "outputs": [],
   "source": [
    "new_df.describe()"
   ]
  },
  {
   "cell_type": "markdown",
   "id": "c4e8efac",
   "metadata": {},
   "source": [
    "The mode (or most common value) is not included in `.describe()`. Let's see what the most _common_ rating is for a Netflix Orginal show. \n",
    "\n"
   ]
  },
  {
   "cell_type": "code",
   "execution_count": null,
   "id": "705b1c7e",
   "metadata": {},
   "outputs": [],
   "source": [
    "new_df['rating'].mode()"
   ]
  },
  {
   "cell_type": "markdown",
   "id": "39d1f9a7",
   "metadata": {},
   "source": [
    "Note that in our previous mean, max, mode calculations, we didn't actually learn _which_ show is associate with any of those values. Let's compute the max rating again, but this time, let's find out _which_ show got the max rating.\n"
   ]
  },
  {
   "cell_type": "code",
   "execution_count": null,
   "id": "f1bca2ec",
   "metadata": {},
   "outputs": [],
   "source": [
    "max_rating = new_df['rating'].max()\n",
    "\n",
    "new_df.loc[new_df['rating'] == max_rating]"
   ]
  },
  {
   "cell_type": "markdown",
   "id": "bdec096f",
   "metadata": {},
   "source": [
    "# Exercises "
   ]
  },
  {
   "cell_type": "markdown",
   "id": "90b13e67",
   "metadata": {},
   "source": [
    "### 1. Look up your favorite Netflix Original and return its information. If it doesn't pop up in this table, feel free to pick a random show instead."
   ]
  },
  {
   "cell_type": "code",
   "execution_count": null,
   "id": "0bee2299",
   "metadata": {},
   "outputs": [],
   "source": []
  },
  {
   "cell_type": "markdown",
   "id": "06219df8",
   "metadata": {},
   "source": [
    "### 2. What show had the lowest ratings? What was the rating? "
   ]
  },
  {
   "cell_type": "code",
   "execution_count": null,
   "id": "535df4ca",
   "metadata": {},
   "outputs": [],
   "source": []
  },
  {
   "cell_type": "markdown",
   "id": "792b661b",
   "metadata": {},
   "source": [
    "### 3. Which Netflix Original is the most popular (had the most votes)? What was the number of votes?\n",
    "Hint: Votes are strings here, and need to be converted to numerical values (ints)! \n",
    "\n",
    "Another Hint: Last time, we had to remove the word \"mins\" from runtime values before converting to ints. What do we need to remove from the votes values before we can convert to ints?  \n"
   ]
  },
  {
   "cell_type": "code",
   "execution_count": null,
   "id": "6d475500",
   "metadata": {},
   "outputs": [],
   "source": []
  },
  {
   "cell_type": "code",
   "execution_count": null,
   "id": "29a32631",
   "metadata": {},
   "outputs": [],
   "source": [
    "# Make sure to store your new votes values in new_df "
   ]
  },
  {
   "cell_type": "markdown",
   "id": "99157d2e",
   "metadata": {},
   "source": [
    "### 4. Sarah loves the Mystery genre. She's curious which shows with the word 'Mystery' in the genre column have the highest ratings. Recommend the top 3 highest rated shows in the Mystery genre to Sarah.\n",
    "\n"
   ]
  },
  {
   "cell_type": "code",
   "execution_count": null,
   "id": "d722ea46",
   "metadata": {},
   "outputs": [],
   "source": []
  },
  {
   "cell_type": "markdown",
   "id": "8b3f0cd6",
   "metadata": {},
   "source": [
    "### 5. Leif would like to recommend shows to his 15 year old cousin, but wants to make sure that he recommends shows that are age appropriate. Return a dataframe of all the shows with a Maturity Rating less than or equal to 15.  \n",
    "\n",
    "Hint: How should we think about handling 'PG' in this case? We could replace 'PG' with 13. \n"
   ]
  },
  {
   "cell_type": "code",
   "execution_count": null,
   "id": "201c9d5d",
   "metadata": {},
   "outputs": [],
   "source": []
  },
  {
   "cell_type": "code",
   "execution_count": null,
   "id": "989b5e0c",
   "metadata": {},
   "outputs": [],
   "source": [
    "# Make sure to store your new certificates values in new_df"
   ]
  },
  {
   "cell_type": "markdown",
   "id": "c239690c",
   "metadata": {},
   "source": [
    "### 6. Compare `df.info()` and `new_df.info()`. Compare  `df.describe()` and `new_df.describe()`. You can use new_df to answer other questions you are curious about!"
   ]
  },
  {
   "cell_type": "code",
   "execution_count": null,
   "id": "17a05f74",
   "metadata": {},
   "outputs": [],
   "source": []
  }
 ],
 "metadata": {
  "kernelspec": {
   "display_name": "Python 3 (ipykernel)",
   "language": "python",
   "name": "python3"
  },
  "language_info": {
   "codemirror_mode": {
    "name": "ipython",
    "version": 3
   },
   "file_extension": ".py",
   "mimetype": "text/x-python",
   "name": "python",
   "nbconvert_exporter": "python",
   "pygments_lexer": "ipython3",
   "version": "3.9.12"
  }
 },
 "nbformat": 4,
 "nbformat_minor": 5
}
