{
 "cells": [
  {
   "cell_type": "markdown",
   "id": "279bf4ac",
   "metadata": {},
   "source": [
    "# Pandas merge()\n",
    "\n",
    "*sources: Pandas.pydata.org, Kyle Stratis (Real Python), Cameron Riddell (Two Sigma), data sourced from nflverse github: https://github.com/nflverse/nfldata/blob/master/DATASETS.md*"
   ]
  },
  {
   "cell_type": "markdown",
   "id": "51cb48f4",
   "metadata": {},
   "source": [
    "### Concat vs Merge\n",
    "We have already reviewed how we can concat datasets, now we're going to talk about `merge()`--which does something similar.\n",
    "\n",
    "Quick refresher, with concat() you can combine DataFrames across rows or columns.\n",
    "\n",
    "You can use `pandas.concat` to join *many* DataFrames or Series, where `merge` is used to join **two** DataFrames or Series. \n",
    "\n",
    "### The key differences are:\n",
    "- `pandas.concat`: join many DataFrames according to either their row or column indices (horizontally or vertically).\n",
    "- `pandas.merge`: join two DataFrames horizontally on specific column(s) (or the index [optional])\n",
    "\n",
    "there is a third (and similar) method `join`, which we are largely going to ignore for now.  The underlying executations of the `join` are the same as `merge`, however you are joining soley on the indices:\n",
    "- `pandas.join`: join two DataFrames horizontally on their indices.  \n",
    "\n",
    "We use `merge()` for combining data on common columns or indices, and for those familiar with SQL or database theory it defaults to an `inner` join.\n",
    "\n"
   ]
  },
  {
   "cell_type": "code",
   "execution_count": 4,
   "id": "03e40d56",
   "metadata": {},
   "outputs": [
    {
     "name": "stdout",
     "output_type": "stream",
     "text": [
      "   x  y\n",
      "a  0  1\n",
      "b  2  3\n",
      "c  4  5\n",
      "\n",
      "    x   z\n",
      "b   6   7\n",
      "c   8   9\n",
      "d  10  11\n",
      "\n",
      "    x   z\n",
      "b  12  13\n",
      "d  14  15\n",
      "e  16  17\n",
      "        x    y     z\n",
      "df1 a   0  1.0   NaN\n",
      "    b   2  3.0   NaN\n",
      "    c   4  5.0   NaN\n",
      "df2 b   6  NaN   7.0\n",
      "    c   8  NaN   9.0\n",
      "    d  10  NaN  11.0\n",
      "df3 b  12  NaN  13.0\n",
      "    d  14  NaN  15.0\n",
      "    e  16  NaN  17.0\n",
      "\n",
      "        x\n",
      "df1 a   0\n",
      "    b   2\n",
      "    c   4\n",
      "df2 b   6\n",
      "    c   8\n",
      "    d  10\n",
      "df3 b  12\n",
      "    d  14\n",
      "    e  16\n",
      "\n",
      "   df1        df2         df3      \n",
      "     x    y     x     z     x     z\n",
      "a  0.0  1.0   NaN   NaN   NaN   NaN\n",
      "b  2.0  3.0   6.0   7.0  12.0  13.0\n",
      "c  4.0  5.0   8.0   9.0   NaN   NaN\n",
      "d  NaN  NaN  10.0  11.0  14.0  15.0\n",
      "e  NaN  NaN   NaN   NaN  16.0  17.0\n",
      "\n",
      "  df1    df2    df3    \n",
      "    x  y   x  z   x   z\n",
      "b   2  3   6  7  12  13\n"
     ]
    }
   ],
   "source": [
    "from numpy import arange\n",
    "import pandas as pd\n",
    "\n",
    "data = arange(0, 18).reshape(3, 3, 2)\n",
    "# take note where these indexes and columns overlap and where they do not\n",
    "\n",
    "dfs = {\n",
    "    'df1' : pd.DataFrame(data[0], index=['a', 'b', 'c'          ], columns=['x', 'y']), \n",
    "    'df2' : pd.DataFrame(data[1], index=[     'b', 'c', 'd'     ], columns=['x', 'z']),\n",
    "    'df3' : pd.DataFrame(data[2], index=[     'b',      'd', 'e'], columns=['x', 'z'])\n",
    "}\n",
    "\n",
    "print(\n",
    "    dfs['df1'], dfs['df2'], dfs['df3'],\n",
    "    #    x  y   #    x  z   #    y   z\n",
    "    # a  0  1   # b  6  7   # b  12  13 \n",
    "    # b  2  3   # c  8  9   # d  14  15\n",
    "    # c  4  5   # d  10 11  # e  16  17 \n",
    "    sep='\\n\\n'\n",
    ")\n",
    "\n",
    "# passing a dictionary of DataFrames (or the equivalent argument into names pd.concat(..., names=..))\n",
    "# will create a MultiIndex along the concatenation axis to label where each part originated\n",
    "# this axis can also be named via the pd.concat(..., keys=...) argument.\n",
    "print(\n",
    "    pd.concat(dfs, axis=0, join='outer'), #align vertically, preserving all columns\n",
    "    #          x    y   z \n",
    "    # df1  a   0  1.0   NaN\n",
    "    #      b   2  3.0   NaN  \n",
    "    #      c   4  5.0   NaN\n",
    "    # df2  b   6  NaN   7.0\n",
    "    #      c   8  NaN   9.0\n",
    "    #      d  10  NaN  11.0\n",
    "    # df3  b  12  NaN  13.0\n",
    "    #      d  14  NaN  15.0\n",
    "    #      e  16  NaN  17.0\n",
    "\n",
    "    pd.concat(dfs, axis=0, join='inner'), # align vertically, preserving fully overlapping columns)\n",
    "    #          x    \n",
    "    # df1  a   0  \n",
    "    #      b   2  \n",
    "    #      c   4  \n",
    "    # df2  b   6  \n",
    "    #      c   8  \n",
    "    #      d  10  \n",
    "    # df3  b  12  \n",
    "    #      d  14  \n",
    "    #      e  16  \n",
    "\n",
    "    pd.concat(dfs, axis=1, join='outer'), # align horizontally, preserving all row indices)\n",
    "    #       df1       df2          df3\n",
    "    #       x     y     x     z      x     z \n",
    "    #  a  0.0   1.0   NaN   NaN    NaN    NaN\n",
    "    #  b  2.0   3.0   6.0   7.0   12.0   13.0\n",
    "    #  c  4.0   5.0   8.0   9.0    NaN    NaN\n",
    "    #  d  NaN   NaN  10.0  11.0   14.0   15.0\n",
    "    #  e  NaN   NaN   NaN   Nan   16.0   17.0\n",
    "\n",
    "\n",
    "    pd.concat(dfs, axis=1, join='inner'), # align horizontally preserving fully shared row indices\n",
    "    #   df1      df2      df3\n",
    "    #     x  y   x   z   x    z\n",
    "    #  b  2  3   6   7   12  13\n",
    "    sep='\\n\\n',\n",
    ")"
   ]
  },
  {
   "cell_type": "markdown",
   "id": "a17f34fb",
   "metadata": {},
   "source": [
    "## Merge Syntax "
   ]
  },
  {
   "cell_type": "markdown",
   "id": "ae9fdc1b",
   "metadata": {
    "ExecuteTime": {
     "end_time": "2024-04-19T21:41:16.041179Z",
     "start_time": "2024-04-19T21:41:16.027707Z"
    }
   },
   "source": [
    "When you want to combine data objects based on one or more keys, similar to what you’d do in a relational database, merge() is the tool you need. More specifically, merge() is most useful when you want to combine rows that share data\n",
    "\n",
    "**Syntax:**\n",
    "\n",
    "`DataFrame.merge(parameters)`\n",
    "\n",
    "`DataFrame.merge(right, how='inner', on=None, left_on=None, right_on=None, left_index=False, right_index=False, sort=False, suffixes=('_x', '_y'), copy=None, indicator=False, validate=None)`\n",
    "\n",
    "**Merge Parameters:**\n",
    "There a few paramters you can leverage, these are some of the common and powerful ones:\n",
    "- **right** : the Object to merge with (either a DataFrame or named Series)\n",
    "\n",
    "\n",
    "- **how** : The type of merge to be performed `{‘left’, ‘right’, ‘outer’, ‘inner’, ‘cross’},` the default is `‘inner’`\n",
    "    - *left*: use only keys from left frame, similar to a SQL left outer join; preserve key order.\n",
    "\n",
    "    - *right*: use only keys from right frame, similar to a SQL right outer join; preserve key order.\n",
    "\n",
    "    - *outer*: use union of keys from both frames, similar to a SQL full outer join; sort keys lexicographically.\n",
    "\n",
    "    - *inner*: use intersection of keys from both frames, similar to a SQL inner join; preserve the order of the left keys.\n",
    "\n",
    "    - *cross*: creates the cartesian product from both frames, preserves the order of the left keys.\n",
    "    \n",
    "\n",
    "- **on**: a label or list. The **column** or **index level names** to join on. \n",
    "    - *These must be found in both DataFrames.* \n",
    "    - the default for **on** is \"all the columns with the same name\".  \n",
    "    - If on is **None** and not merging on indexes then this defaults to the intersection of the columns in both DataFrames."
   ]
  },
  {
   "cell_type": "markdown",
   "id": "8713a023",
   "metadata": {},
   "source": [
    "Let's see some of these parameters in practice. \n",
    "We are going to read three csv files, and save as dataframes:\n",
    "    1. NFL Roster data from 2006-2019 from `rosters.csv`\n",
    "    2. NFL Team Colors from `teamcolors.csv` \n",
    "    3. Team Data from 2019 from `2019_team_data.csv` `\n"
   ]
  },
  {
   "cell_type": "code",
   "execution_count": 1,
   "id": "31695e3d",
   "metadata": {
    "ExecuteTime": {
     "end_time": "2024-04-19T23:18:15.934027Z",
     "start_time": "2024-04-19T23:18:15.875872Z"
    }
   },
   "outputs": [],
   "source": [
    "import pandas as pd\n",
    "\n",
    "roster = pd.read_csv(\"rosters.csv\")\n",
    "colors = pd.read_csv(\"teamcolors.csv\")\n",
    "team_data_2019 = pd.read_csv(\"2019_team_data.csv\")"
   ]
  },
  {
   "cell_type": "markdown",
   "id": "00aab46c",
   "metadata": {},
   "source": [
    "Let's check out what each of these csv's contains:"
   ]
  },
  {
   "cell_type": "code",
   "execution_count": 2,
   "id": "88a12e0e",
   "metadata": {
    "ExecuteTime": {
     "end_time": "2024-04-19T23:18:17.643605Z",
     "start_time": "2024-04-19T23:18:17.625771Z"
    }
   },
   "outputs": [
    {
     "data": {
      "text/html": [
       "<div>\n",
       "<style scoped>\n",
       "    .dataframe tbody tr th:only-of-type {\n",
       "        vertical-align: middle;\n",
       "    }\n",
       "\n",
       "    .dataframe tbody tr th {\n",
       "        vertical-align: top;\n",
       "    }\n",
       "\n",
       "    .dataframe thead th {\n",
       "        text-align: right;\n",
       "    }\n",
       "</style>\n",
       "<table border=\"1\" class=\"dataframe\">\n",
       "  <thead>\n",
       "    <tr style=\"text-align: right;\">\n",
       "      <th></th>\n",
       "      <th>season</th>\n",
       "      <th>team</th>\n",
       "      <th>playerid</th>\n",
       "      <th>full_name</th>\n",
       "      <th>name</th>\n",
       "      <th>side</th>\n",
       "      <th>category</th>\n",
       "      <th>position</th>\n",
       "      <th>games</th>\n",
       "      <th>starts</th>\n",
       "      <th>years</th>\n",
       "      <th>av</th>\n",
       "    </tr>\n",
       "  </thead>\n",
       "  <tbody>\n",
       "    <tr>\n",
       "      <th>0</th>\n",
       "      <td>2006</td>\n",
       "      <td>ARI</td>\n",
       "      <td>LeinMa00</td>\n",
       "      <td>Matt Leinart</td>\n",
       "      <td>M.Leinart</td>\n",
       "      <td>O</td>\n",
       "      <td>QB</td>\n",
       "      <td>QB</td>\n",
       "      <td>12.0</td>\n",
       "      <td>11.0</td>\n",
       "      <td>0</td>\n",
       "      <td>8.0</td>\n",
       "    </tr>\n",
       "    <tr>\n",
       "      <th>1</th>\n",
       "      <td>2006</td>\n",
       "      <td>ARI</td>\n",
       "      <td>LewiJo22</td>\n",
       "      <td>Jonathan Lewis</td>\n",
       "      <td>J.Lewis</td>\n",
       "      <td>NaN</td>\n",
       "      <td>NaN</td>\n",
       "      <td>NaN</td>\n",
       "      <td>4.0</td>\n",
       "      <td>0.0</td>\n",
       "      <td>0</td>\n",
       "      <td>0.0</td>\n",
       "    </tr>\n",
       "    <tr>\n",
       "      <th>2</th>\n",
       "      <td>2006</td>\n",
       "      <td>ARI</td>\n",
       "      <td>LiwiCh20</td>\n",
       "      <td>Chris Liwienski</td>\n",
       "      <td>C.Liwienski</td>\n",
       "      <td>O</td>\n",
       "      <td>OL</td>\n",
       "      <td>LG</td>\n",
       "      <td>16.0</td>\n",
       "      <td>6.0</td>\n",
       "      <td>8</td>\n",
       "      <td>4.0</td>\n",
       "    </tr>\n",
       "    <tr>\n",
       "      <th>3</th>\n",
       "      <td>2006</td>\n",
       "      <td>ARI</td>\n",
       "      <td>ArriJ.00</td>\n",
       "      <td>J.J. Arrington</td>\n",
       "      <td>J.Arrington</td>\n",
       "      <td>NaN</td>\n",
       "      <td>NaN</td>\n",
       "      <td>NaN</td>\n",
       "      <td>16.0</td>\n",
       "      <td>0.0</td>\n",
       "      <td>1</td>\n",
       "      <td>2.0</td>\n",
       "    </tr>\n",
       "    <tr>\n",
       "      <th>4</th>\n",
       "      <td>2006</td>\n",
       "      <td>ARI</td>\n",
       "      <td>LutuDe20</td>\n",
       "      <td>Deuce Lutui</td>\n",
       "      <td>D.Lutui</td>\n",
       "      <td>O</td>\n",
       "      <td>OL</td>\n",
       "      <td>RG</td>\n",
       "      <td>15.0</td>\n",
       "      <td>9.0</td>\n",
       "      <td>0</td>\n",
       "      <td>5.0</td>\n",
       "    </tr>\n",
       "    <tr>\n",
       "      <th>...</th>\n",
       "      <td>...</td>\n",
       "      <td>...</td>\n",
       "      <td>...</td>\n",
       "      <td>...</td>\n",
       "      <td>...</td>\n",
       "      <td>...</td>\n",
       "      <td>...</td>\n",
       "      <td>...</td>\n",
       "      <td>...</td>\n",
       "      <td>...</td>\n",
       "      <td>...</td>\n",
       "      <td>...</td>\n",
       "    </tr>\n",
       "    <tr>\n",
       "      <th>28612</th>\n",
       "      <td>2019</td>\n",
       "      <td>WAS</td>\n",
       "      <td>IoanMa01</td>\n",
       "      <td>Matthew Ioannidis</td>\n",
       "      <td>M.Ioannidis</td>\n",
       "      <td>D</td>\n",
       "      <td>DL</td>\n",
       "      <td>DT</td>\n",
       "      <td>NaN</td>\n",
       "      <td>NaN</td>\n",
       "      <td>3</td>\n",
       "      <td>NaN</td>\n",
       "    </tr>\n",
       "    <tr>\n",
       "      <th>28613</th>\n",
       "      <td>2019</td>\n",
       "      <td>WAS</td>\n",
       "      <td>AlexAd00</td>\n",
       "      <td>Adonis Alexander</td>\n",
       "      <td>A.Alexander</td>\n",
       "      <td>NaN</td>\n",
       "      <td>NaN</td>\n",
       "      <td>NaN</td>\n",
       "      <td>NaN</td>\n",
       "      <td>NaN</td>\n",
       "      <td>1</td>\n",
       "      <td>NaN</td>\n",
       "    </tr>\n",
       "    <tr>\n",
       "      <th>28614</th>\n",
       "      <td>2019</td>\n",
       "      <td>WAS</td>\n",
       "      <td>BergTo00</td>\n",
       "      <td>Tony Bergstrom</td>\n",
       "      <td>T.Bergstrom</td>\n",
       "      <td>O</td>\n",
       "      <td>OL</td>\n",
       "      <td>OT</td>\n",
       "      <td>NaN</td>\n",
       "      <td>NaN</td>\n",
       "      <td>7</td>\n",
       "      <td>NaN</td>\n",
       "    </tr>\n",
       "    <tr>\n",
       "      <th>28615</th>\n",
       "      <td>2019</td>\n",
       "      <td>WAS</td>\n",
       "      <td>WoodJo01</td>\n",
       "      <td>Josh Woodrum</td>\n",
       "      <td>J.Woodrum</td>\n",
       "      <td>O</td>\n",
       "      <td>QB</td>\n",
       "      <td>QB</td>\n",
       "      <td>NaN</td>\n",
       "      <td>NaN</td>\n",
       "      <td>1</td>\n",
       "      <td>NaN</td>\n",
       "    </tr>\n",
       "    <tr>\n",
       "      <th>28616</th>\n",
       "      <td>2019</td>\n",
       "      <td>WAS</td>\n",
       "      <td>SettTi00</td>\n",
       "      <td>Tim Settle</td>\n",
       "      <td>T.Settle</td>\n",
       "      <td>D</td>\n",
       "      <td>DL</td>\n",
       "      <td>DT</td>\n",
       "      <td>NaN</td>\n",
       "      <td>NaN</td>\n",
       "      <td>1</td>\n",
       "      <td>NaN</td>\n",
       "    </tr>\n",
       "  </tbody>\n",
       "</table>\n",
       "<p>28617 rows × 12 columns</p>\n",
       "</div>"
      ],
      "text/plain": [
       "       season team  playerid          full_name         name side category  \\\n",
       "0        2006  ARI  LeinMa00       Matt Leinart    M.Leinart    O       QB   \n",
       "1        2006  ARI  LewiJo22     Jonathan Lewis      J.Lewis  NaN      NaN   \n",
       "2        2006  ARI  LiwiCh20    Chris Liwienski  C.Liwienski    O       OL   \n",
       "3        2006  ARI  ArriJ.00     J.J. Arrington  J.Arrington  NaN      NaN   \n",
       "4        2006  ARI  LutuDe20        Deuce Lutui      D.Lutui    O       OL   \n",
       "...       ...  ...       ...                ...          ...  ...      ...   \n",
       "28612    2019  WAS  IoanMa01  Matthew Ioannidis  M.Ioannidis    D       DL   \n",
       "28613    2019  WAS  AlexAd00   Adonis Alexander  A.Alexander  NaN      NaN   \n",
       "28614    2019  WAS  BergTo00     Tony Bergstrom  T.Bergstrom    O       OL   \n",
       "28615    2019  WAS  WoodJo01       Josh Woodrum    J.Woodrum    O       QB   \n",
       "28616    2019  WAS  SettTi00         Tim Settle     T.Settle    D       DL   \n",
       "\n",
       "      position  games  starts  years   av  \n",
       "0           QB   12.0    11.0      0  8.0  \n",
       "1          NaN    4.0     0.0      0  0.0  \n",
       "2           LG   16.0     6.0      8  4.0  \n",
       "3          NaN   16.0     0.0      1  2.0  \n",
       "4           RG   15.0     9.0      0  5.0  \n",
       "...        ...    ...     ...    ...  ...  \n",
       "28612       DT    NaN     NaN      3  NaN  \n",
       "28613      NaN    NaN     NaN      1  NaN  \n",
       "28614       OT    NaN     NaN      7  NaN  \n",
       "28615       QB    NaN     NaN      1  NaN  \n",
       "28616       DT    NaN     NaN      1  NaN  \n",
       "\n",
       "[28617 rows x 12 columns]"
      ]
     },
     "execution_count": 2,
     "metadata": {},
     "output_type": "execute_result"
    }
   ],
   "source": [
    "roster"
   ]
  },
  {
   "cell_type": "markdown",
   "id": "a4ca240c",
   "metadata": {},
   "source": [
    "The `roster` dataframe includes team rosters (season year and team name),with players' names, positions, games played, games starts, years playing."
   ]
  },
  {
   "cell_type": "code",
   "execution_count": null,
   "id": "9197b141",
   "metadata": {
    "ExecuteTime": {
     "end_time": "2024-04-19T23:18:20.127212Z",
     "start_time": "2024-04-19T23:18:20.115194Z"
    }
   },
   "outputs": [],
   "source": [
    "colors"
   ]
  },
  {
   "cell_type": "markdown",
   "id": "70e9994b",
   "metadata": {},
   "source": [
    "The `colors` dataframe includes a list of the NFL teams and their correspondeing:\n",
    "- color: The team's primary color in hexadecimal\n",
    "- color2: The team's secondary color in hexadecimal\n",
    "- color3: The team's tertiary color in hexadecimal\n",
    "- color3: The team's quaternary color in hexadecimal\n",
    "\n",
    "NOTE: there are on 32 teams in the NFL, take a look at the index range for this dataframe.  Anything strange?"
   ]
  },
  {
   "cell_type": "code",
   "execution_count": null,
   "id": "188fb719",
   "metadata": {
    "ExecuteTime": {
     "end_time": "2024-04-19T22:01:41.468579Z",
     "start_time": "2024-04-19T22:01:41.464310Z"
    }
   },
   "outputs": [],
   "source": [
    "colors.index"
   ]
  },
  {
   "cell_type": "markdown",
   "id": "04c35d00",
   "metadata": {},
   "source": [
    "40? Where are the 8 extra teams coming from?  You will notice this data set repeats some teams using their The team abbreviation used by Pro Football Focus.\n",
    "Don't worry about this for now, We will clean this up ourselves."
   ]
  },
  {
   "cell_type": "code",
   "execution_count": null,
   "id": "b534c40a",
   "metadata": {
    "ExecuteTime": {
     "end_time": "2024-04-19T21:46:46.760085Z",
     "start_time": "2024-04-19T21:46:46.733118Z"
    }
   },
   "outputs": [],
   "source": [
    "team_data_2019"
   ]
  },
  {
   "cell_type": "markdown",
   "id": "af92c4bd",
   "metadata": {},
   "source": [
    "The `team_data_2019` dataframe returns all 32 of the NFL teams, and their:\n",
    "\n",
    "- team: The team in question. This consistently favors JAX over JAC, and LAR over LA.\n",
    "- nfl: The team abbreviation used by the NFL.\n",
    "- pfr: The team abbreviation used by the Pro Football Reference.\n",
    "- pff: The team number used by Pro Football Focus.\n",
    "- pfflabel: The team abbreviation used by Pro Football Focus.\n",
    "- fo: The team abbreviation used by Football Outsiders.\n",
    "- full: The long form name of the team, with both the location and nickname written out.\n",
    "- location: The part of the team name that identifies where it plays. Uses St Louis for Saint Louis. Still includes the nickname if it is ambiguous.\n",
    "- short_location: The part of the team name that identifies where it plays, except Los Angeles is shortened to LA and New York is shortened to NY. Uses St. Louis for Saint Louis. Still includes the nickname if it is ambiguous.\n",
    "- nickname: The part of the team name that identifies its mascot.\n",
    "\n",
    "We're going to ignore the last 4 columns.  "
   ]
  },
  {
   "cell_type": "markdown",
   "id": "41f07fdf",
   "metadata": {},
   "source": [
    "## Merge Examples\n",
    "\n",
    "First, let's take a look at the `team_data_2019` and see how we can use panda's `merge` to add each team's colors to this dataframe.\n",
    "\n",
    "refresh on syntax:\n",
    "\n",
    "`DataFrame.merge(dataframe, parameters)`\n"
   ]
  },
  {
   "cell_type": "markdown",
   "id": "7df6b102",
   "metadata": {},
   "source": [
    "Let's try merging the dataframes with the default `merge` settings."
   ]
  },
  {
   "cell_type": "code",
   "execution_count": null,
   "id": "2d909553",
   "metadata": {
    "ExecuteTime": {
     "end_time": "2024-04-19T22:11:58.518181Z",
     "start_time": "2024-04-19T22:11:58.479804Z"
    }
   },
   "outputs": [],
   "source": [
    "# merge by default performs an `inner` join when merging\n",
    "\n",
    "#                    V data that is being merged\n",
    "team_data_2019.merge(colors)\n",
    "# ^ data being merged on to"
   ]
  },
  {
   "cell_type": "markdown",
   "id": "1e6f6061",
   "metadata": {},
   "source": [
    "By default, `merge()` will perform an `inner` join when merging.\n",
    "\n",
    "What happens when we set the parameter to `how=\"left\"` ?"
   ]
  },
  {
   "cell_type": "code",
   "execution_count": null,
   "id": "c8e59a36",
   "metadata": {
    "ExecuteTime": {
     "end_time": "2024-04-19T22:39:07.972976Z",
     "start_time": "2024-04-19T22:39:07.938561Z"
    }
   },
   "outputs": [],
   "source": [
    "# how =left will return the same results as an inner join in this case\n",
    "\n",
    "team_data_2019.merge(colors, how=\"left\")\n",
    "\n",
    "# we are dictating that the data object left of the .merge is the index range we should be merging on"
   ]
  },
  {
   "cell_type": "markdown",
   "id": "e6ac01ca",
   "metadata": {},
   "source": [
    "What about when we merge using the `on=` parameter?"
   ]
  },
  {
   "cell_type": "code",
   "execution_count": null,
   "id": "ecbd4153",
   "metadata": {
    "ExecuteTime": {
     "end_time": "2024-04-19T22:33:38.648666Z",
     "start_time": "2024-04-19T22:33:38.611647Z"
    }
   },
   "outputs": [],
   "source": [
    "# using the `on=` parameter, allows you to call a specific column that is present in BOTH dataframes\n",
    "\n",
    "team_data_2019.merge(colors, on=\"team\")\n"
   ]
  },
  {
   "cell_type": "markdown",
   "id": "bfae115f",
   "metadata": {
    "ExecuteTime": {
     "end_time": "2024-04-19T22:37:40.414938Z",
     "start_time": "2024-04-19T22:37:40.410873Z"
    }
   },
   "source": [
    "What about when we merge using the `how=\"left\"` parameter?"
   ]
  },
  {
   "cell_type": "code",
   "execution_count": null,
   "id": "6c933b99",
   "metadata": {
    "ExecuteTime": {
     "end_time": "2024-04-19T22:40:30.522327Z",
     "start_time": "2024-04-19T22:40:30.485006Z"
    }
   },
   "outputs": [],
   "source": [
    "# what happens when we perform a merge with the parameter how=left?\n",
    "\n",
    "team_data_2019.merge(colors, how=\"left\")\n",
    "# you've kept the index of the dataframe to the left of the merge"
   ]
  },
  {
   "cell_type": "markdown",
   "id": "a1793fe6",
   "metadata": {},
   "source": [
    "What about when we merge using the `how=\"right\"` parameter?"
   ]
  },
  {
   "cell_type": "code",
   "execution_count": null,
   "id": "3e1252d5",
   "metadata": {
    "ExecuteTime": {
     "end_time": "2024-04-19T22:41:31.492797Z",
     "start_time": "2024-04-19T22:41:31.449010Z"
    }
   },
   "outputs": [],
   "source": [
    "# what happens when we perform a merge with the parameter how=right?\n",
    "\n",
    "team_data_2019.merge(colors, how=\"right\")\n",
    "# you've kept the index of the dataframe to the right of the merge\n",
    "# the missing data fields will be filled in with NaN, and retains their original index position"
   ]
  },
  {
   "cell_type": "code",
   "execution_count": null,
   "id": "eeca1680",
   "metadata": {
    "ExecuteTime": {
     "end_time": "2024-04-19T22:42:38.785127Z",
     "start_time": "2024-04-19T22:42:38.739816Z"
    }
   },
   "outputs": [],
   "source": [
    "# what happens when we perform a merge with the parameter how=right?\n",
    "\n",
    "team_data_2019.merge(colors, how=\"outer\")\n",
    "# you've kept the index of the dataframe to the right of the merge.\n",
    "# the missing data fields will be filled in with NaN, but will have new index positions.\n",
    "# the rows from the dataframe you merged ON TO will retain their original index positions."
   ]
  },
  {
   "cell_type": "markdown",
   "id": "9db03ceb",
   "metadata": {},
   "source": [
    "#### Let's Switch things up.  Literally.\n",
    "\n",
    "What about if we flip the orders of the dataframes when defining our merge?\n",
    "\n",
    "Instead of calling `team_data_2019.merge()`, let's try `colors.merge()` :"
   ]
  },
  {
   "cell_type": "code",
   "execution_count": null,
   "id": "9e92077d",
   "metadata": {
    "ExecuteTime": {
     "end_time": "2024-04-19T22:22:07.553129Z",
     "start_time": "2024-04-19T22:22:07.511746Z"
    }
   },
   "outputs": [],
   "source": [
    "colors.merge(team_data_2019, how=\"left\")"
   ]
  },
  {
   "cell_type": "markdown",
   "id": "e514c109",
   "metadata": {},
   "source": [
    "What do you notice?\n",
    "\n",
    "\n",
    "### QUICK NOTE: \n",
    "Performing these merges, didn't alter either of the original dataframes.  If you want to use this merged data again, you should save the new merged dataframe as a new variable to be used later, or modify the original `team_data_2019` or `colors` dataframe with this merge.\n",
    "\n",
    "For our purposes, let's:\n",
    "1. create a new variable, that\n",
    "2. returns the 32 NFL teams data merged with their team colors."
   ]
  },
  {
   "cell_type": "code",
   "execution_count": null,
   "id": "35a2493e",
   "metadata": {
    "ExecuteTime": {
     "end_time": "2024-04-19T22:30:41.396071Z",
     "start_time": "2024-04-19T22:30:41.358610Z"
    }
   },
   "outputs": [],
   "source": [
    "new_team_data = team_data_2019.merge(colors)\n",
    "new_team_data"
   ]
  },
  {
   "cell_type": "markdown",
   "id": "1d8765e1",
   "metadata": {},
   "source": [
    "# Exercises\n",
    "\n",
    "## Exercise #1: preparing for the big game\n",
    "\n",
    "\n",
    "Let's pretend it is 2019, and we have the game schedule.  Leif & Sarah's favorite teams are scheduled to play against each other.\n",
    "\n",
    "They are organizing a game viewing party, and want to decorate the game snacks accordingly.\n",
    "\n",
    "Sarah's favorite team is the Pittsburgh Steelers.\n",
    "Leif's favorite team is the Buffalo Bills.\n",
    "\n",
    "We have a dataframe that includes all of the team rosters from 2006 -2019 saved in `roster`.  \n",
    "Start by creating a dataframe for each team's full 2019 roster:"
   ]
  },
  {
   "cell_type": "code",
   "execution_count": null,
   "id": "f3daf2d9",
   "metadata": {
    "ExecuteTime": {
     "end_time": "2024-04-19T22:53:40.612985Z",
     "start_time": "2024-04-19T22:53:40.605926Z"
    }
   },
   "outputs": [],
   "source": [
    "season2019 = roster[roster[\"season\"]==2019]\n",
    "\n",
    "steelers_2019_roster = season2019[season2019[\"team\"]==\"PIT\"]"
   ]
  },
  {
   "cell_type": "code",
   "execution_count": null,
   "id": "bec58bcf",
   "metadata": {},
   "outputs": [],
   "source": [
    "steelers_2019_roster = "
   ]
  },
  {
   "cell_type": "code",
   "execution_count": null,
   "id": "c2bbc3df",
   "metadata": {
    "ExecuteTime": {
     "end_time": "2024-04-19T22:53:43.051041Z",
     "start_time": "2024-04-19T22:53:43.047222Z"
    }
   },
   "outputs": [],
   "source": [
    "bills_2019_roster = season2019[season2019[\"team\"]==\"BUF\"]"
   ]
  },
  {
   "cell_type": "code",
   "execution_count": null,
   "id": "3a9003fe",
   "metadata": {},
   "outputs": [],
   "source": [
    "bills_2019_roster ="
   ]
  },
  {
   "cell_type": "markdown",
   "id": "fb349e6c",
   "metadata": {},
   "source": [
    "Ok we can't see the full rosters in either dataframes.\n",
    "\n",
    "You can use `pd.set_option` to define the number of `rows` or `columns` you want visible."
   ]
  },
  {
   "cell_type": "code",
   "execution_count": null,
   "id": "66c1b4de",
   "metadata": {
    "ExecuteTime": {
     "end_time": "2024-04-19T23:09:10.419013Z",
     "start_time": "2024-04-19T23:09:10.414466Z"
    }
   },
   "outputs": [],
   "source": [
    "pd.set_option('display.max_rows', 300)\n",
    "pd.set_option('display.max_columns', 30)"
   ]
  },
  {
   "cell_type": "markdown",
   "id": "5b25555d",
   "metadata": {},
   "source": [
    "let's re-run our team variables"
   ]
  },
  {
   "cell_type": "code",
   "execution_count": null,
   "id": "00858f5d",
   "metadata": {
    "ExecuteTime": {
     "end_time": "2024-04-19T22:54:12.792300Z",
     "start_time": "2024-04-19T22:54:12.765043Z"
    }
   },
   "outputs": [],
   "source": [
    "steelers_2019_roster "
   ]
  },
  {
   "cell_type": "code",
   "execution_count": null,
   "id": "a61e6dd7",
   "metadata": {
    "ExecuteTime": {
     "end_time": "2024-04-19T22:54:25.122126Z",
     "start_time": "2024-04-19T22:54:25.094227Z"
    }
   },
   "outputs": [],
   "source": [
    "bills_2019_roster"
   ]
  },
  {
   "cell_type": "markdown",
   "id": "3210b741",
   "metadata": {},
   "source": [
    "They've decided they are going to going to decorate cupcakes with jersey names for their favorite players, and do it together.\n",
    "\n",
    "So they aren't working off of two lists, let's use `concat` to create one master list with both team's full 2019 rosters."
   ]
  },
  {
   "cell_type": "code",
   "execution_count": null,
   "id": "29d9fa45",
   "metadata": {
    "ExecuteTime": {
     "end_time": "2024-04-19T23:00:02.343635Z",
     "start_time": "2024-04-19T23:00:02.297549Z"
    }
   },
   "outputs": [],
   "source": [
    "steelers_and_bills = pd.concat([steelers_2019_roster, bills_2019_roster], axis=\"index\")\n",
    "steelers_and_bills"
   ]
  },
  {
   "cell_type": "code",
   "execution_count": null,
   "id": "98c59c3d",
   "metadata": {},
   "outputs": [],
   "source": [
    "steelers_and_bills = "
   ]
  },
  {
   "cell_type": "markdown",
   "id": "338e27ee",
   "metadata": {},
   "source": [
    "## Exercise 2: getting the decorating commitee organized"
   ]
  },
  {
   "cell_type": "markdown",
   "id": "428ebbe3",
   "metadata": {},
   "source": [
    "Before Leif and Sarah can start decorating, they need to know the exact hex colors to make the cupcake icing.\n",
    "\n",
    "Use the dataframes we have created thus far to create a masterlist for Leif and Sarah of all of the players from each team (in 2019) and the full details for each player's teams (location, colors, etc)"
   ]
  },
  {
   "cell_type": "code",
   "execution_count": null,
   "id": "5c0f9fb1",
   "metadata": {
    "ExecuteTime": {
     "end_time": "2024-04-19T23:09:14.801071Z",
     "start_time": "2024-04-19T23:09:14.670235Z"
    }
   },
   "outputs": [],
   "source": [
    "master_list = steelers_and_bills.merge(new_team_data) \n",
    "master_list "
   ]
  },
  {
   "cell_type": "markdown",
   "id": "c05f4b60",
   "metadata": {},
   "source": [
    "Woah that is a lot of information that we probably don't need.\n",
    "\n",
    "We only care about the following columns:\n",
    "- season\n",
    "- team\n",
    "- full_name\n",
    "- name\n",
    "- side\n",
    "- position\n",
    "- nickname\n",
    "- color\n",
    "- color2\n",
    "- color3\n",
    "- color4"
   ]
  },
  {
   "cell_type": "code",
   "execution_count": null,
   "id": "b27d72a8",
   "metadata": {
    "ExecuteTime": {
     "end_time": "2024-04-19T23:15:39.250376Z",
     "start_time": "2024-04-19T23:15:39.205748Z"
    }
   },
   "outputs": [],
   "source": [
    "master_list[[\"season\", \"team\", \"full_name\", \"name\", \"side\", \"position\", \"nickname\", \"color\", \"color2\", \"color3\", \"color4\"]] "
   ]
  },
  {
   "cell_type": "code",
   "execution_count": null,
   "id": "b323bbea",
   "metadata": {
    "ExecuteTime": {
     "end_time": "2024-04-19T23:17:28.150306Z",
     "start_time": "2024-04-19T23:17:24.861643Z"
    }
   },
   "outputs": [],
   "source": [
    "color_code = master_list[[\"season\", \"team\", \"full_name\", \"name\", \"side\", \"position\", \"nickname\", \"color\", \"color2\", \"color3\", \"color4\"]] \n",
    "color_code.style.applymap(lambda hex_color: f\"background-color: {hex_color}\")"
   ]
  },
  {
   "cell_type": "code",
   "execution_count": null,
   "id": "fc4c0967",
   "metadata": {},
   "outputs": [],
   "source": []
  },
  {
   "cell_type": "markdown",
   "id": "fd7676e7",
   "metadata": {},
   "source": [
    "### Merge Function (and Method): \n",
    "Thus far we have been using the following function syntax to `merge`:\n",
    "`left_DataFrame.merge(right_DataFrame)`\n",
    "\n",
    "There is a second way to use `merge`, as a method!\n",
    "`pd.merge(left_DataFrame, right_DataFrame)`\n",
    "\n",
    "When you use the `pd.merge(left_DataFrame, right_DataFrame)`method, it will implicitly consider the left object in the join. \n",
    "So...\n",
    "`pd.merge(left_DataFrame, right_DataFrame)` is the same as\n",
    "`left_DataFrame.merge(right=df2)`\n"
   ]
  },
  {
   "cell_type": "markdown",
   "id": "ff01bc59",
   "metadata": {},
   "source": []
  }
 ],
 "metadata": {
  "hide_input": false,
  "kernelspec": {
   "display_name": "Python 3",
   "language": "python",
   "name": "python3"
  },
  "language_info": {
   "codemirror_mode": {
    "name": "ipython",
    "version": 3
   },
   "file_extension": ".py",
   "mimetype": "text/x-python",
   "name": "python",
   "nbconvert_exporter": "python",
   "pygments_lexer": "ipython3",
   "version": "3.11.8"
  }
 },
 "nbformat": 4,
 "nbformat_minor": 5
}
