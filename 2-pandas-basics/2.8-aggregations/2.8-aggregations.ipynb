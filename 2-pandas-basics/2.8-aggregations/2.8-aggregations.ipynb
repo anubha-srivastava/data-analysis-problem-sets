{
 "cells": [
  {
   "cell_type": "markdown",
   "metadata": {},
   "source": [
    "# Problem Set 2.9: Aggregations\n",
    "\n",
    "[Click here to open this notebook in your browser](https://leifwalsh.github.io/data-analysis-problem-sets/lab/index.html?path=2-pandas-basics/2.9-aggregations/2.9-aggregations.ipynb)\n",
    "\n",
    "Learn how to summarize numerical data with different aggregations like `sum()` and `mean()`."
   ]
  },
  {
   "cell_type": "code",
   "execution_count": null,
   "metadata": {},
   "outputs": [],
   "source": [
    "import pandas as pd"
   ]
  },
  {
   "cell_type": "markdown",
   "metadata": {},
   "source": [
    "In this notebook we'll explore historical NFL team stats, from http://www.habitatring.com/standings.csv, via https://github.com/nflverse/nfldata/blob/master/DATASETS.md#standings.\n",
    "\n",
    "Columns:\n",
    "\n",
    "* `season`: The year of the NFL season. This reperesents the whole season, so regular season games that happen in January as well as playoff games will occur in the year after this number.\n",
    "* `conf`: The conference the team is in. This will be either AFC or NFC.\n",
    "* `division`: The division the team is in. This will be the value of conf followed by either East, North, South, or West.\n",
    "* `team`: The team.\n",
    "* `wins`: The number of games the team won in the regular season.\n",
    "* `losses`: The number of games the team lost in the regular season.\n",
    "* `ties`: The number of games the team tied in the regular season.\n",
    "* `pct`: The win rate of the team in the regular season. Equals (wins + 0.5 * ties) / (wins + losses + ties).\n",
    "* `div_rank`: This is where this team ranks compared to the other teams in the division based on regular season games only. Will be a number 1-4. If the teams have identical pct values, NFL tiebreakers are applied.\n",
    "* `scored`: The number of points the team has scored in regular season games.\n",
    "* `allowed`: The number of points the team has allowed to be scored on them in regular season games.\n",
    "* `net`: Net points scored in regular season games. Equals scored - allowed.\n",
    "* `sov`: As used in NFL tiebreakers, strength of victory, defined as the combined win rates for teams this team has beaten.\n",
    "* `sos`: As used in NFL tiebreakers, strength of schedule, defined as the combined win rates for teams this team has played.\n",
    "* `seed`: The seed earned by the team in its conference for playoff games. Is NA for teams which do not make the playoffs.\n",
    "* `playoff`: The outcome of the team's playoff run. Is NA for teams which do not make the playoffs, otherwise will be one of LostWC, LostDV, LostCC, LostSB, or WonSB.\n"
   ]
  },
  {
   "cell_type": "code",
   "execution_count": null,
   "metadata": {},
   "outputs": [],
   "source": [
    "standings = pd.read_csv(\"standings.csv\")\n",
    "standings.head()"
   ]
  },
  {
   "cell_type": "markdown",
   "metadata": {},
   "source": [
    "Which years do we have coverage for?"
   ]
  },
  {
   "cell_type": "code",
   "execution_count": null,
   "metadata": {},
   "outputs": [],
   "source": [
    "standings[\"season\"].unique()"
   ]
  },
  {
   "cell_type": "markdown",
   "metadata": {},
   "source": [
    "We've seen one form of aggregation before: the `.describe()` method:"
   ]
  },
  {
   "cell_type": "code",
   "execution_count": null,
   "metadata": {},
   "outputs": [],
   "source": [
    "standings.loc[:, [\"wins\", \"losses\", \"ties\"]].describe()"
   ]
  },
  {
   "cell_type": "markdown",
   "metadata": {},
   "source": [
    "I think it makes sense that the median (50%) is 8 wins, 8 losses, and 0 ties (since there are 16 games in the regular season). But it doesn't have to be this way!\n",
    "\n",
    "Now, think about the mean. Why are the mean wins and losses the same? Why are they less than 8? Does this make sense to you?"
   ]
  },
  {
   "cell_type": "markdown",
   "metadata": {},
   "source": [
    "## Aggregation Functions\n",
    "\n",
    "There are a lot of aggregation functions available on a DataFrame: https://pandas.pydata.org/pandas-docs/stable/reference/frame.html#computations-descriptive-stats. We can't cover them all, but we'll try out a few here."
   ]
  },
  {
   "cell_type": "markdown",
   "metadata": {},
   "source": [
    "The basic stats you might be familiar with are available. All of these are computed by `.describe()`, but if you need a specific one you can use these:"
   ]
  },
  {
   "cell_type": "code",
   "execution_count": null,
   "metadata": {},
   "outputs": [],
   "source": [
    "standings[[\"wins\", \"losses\", \"ties\"]].mean()"
   ]
  },
  {
   "cell_type": "code",
   "execution_count": null,
   "metadata": {},
   "outputs": [],
   "source": [
    "standings[[\"wins\", \"losses\", \"ties\"]].median()"
   ]
  },
  {
   "cell_type": "code",
   "execution_count": null,
   "metadata": {},
   "outputs": [],
   "source": [
    "standings[[\"wins\", \"losses\", \"ties\"]].max()"
   ]
  },
  {
   "cell_type": "code",
   "execution_count": null,
   "metadata": {},
   "outputs": [],
   "source": [
    "standings[[\"wins\", \"losses\", \"ties\"]].min()"
   ]
  },
  {
   "cell_type": "code",
   "execution_count": null,
   "metadata": {},
   "outputs": [],
   "source": [
    "standings[[\"wins\", \"losses\", \"ties\"]].count()"
   ]
  },
  {
   "cell_type": "markdown",
   "metadata": {},
   "source": [
    "There are others that `.describe()` doesn't give us:"
   ]
  },
  {
   "cell_type": "code",
   "execution_count": null,
   "metadata": {},
   "outputs": [],
   "source": [
    "standings[[\"wins\", \"losses\", \"ties\"]].sum()"
   ]
  },
  {
   "cell_type": "markdown",
   "metadata": {},
   "source": [
    "When you compute an aggregation over a DataFrame with multiple columns, you get a Series back with one value per column, as we just saw. It aggregates over each column individually.\n",
    "\n",
    "If you just do it on one column, you just get a number:"
   ]
  },
  {
   "cell_type": "code",
   "execution_count": null,
   "metadata": {},
   "outputs": [],
   "source": [
    "standings[\"wins\"].mean()"
   ]
  },
  {
   "cell_type": "markdown",
   "metadata": {},
   "source": [
    "In other words, aggregation functions are things that apply to a Series and produce a single value. When you call an aggregation function on a DataFrame, all that really does is call the same function on each Series, one by one.\n",
    "\n",
    "Since the result is a Series with one value per original column, you can then aggregate a second time. For example, if we want to just count the number of games, we can do this:"
   ]
  },
  {
   "cell_type": "code",
   "execution_count": null,
   "metadata": {},
   "outputs": [],
   "source": [
    "standings[[\"wins\", \"losses\", \"ties\"]].sum().sum() / 2"
   ]
  },
  {
   "cell_type": "markdown",
   "metadata": {},
   "source": [
    "(Why divide by 2?)"
   ]
  },
  {
   "cell_type": "markdown",
   "metadata": {},
   "source": [
    "## Aggregating subsets\n",
    "\n",
    "Above, we're getting totals over the whole table. What if we want to break things down by team?\n",
    "\n",
    "One way is to combine what we already learned (filtering to subsets of data with `.loc[]`) with aggregations:"
   ]
  },
  {
   "cell_type": "code",
   "execution_count": null,
   "metadata": {},
   "outputs": [],
   "source": [
    "standings.loc[standings[\"team\"] == \"PIT\", [\"wins\", \"losses\", \"ties\"]].sum()"
   ]
  },
  {
   "cell_type": "markdown",
   "metadata": {},
   "source": [
    "Now let's do that for every team. First, we need to know which teams exist:"
   ]
  },
  {
   "cell_type": "code",
   "execution_count": null,
   "metadata": {},
   "outputs": [],
   "source": [
    "standings[\"team\"].unique()"
   ]
  },
  {
   "cell_type": "markdown",
   "metadata": {},
   "source": [
    "We can loop over those teams like this:"
   ]
  },
  {
   "cell_type": "code",
   "execution_count": null,
   "metadata": {},
   "outputs": [],
   "source": [
    "for team in standings[\"team\"].unique():\n",
    "    print(team)"
   ]
  },
  {
   "cell_type": "markdown",
   "metadata": {},
   "source": [
    "Now, can you compute the wins, losses, and ties for each team?"
   ]
  },
  {
   "cell_type": "code",
   "execution_count": null,
   "metadata": {},
   "outputs": [],
   "source": []
  },
  {
   "cell_type": "markdown",
   "metadata": {},
   "source": [
    "## Examples"
   ]
  },
  {
   "cell_type": "code",
   "execution_count": null,
   "metadata": {},
   "outputs": [],
   "source": [
    "# Re-read data just in case:\n",
    "standings = pd.read_csv(\"standings.csv\")\n",
    "standings"
   ]
  },
  {
   "cell_type": "markdown",
   "metadata": {},
   "source": [
    "### Example 1\n",
    "\n",
    "Compute the sums of wins, losses, and ties for the AFC conference:"
   ]
  },
  {
   "cell_type": "code",
   "execution_count": null,
   "metadata": {},
   "outputs": [],
   "source": []
  },
  {
   "cell_type": "markdown",
   "metadata": {},
   "source": [
    "### Example 2\n",
    "\n",
    "Compute the sums of wins, losses, and ties for every division:"
   ]
  },
  {
   "cell_type": "code",
   "execution_count": null,
   "metadata": {},
   "outputs": [],
   "source": []
  },
  {
   "cell_type": "markdown",
   "metadata": {},
   "source": [
    "### Example 3\n",
    "\n",
    "Compute the average number of points scored and allowed per season (and check that the result makes sense):"
   ]
  },
  {
   "cell_type": "code",
   "execution_count": null,
   "metadata": {},
   "outputs": [],
   "source": []
  },
  {
   "cell_type": "markdown",
   "metadata": {},
   "source": [
    "### Example 4\n",
    "\n",
    "Count the number of teams in each season (check the pandas documentation linked above: is there a descriptive statistic you can use?):"
   ]
  },
  {
   "cell_type": "code",
   "execution_count": null,
   "metadata": {},
   "outputs": [],
   "source": []
  }
 ],
 "metadata": {
  "kernelspec": {
   "display_name": "Python 3",
   "language": "python",
   "name": "python3"
  },
  "language_info": {
   "codemirror_mode": {
    "name": "ipython",
    "version": 3
   },
   "file_extension": ".py",
   "mimetype": "text/x-python",
   "name": "python",
   "nbconvert_exporter": "python",
   "pygments_lexer": "ipython3",
   "version": "3.11.8"
  }
 },
 "nbformat": 4,
 "nbformat_minor": 2
}
