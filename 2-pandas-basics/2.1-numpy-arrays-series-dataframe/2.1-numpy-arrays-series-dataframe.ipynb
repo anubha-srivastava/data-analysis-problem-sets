{
 "cells": [
  {
   "cell_type": "markdown",
   "metadata": {},
   "source": [
    "# Problem Set 2.1: numpy arrays, Series, Dataframe\n",
    "\n",
    "Learn about the core data structures"
   ]
  }
 ],
 "metadata": {
  "language_info": {
   "name": "python"
  }
 },
 "nbformat": 4,
 "nbformat_minor": 2
}
