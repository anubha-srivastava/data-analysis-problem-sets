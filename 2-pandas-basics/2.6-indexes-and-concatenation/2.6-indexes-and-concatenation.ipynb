{
 "cells": [
  {
   "cell_type": "markdown",
   "metadata": {},
   "source": [
    "# Problem Set 2.6: Indexes and concatenation\n",
    "\n",
    "[Click here to open this notebook in your browser](https://leifwalsh.github.io/data-analysis-problem-sets/lab/index.html?path=2-pandas-basics/2.6-indexes-and-concatenation/2.6-indexes-and-concatenation.ipynb)\n",
    "\n",
    "Learn about DataFrame indexes and how to combine DataFrames with `concat`.\n",
    "\n",
    "But first, we'll start with a little exploration of adding individual columns\n",
    "to a DataFrame."
   ]
  },
  {
   "cell_type": "markdown",
   "metadata": {},
   "source": [
    "## Adding columns to a DataFrame\n",
    "\n",
    "Previously, we worked with a deck of cards, to build intuition. In this\n",
    "notebook, we'll start with a very small DataFrame, so we can focus directly on\n",
    "these operations."
   ]
  },
  {
   "cell_type": "code",
   "execution_count": null,
   "metadata": {},
   "outputs": [],
   "source": [
    "import pandas as pd\n",
    "\n",
    "df = pd.DataFrame({\n",
    "    \"a\": [1, 2, 3, 4],\n",
    "    \"b\": [2, 4, 6, 8],\n",
    "    \"c\": [\"w\", \"x\", \"y\", \"z\"],\n",
    "})\n",
    "df"
   ]
  },
  {
   "cell_type": "markdown",
   "metadata": {},
   "source": [
    "Just like in [Section\n",
    "2.1](../2.1-numpy-arrays-series-dataframe/2.1-numpy-arrays-series-dataframe.ipynb),\n",
    "we can create a new Series from these columns:"
   ]
  },
  {
   "cell_type": "code",
   "execution_count": null,
   "metadata": {},
   "outputs": [],
   "source": [
    "s1 = df[\"a\"] + df[\"b\"]\n",
    "s1"
   ]
  },
  {
   "cell_type": "markdown",
   "metadata": {},
   "source": [
    "We can add this new Series to the DataFrame as a new column, with `assign`.\n",
    "\n",
    "Note: `assign` returns a new DataFrame with the new column added, rather than\n",
    "modifying the original DataFrame in place. We'll use `assign` in this section\n",
    "so we can keep reusing `df` without modifying it."
   ]
  },
  {
   "cell_type": "code",
   "execution_count": null,
   "metadata": {},
   "outputs": [],
   "source": [
    "df1 = df.assign(d=s1)\n",
    "df1"
   ]
  },
  {
   "cell_type": "markdown",
   "metadata": {},
   "source": [
    "As promised, `df` is unchanged:"
   ]
  },
  {
   "cell_type": "code",
   "execution_count": null,
   "metadata": {},
   "outputs": [],
   "source": [
    "df"
   ]
  },
  {
   "cell_type": "markdown",
   "metadata": {},
   "source": [
    "More often, you'll see people assign columns to a DataFrame without setting\n",
    "the Series to a variable first:"
   ]
  },
  {
   "cell_type": "code",
   "execution_count": null,
   "metadata": {},
   "outputs": [],
   "source": [
    "df1 = df.assign(d=df[\"a\"] + df[\"b\"])\n",
    "df1"
   ]
  },
  {
   "cell_type": "markdown",
   "metadata": {},
   "source": [
    "Notice above how `s` has the index `0, 1, 2, 3` and when we assigned it to the\n",
    "DataFrame, the values `3, 6, 9, 12` were set to the rows that matched their\n",
    "index values `0, 1, 2, 3`.\n",
    "\n",
    "If we create a Series with a different index, pandas will reorder it to match\n",
    "the index of that DataFrame. This is called _alignment_."
   ]
  },
  {
   "cell_type": "code",
   "execution_count": null,
   "metadata": {},
   "outputs": [],
   "source": [
    "s2 = pd.Series(data=[8, 9, 10, 11], index=[2, 3, 1, 0])\n",
    "s2"
   ]
  },
  {
   "cell_type": "markdown",
   "metadata": {},
   "source": [
    "Notice the index in this case is `2, 3, 1, 0`. Now when we assign it to the\n",
    "DataFrame, the values are reordered to match the index of the DataFrame:"
   ]
  },
  {
   "cell_type": "code",
   "execution_count": null,
   "metadata": {},
   "outputs": [],
   "source": [
    "df2 = df.assign(d=s2)\n",
    "df2"
   ]
  },
  {
   "cell_type": "markdown",
   "metadata": {},
   "source": [
    "If the new Series doesn't have values for all the rows in the DataFrame, pandas\n",
    "will fill in missing values with a \"missing value\" marker, most commonly `NaN`\n",
    "for \"not a number\"."
   ]
  },
  {
   "cell_type": "code",
   "execution_count": null,
   "metadata": {},
   "outputs": [],
   "source": [
    "s3 = pd.Series(data=[5, 6, 7], index=[0, 1, 3])\n",
    "s3"
   ]
  },
  {
   "cell_type": "code",
   "execution_count": null,
   "metadata": {},
   "outputs": [],
   "source": [
    "df3 = df.assign(d=s3)\n",
    "df3"
   ]
  },
  {
   "cell_type": "markdown",
   "metadata": {},
   "source": [
    "Side note: because of \"computer details\", Series that are integers can't\n",
    "generally represent this \"not a number\" value. That's why the `d` column has\n",
    "decimal points in it. pandas automatically converts the integers to floats to\n",
    "accommodate the `NaN` values."
   ]
  },
  {
   "cell_type": "code",
   "execution_count": null,
   "metadata": {},
   "outputs": [],
   "source": [
    "df3.dtypes"
   ]
  },
  {
   "cell_type": "markdown",
   "metadata": {},
   "source": [
    "We'll see more about missing values later."
   ]
  },
  {
   "cell_type": "markdown",
   "metadata": {},
   "source": [
    "You can also add a new column with more values than the DataFrame has rows. In\n",
    "this case, pandas will only use the values that match the index of the\n",
    "DataFrame."
   ]
  },
  {
   "cell_type": "code",
   "execution_count": null,
   "metadata": {},
   "outputs": [],
   "source": [
    "s4 = pd.Series(data=[15, 16, 17, 18, 19, 20], index=[0, 1, 2, 3, 4, 100])\n",
    "s4"
   ]
  },
  {
   "cell_type": "code",
   "execution_count": null,
   "metadata": {},
   "outputs": [],
   "source": [
    "df4 = df.assign(d=s4)\n",
    "df4"
   ]
  },
  {
   "cell_type": "markdown",
   "metadata": {},
   "source": [
    "### Modifying assignment\n",
    "\n",
    "Above, we used `assign` to create a new DataFrame with the new column added.\n",
    "\n",
    "We can also update the DataFrame in place, using the `[]` operator to add a new\n",
    "column.\n",
    "\n",
    "This is pretty common, so you should know it exists, but it can result in\n",
    "notebooks that get more confusing, since then the order in which you execute\n",
    "the cells can change the result.\n",
    "\n",
    "To see this, let's make a copy of the DataFrame:"
   ]
  },
  {
   "cell_type": "code",
   "execution_count": null,
   "metadata": {},
   "outputs": [],
   "source": [
    "dataframe_to_modify = df.copy()\n",
    "dataframe_to_modify"
   ]
  },
  {
   "cell_type": "markdown",
   "metadata": {},
   "source": [
    "Now, we can update it in place:"
   ]
  },
  {
   "cell_type": "code",
   "execution_count": null,
   "metadata": {},
   "outputs": [],
   "source": [
    "dataframe_to_modify[\"d\"] = s4"
   ]
  },
  {
   "cell_type": "code",
   "execution_count": null,
   "metadata": {},
   "outputs": [],
   "source": [
    "dataframe_to_modify"
   ]
  },
  {
   "cell_type": "markdown",
   "metadata": {},
   "source": [
    "## Understanding Indexes\n",
    "\n",
    "So far, we've only worked with indexes that represent row numbers (at least in\n",
    "some original sense).\n",
    "\n",
    "But indexes can be more than just row numbers. They can be any unique\n",
    "identifier for the rows.\n",
    "\n",
    "In some cases, they can be a combination of columns that uniquely identifies\n",
    "rows (for example, a combination of first name and last, as long as you don't\n",
    "have people with identical first and last names).\n",
    "\n",
    "Technically, pandas won't explicitly complain if they aren't unique, but many\n",
    "operations will do confusing things if they're not unique! Some pandas experts\n",
    "even discourage use of indexes at all for this reason. But some pandas\n",
    "operations will give you DataFrame objects with non-trivial indexes, so you\n",
    "will need to understand them anyway.\n",
    "\n",
    "As long as you understand them, they don't have to be scary, and often they can\n",
    "be useful."
   ]
  },
  {
   "cell_type": "markdown",
   "metadata": {},
   "source": [
    "### Changing the index\n",
    "\n",
    "You can set the index of a DataFrame with the `set_index` method:"
   ]
  },
  {
   "cell_type": "code",
   "execution_count": null,
   "metadata": {},
   "outputs": [],
   "source": [
    "df_indexed = df.set_index(\"c\")\n",
    "df_indexed"
   ]
  },
  {
   "cell_type": "markdown",
   "metadata": {},
   "source": [
    "Note that when a DataFrame like this is displayed, the index's column name is\n",
    "in the second header row.\n",
    "\n",
    "The index is no longer a normal column:"
   ]
  },
  {
   "cell_type": "code",
   "execution_count": null,
   "metadata": {},
   "outputs": [],
   "source": [
    "df_indexed.columns"
   ]
  },
  {
   "cell_type": "markdown",
   "metadata": {},
   "source": [
    "Remember that a DataFrame is roughly defined as a collection (`dict`) of Series\n",
    "that share an index (\"are aligned\"). So, each of the columns in the DataFrame\n",
    "now has `c` as its index:"
   ]
  },
  {
   "cell_type": "code",
   "execution_count": null,
   "metadata": {},
   "outputs": [],
   "source": [
    "df_indexed[\"a\"]"
   ]
  },
  {
   "cell_type": "code",
   "execution_count": null,
   "metadata": {},
   "outputs": [],
   "source": [
    "df_indexed[\"b\"]"
   ]
  },
  {
   "cell_type": "markdown",
   "metadata": {},
   "source": [
    "We can now use `.loc[]` to select items along the new index with values from\n",
    "that index:"
   ]
  },
  {
   "cell_type": "code",
   "execution_count": null,
   "metadata": {},
   "outputs": [],
   "source": [
    "df_indexed.loc[\"w\":\"y\", [\"a\"]]"
   ]
  },
  {
   "cell_type": "markdown",
   "metadata": {},
   "source": [
    "We can still use `.iloc[]` to access rows by their position:"
   ]
  },
  {
   "cell_type": "code",
   "execution_count": null,
   "metadata": {},
   "outputs": [],
   "source": [
    "df_indexed.iloc[1:3]"
   ]
  },
  {
   "cell_type": "markdown",
   "metadata": {},
   "source": [
    "When you assign a column onto a DataFrame, remember that it will be aligned to\n",
    "the index of the DataFrame. This is still true when the index isn't row\n",
    "numbers.\n",
    "\n",
    "Let's remind ourselves what that DataFrame looks like:"
   ]
  },
  {
   "cell_type": "code",
   "execution_count": null,
   "metadata": {},
   "outputs": [],
   "source": [
    "df_indexed"
   ]
  },
  {
   "cell_type": "markdown",
   "metadata": {},
   "source": [
    "Let's add a new column to it:"
   ]
  },
  {
   "cell_type": "code",
   "execution_count": null,
   "metadata": {},
   "outputs": [],
   "source": [
    "s5 = pd.Series(data=[5, 6, 7, 8], index=[\"z\", \"y\", \"x\", \"w\"])\n",
    "s5"
   ]
  },
  {
   "cell_type": "code",
   "execution_count": null,
   "metadata": {},
   "outputs": [],
   "source": [
    "df5 = df_indexed.assign(d=s5)\n",
    "df5"
   ]
  },
  {
   "cell_type": "markdown",
   "metadata": {},
   "source": [
    "Now we're ready to explore `concat` and `join`."
   ]
  },
  {
   "cell_type": "markdown",
   "metadata": {},
   "source": [
    "## Concatenating DataFrames\n",
    "\n",
    "`concat` is a function that takes a list of DataFrames and concatenates them\n",
    "along either the \"index\" or \"columns\" axis.\n",
    "\n",
    "We'll need two DataFrames:"
   ]
  },
  {
   "cell_type": "code",
   "execution_count": null,
   "metadata": {},
   "outputs": [],
   "source": [
    "df_a = pd.DataFrame({\n",
    "    \"a\": [1, 2, 3, 4],\n",
    "    \"b\": [2, 4, 6, 8],\n",
    "    \"idx\": [\"w\", \"x\", \"y\", \"z\"],\n",
    "}).set_index(\"idx\")\n",
    "df_a"
   ]
  },
  {
   "cell_type": "code",
   "execution_count": null,
   "metadata": {},
   "outputs": [],
   "source": [
    "df_b = pd.DataFrame({\n",
    "    \"c\": [5, 6, 7, 8],\n",
    "    \"d\": [9, 10, 11, 12],\n",
    "    \"idx\": [\"w\", \"x\", \"y\", \"z\"],\n",
    "}).set_index(\"idx\")\n",
    "df_b"
   ]
  },
  {
   "cell_type": "markdown",
   "metadata": {},
   "source": [
    "`concat` well...concatenates DataFrames along the named axis. In this case, we\n",
    "concatenate the columns, so the resulting DataFrame has all the columns from\n",
    "both `df_a` and `df_b`, but it makes sure to align them by their index."
   ]
  },
  {
   "cell_type": "code",
   "execution_count": null,
   "metadata": {},
   "outputs": [],
   "source": [
    "pd.concat([df_a, df_b], axis=\"columns\")"
   ]
  },
  {
   "cell_type": "markdown",
   "metadata": {},
   "source": [
    "You can also concatenate along the index axis. Let's make two more DataFrames:"
   ]
  },
  {
   "cell_type": "code",
   "execution_count": null,
   "metadata": {},
   "outputs": [],
   "source": [
    "df_c = pd.DataFrame({\n",
    "    \"a\": [1, 2, 3, 4],\n",
    "    \"b\": [2, 4, 6, 8],\n",
    "    \"idx\": [\"w\", \"x\", \"y\", \"z\"],\n",
    "}).set_index(\"idx\")\n",
    "df_c"
   ]
  },
  {
   "cell_type": "code",
   "execution_count": null,
   "metadata": {},
   "outputs": [],
   "source": [
    "df_d = pd.DataFrame({\n",
    "    \"a\": [5, 6, 7, 8],\n",
    "    \"b\": [9, 10, 11, 12],\n",
    "    \"idx\": [\"a\", \"b\", \"c\", \"d\"],\n",
    "}).set_index(\"idx\")\n",
    "df_d"
   ]
  },
  {
   "cell_type": "code",
   "execution_count": null,
   "metadata": {},
   "outputs": [],
   "source": [
    "pd.concat([df_c, df_d], axis=\"index\")"
   ]
  },
  {
   "cell_type": "markdown",
   "metadata": {},
   "source": [
    "This time, it made sure the columns were \"aligned\".\n",
    "\n",
    "If this makes you wonder whether columns have alignment properties like indexes\n",
    "do, then yes! We'll see more of that later."
   ]
  },
  {
   "cell_type": "markdown",
   "metadata": {},
   "source": [
    "When you concatenate DataFrames with overlapping but not identical alignment axes, you get missing values in the non-overlapping regions:"
   ]
  },
  {
   "cell_type": "code",
   "execution_count": null,
   "metadata": {},
   "outputs": [],
   "source": [
    "df_e = pd.DataFrame({\n",
    "    \"a\": [1, 2, 3],\n",
    "    \"b\": [2, 4, 6],\n",
    "    \"idx\": [\"w\", \"x\", \"y\"],\n",
    "}).set_index(\"idx\")\n",
    "df_e"
   ]
  },
  {
   "cell_type": "code",
   "execution_count": null,
   "metadata": {},
   "outputs": [],
   "source": [
    "df_f = pd.DataFrame({\n",
    "    \"c\": [6, 7, 8],\n",
    "    \"d\": [10, 11, 12],\n",
    "    \"idx\": [\"x\", \"y\", \"z\"],\n",
    "}).set_index(\"idx\")\n",
    "df_f"
   ]
  },
  {
   "cell_type": "code",
   "execution_count": null,
   "metadata": {},
   "outputs": [],
   "source": [
    "pd.concat([df_e, df_f], axis=\"columns\")"
   ]
  },
  {
   "cell_type": "markdown",
   "metadata": {},
   "source": [
    "With `assign` and `[]=`, pandas considers the DataFrame being added to\n",
    "the authority on what the index is, so any extra rows in the column being added\n",
    "get discanded. With `concat`, none of the DataFrames involved is \"primary\", so\n",
    "pandas keeps all the rows from all the DataFrames, and fills in missing values\n",
    "with `NaN`."
   ]
  },
  {
   "cell_type": "markdown",
   "metadata": {},
   "source": [
    "Note that you can also concatenate as many DataFrames as you want:"
   ]
  },
  {
   "cell_type": "code",
   "execution_count": null,
   "metadata": {},
   "outputs": [],
   "source": [
    "dfs = [\n",
    "    pd.DataFrame({\"a\": [1, 2, 3], \"b\": [4, 5, 6], \"idx\": [\"w\", \"x\", \"y\"]}).set_index(\"idx\"),\n",
    "    pd.DataFrame({\"c\": [7, 8, 9], \"d\": [10, 11, 12], \"idx\": [\"x\", \"y\", \"z\"]}).set_index(\"idx\"),\n",
    "    pd.DataFrame({\"e\": [13, 14, 15], \"f\": [16, 17, 18], \"idx\": [\"y\", \"z\", \"w\"]}).set_index(\"idx\"),\n",
    "]"
   ]
  },
  {
   "cell_type": "code",
   "execution_count": null,
   "metadata": {},
   "outputs": [],
   "source": [
    "dfs[0]"
   ]
  },
  {
   "cell_type": "code",
   "execution_count": null,
   "metadata": {},
   "outputs": [],
   "source": [
    "dfs[1]"
   ]
  },
  {
   "cell_type": "code",
   "execution_count": null,
   "metadata": {},
   "outputs": [],
   "source": [
    "dfs[2]"
   ]
  },
  {
   "cell_type": "code",
   "execution_count": null,
   "metadata": {},
   "outputs": [],
   "source": [
    "pd.concat(dfs, axis=\"columns\")"
   ]
  },
  {
   "cell_type": "markdown",
   "metadata": {},
   "source": []
  }
 ],
 "metadata": {
  "kernelspec": {
   "display_name": "Python 3",
   "language": "python",
   "name": "python3"
  },
  "language_info": {
   "codemirror_mode": {
    "name": "ipython",
    "version": 3
   },
   "file_extension": ".py",
   "mimetype": "text/x-python",
   "name": "python",
   "nbconvert_exporter": "python",
   "pygments_lexer": "ipython3",
   "version": "3.11.8"
  }
 },
 "nbformat": 4,
 "nbformat_minor": 2
}
