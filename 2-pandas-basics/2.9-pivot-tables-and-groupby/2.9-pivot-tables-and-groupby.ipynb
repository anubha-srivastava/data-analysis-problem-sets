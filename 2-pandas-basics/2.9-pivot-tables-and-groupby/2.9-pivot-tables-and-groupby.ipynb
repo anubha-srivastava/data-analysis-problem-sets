{
 "cells": [
  {
   "cell_type": "code",
   "execution_count": 1,
   "id": "926d6a00",
   "metadata": {},
   "outputs": [],
   "source": [
    "import pandas as pd\n",
    "import numpy as np"
   ]
  },
  {
   "cell_type": "markdown",
   "id": "332bb103-177f-4c1f-851d-d1b2c313f923",
   "metadata": {},
   "source": [
    "In this notebook, we'll cover two powerful opertions in pandas, `df.groupby()` and `df.pivot_table().` Both can be used to aggregate data for faster analysis. "
   ]
  },
  {
   "cell_type": "code",
   "execution_count": 2,
   "id": "0213fa51-4566-4e1c-b0a3-e4323690a572",
   "metadata": {},
   "outputs": [],
   "source": [
    "df = pd.read_csv('employee_data.csv')"
   ]
  },
  {
   "cell_type": "markdown",
   "id": "c24e998f-f029-4559-ba03-c5b4aa5124ef",
   "metadata": {},
   "source": [
    "But first, let's analyze our dataset. This is a randomly generated dataset that contains employee data from a fictional company. "
   ]
  },
  {
   "cell_type": "code",
   "execution_count": 3,
   "id": "8ee24a64",
   "metadata": {},
   "outputs": [
    {
     "data": {
      "text/html": [
       "<div>\n",
       "<style scoped>\n",
       "    .dataframe tbody tr th:only-of-type {\n",
       "        vertical-align: middle;\n",
       "    }\n",
       "\n",
       "    .dataframe tbody tr th {\n",
       "        vertical-align: top;\n",
       "    }\n",
       "\n",
       "    .dataframe thead th {\n",
       "        text-align: right;\n",
       "    }\n",
       "</style>\n",
       "<table border=\"1\" class=\"dataframe\">\n",
       "  <thead>\n",
       "    <tr style=\"text-align: right;\">\n",
       "      <th></th>\n",
       "      <th>Employee ID</th>\n",
       "      <th>Age</th>\n",
       "      <th>Salary</th>\n",
       "      <th>YOE</th>\n",
       "      <th>Department</th>\n",
       "      <th>Job Title</th>\n",
       "      <th>Performance Rating</th>\n",
       "      <th>Education Level</th>\n",
       "    </tr>\n",
       "  </thead>\n",
       "  <tbody>\n",
       "    <tr>\n",
       "      <th>0</th>\n",
       "      <td>1</td>\n",
       "      <td>57</td>\n",
       "      <td>90788</td>\n",
       "      <td>9</td>\n",
       "      <td>Finance</td>\n",
       "      <td>Manager</td>\n",
       "      <td>Outstanding</td>\n",
       "      <td>Bachelors</td>\n",
       "    </tr>\n",
       "    <tr>\n",
       "      <th>1</th>\n",
       "      <td>2</td>\n",
       "      <td>32</td>\n",
       "      <td>58734</td>\n",
       "      <td>7</td>\n",
       "      <td>Customer Service</td>\n",
       "      <td>Clerk</td>\n",
       "      <td>Outstanding</td>\n",
       "      <td>Masters</td>\n",
       "    </tr>\n",
       "    <tr>\n",
       "      <th>2</th>\n",
       "      <td>3</td>\n",
       "      <td>28</td>\n",
       "      <td>65207</td>\n",
       "      <td>1</td>\n",
       "      <td>Sales</td>\n",
       "      <td>Clerk</td>\n",
       "      <td>Outstanding</td>\n",
       "      <td>PhD</td>\n",
       "    </tr>\n",
       "    <tr>\n",
       "      <th>3</th>\n",
       "      <td>4</td>\n",
       "      <td>29</td>\n",
       "      <td>83856</td>\n",
       "      <td>1</td>\n",
       "      <td>HR</td>\n",
       "      <td>Director</td>\n",
       "      <td>Meets Expectations</td>\n",
       "      <td>Masters</td>\n",
       "    </tr>\n",
       "    <tr>\n",
       "      <th>4</th>\n",
       "      <td>5</td>\n",
       "      <td>31</td>\n",
       "      <td>67558</td>\n",
       "      <td>2</td>\n",
       "      <td>HR</td>\n",
       "      <td>Clerk</td>\n",
       "      <td>Meets Expectations</td>\n",
       "      <td>Masters</td>\n",
       "    </tr>\n",
       "  </tbody>\n",
       "</table>\n",
       "</div>"
      ],
      "text/plain": [
       "   Employee ID  Age  Salary  YOE        Department Job Title  \\\n",
       "0            1   57   90788    9           Finance   Manager   \n",
       "1            2   32   58734    7  Customer Service     Clerk   \n",
       "2            3   28   65207    1             Sales     Clerk   \n",
       "3            4   29   83856    1                HR  Director   \n",
       "4            5   31   67558    2                HR     Clerk   \n",
       "\n",
       "   Performance Rating Education Level  \n",
       "0         Outstanding       Bachelors  \n",
       "1         Outstanding         Masters  \n",
       "2         Outstanding             PhD  \n",
       "3  Meets Expectations         Masters  \n",
       "4  Meets Expectations         Masters  "
      ]
     },
     "execution_count": 3,
     "metadata": {},
     "output_type": "execute_result"
    }
   ],
   "source": [
    "df.head(5)"
   ]
  },
  {
   "cell_type": "markdown",
   "id": "70c445f2",
   "metadata": {},
   "source": [
    "Let's see how many people are employed in each department. We can call `.value_counts()` on the `Department` column of our dataframe to return the counts of all unique values. "
   ]
  },
  {
   "cell_type": "code",
   "execution_count": 4,
   "id": "0e0d3557",
   "metadata": {},
   "outputs": [
    {
     "data": {
      "text/plain": [
       "Department\n",
       "Sales               55\n",
       "IT                  47\n",
       "HR                  45\n",
       "Customer Service    43\n",
       "R&D                 41\n",
       "Finance             35\n",
       "Marketing           34\n",
       "Name: count, dtype: int64"
      ]
     },
     "execution_count": 4,
     "metadata": {},
     "output_type": "execute_result"
    }
   ],
   "source": [
    "df['Department'].value_counts()"
   ]
  },
  {
   "cell_type": "markdown",
   "id": "2c96b02f-e626-4bfe-aa4c-432e30a78037",
   "metadata": {},
   "source": [
    "### Groupby"
   ]
  },
  {
   "cell_type": "markdown",
   "id": "54d92656",
   "metadata": {},
   "source": [
    "Let's start grouping! [`groupby()`](https://pandas.pydata.org/pandas-docs/stable/reference/api/pandas.DataFrame.groupby.html) is typically applied to a column in your dataset that represents a category. It returns something called a `groupby object` which essentially contains your original dataframe but in a more structured format.\n"
   ]
  },
  {
   "cell_type": "code",
   "execution_count": 5,
   "id": "aac95a58",
   "metadata": {},
   "outputs": [
    {
     "data": {
      "text/plain": [
       "<pandas.core.groupby.generic.DataFrameGroupBy object at 0x7fc1180dd160>"
      ]
     },
     "execution_count": 5,
     "metadata": {},
     "output_type": "execute_result"
    }
   ],
   "source": [
    "#Let's group our dataset by Department \n",
    "df.groupby(['Department'])"
   ]
  },
  {
   "cell_type": "markdown",
   "id": "084f0a44-66f0-4552-872c-45d66992b0c6",
   "metadata": {},
   "source": [
    "As expected, we got back a `groupby object.` Note that the groupby object by itself isn't super useful- you can consider it an intermediate result. We have to perform an __operation__ on the groupby object to do analysis.\n",
    "\n",
    "You can apply different kinds of operations to a groupby object. Some common operations include aggregations like sum(), mean(), min(), and count(). Let's group by Department again, but this time, let's specify an aggregation function and a column to aggregate on."
   ]
  },
  {
   "cell_type": "code",
   "execution_count": 6,
   "id": "9a4dee43",
   "metadata": {},
   "outputs": [
    {
     "data": {
      "text/plain": [
       "Department\n",
       "Customer Service    4.883721\n",
       "Finance             4.714286\n",
       "HR                  4.888889\n",
       "IT                  5.617021\n",
       "Marketing           3.735294\n",
       "R&D                 4.317073\n",
       "Sales               4.781818\n",
       "Name: YOE, dtype: float64"
      ]
     },
     "execution_count": 6,
     "metadata": {},
     "output_type": "execute_result"
    }
   ],
   "source": [
    "df.groupby('Department')['YOE'].mean()"
   ]
  },
  {
   "cell_type": "markdown",
   "id": "bce50105-bb31-458a-94cd-75a64d9ecdb0",
   "metadata": {},
   "source": [
    "Great, now we know the average years of experience per Department! \n",
    "\n",
    "Let's calculate the variance in salaries within each department to see where pay is most unequal."
   ]
  },
  {
   "cell_type": "code",
   "execution_count": 7,
   "id": "72ea4574-9e1f-48c1-9d2e-75d4d5c93b89",
   "metadata": {},
   "outputs": [
    {
     "data": {
      "text/plain": [
       "Department\n",
       "Customer Service    13824.868945\n",
       "Finance             13975.216976\n",
       "HR                  14022.377081\n",
       "IT                  14205.069555\n",
       "Marketing           13574.278471\n",
       "R&D                 13574.676433\n",
       "Sales               12928.213720\n",
       "Name: Salary, dtype: float64"
      ]
     },
     "execution_count": 7,
     "metadata": {},
     "output_type": "execute_result"
    }
   ],
   "source": [
    "df.groupby('Department')['Salary'].std()\n"
   ]
  },
  {
   "cell_type": "markdown",
   "id": "420c163b-1394-48c2-90af-56aff43ed928",
   "metadata": {},
   "source": [
    "What's the max pay in relation to performance ratings?"
   ]
  },
  {
   "cell_type": "code",
   "execution_count": 8,
   "id": "72b958c4-49a1-46e8-816f-9d6bcfbdccd0",
   "metadata": {},
   "outputs": [
    {
     "data": {
      "text/plain": [
       "Performance Rating\n",
       "Exceeds Expectations    98638\n",
       "Meets Expectations      97887\n",
       "Needs Improvement       97860\n",
       "Outstanding             99966\n",
       "Name: Salary, dtype: int64"
      ]
     },
     "execution_count": 8,
     "metadata": {},
     "output_type": "execute_result"
    }
   ],
   "source": [
    "df.groupby('Performance Rating')['Salary'].max()\n"
   ]
  },
  {
   "cell_type": "markdown",
   "id": "dec8a9b0-250d-41df-ae9e-d4ba562e8e97",
   "metadata": {},
   "source": [
    "We can also do multi-index groupbys (in other words, we can input multiple columns into the groupby operation). Let's see how Job Titles within each Department impact the average pay."
   ]
  },
  {
   "cell_type": "code",
   "execution_count": 9,
   "id": "479c801a-986c-4933-a3b1-960fbe07dae3",
   "metadata": {},
   "outputs": [
    {
     "data": {
      "text/plain": [
       "Department        Job Title  \n",
       "Customer Service  Analyst        71302.500000\n",
       "                  Associate      73627.142857\n",
       "                  Clerk          77646.666667\n",
       "                  Coordinator    70662.400000\n",
       "                  Director       77518.000000\n",
       "                  Intern         67571.833333\n",
       "                  Manager        68184.800000\n",
       "Finance           Analyst        65523.000000\n",
       "                  Associate      72727.500000\n",
       "                  Clerk          79419.333333\n",
       "                  Coordinator    80596.100000\n",
       "                  Director       57136.500000\n",
       "                  Intern         73883.333333\n",
       "                  Manager        80732.250000\n",
       "HR                Analyst        74539.714286\n",
       "                  Associate      82332.666667\n",
       "                  Clerk          68220.200000\n",
       "                  Coordinator    70651.750000\n",
       "                  Director       68323.500000\n",
       "                  Intern         73127.000000\n",
       "                  Manager        79613.500000\n",
       "IT                Analyst        70279.571429\n",
       "                  Associate      80819.000000\n",
       "                  Clerk          60791.250000\n",
       "                  Coordinator    67352.000000\n",
       "                  Director       85688.200000\n",
       "                  Intern         77293.571429\n",
       "                  Manager        76154.111111\n",
       "Marketing         Analyst        75464.750000\n",
       "                  Associate      72058.000000\n",
       "                  Clerk          80517.200000\n",
       "                  Coordinator    71169.166667\n",
       "                  Director       79129.500000\n",
       "                  Intern         79637.875000\n",
       "                  Manager        72976.000000\n",
       "R&D               Analyst        62759.000000\n",
       "                  Associate      94246.400000\n",
       "                  Clerk          79555.200000\n",
       "                  Coordinator    79685.300000\n",
       "                  Director       76879.000000\n",
       "                  Intern         80842.400000\n",
       "                  Manager        78633.500000\n",
       "Sales             Analyst        65267.400000\n",
       "                  Associate      69187.833333\n",
       "                  Clerk          69373.500000\n",
       "                  Coordinator    83749.750000\n",
       "                  Director       70984.400000\n",
       "                  Intern         72789.545455\n",
       "                  Manager        69417.000000\n",
       "Name: Salary, dtype: float64"
      ]
     },
     "execution_count": 9,
     "metadata": {},
     "output_type": "execute_result"
    }
   ],
   "source": [
    "dep_and_title_groupby = df.groupby(['Department', 'Job Title'])['Salary'].mean()\n",
    "dep_and_title_groupby"
   ]
  },
  {
   "cell_type": "markdown",
   "id": "4c238177-91bb-4f53-ac44-be7614a47398",
   "metadata": {},
   "source": [
    "### [Pivot Tables](https://pandas.pydata.org/docs/reference/api/pandas.pivot_table.html)"
   ]
  },
  {
   "cell_type": "markdown",
   "id": "28c20b2c-0ac8-4760-8e44-f00511c66b8b",
   "metadata": {},
   "source": [
    "Now that we understand how groupby works, let's talk about `pivot_tables`. Pivot tables in pandas work similarly to pivot tables in Excel. They're used to reshape (pivot) your data, and they make it easy to apply aggregation functions on top of the reshaped output. \n",
    "\n",
    "With pivot tables, we can specify: \n",
    "\n",
    "`index` --> The key we want to group by on the pivot table index\n",
    "\n",
    "`columns` --> The key we want to group by on the pivot table column\n",
    "\n",
    "`value` --> The column we want to do aggregation on \n",
    "\n",
    "`aggfunc` --> Our aggregation function\n",
    "\n",
    "Let's see how employees from different departments did on their Performance Ratings. "
   ]
  },
  {
   "cell_type": "code",
   "execution_count": 10,
   "id": "e293702b-9612-4be4-95e5-39c413a31a0b",
   "metadata": {},
   "outputs": [
    {
     "data": {
      "text/html": [
       "<div>\n",
       "<style scoped>\n",
       "    .dataframe tbody tr th:only-of-type {\n",
       "        vertical-align: middle;\n",
       "    }\n",
       "\n",
       "    .dataframe tbody tr th {\n",
       "        vertical-align: top;\n",
       "    }\n",
       "\n",
       "    .dataframe thead th {\n",
       "        text-align: right;\n",
       "    }\n",
       "</style>\n",
       "<table border=\"1\" class=\"dataframe\">\n",
       "  <thead>\n",
       "    <tr style=\"text-align: right;\">\n",
       "      <th>Performance Rating</th>\n",
       "      <th>Exceeds Expectations</th>\n",
       "      <th>Meets Expectations</th>\n",
       "      <th>Needs Improvement</th>\n",
       "      <th>Outstanding</th>\n",
       "    </tr>\n",
       "    <tr>\n",
       "      <th>Department</th>\n",
       "      <th></th>\n",
       "      <th></th>\n",
       "      <th></th>\n",
       "      <th></th>\n",
       "    </tr>\n",
       "  </thead>\n",
       "  <tbody>\n",
       "    <tr>\n",
       "      <th>Customer Service</th>\n",
       "      <td>13</td>\n",
       "      <td>10</td>\n",
       "      <td>8</td>\n",
       "      <td>12</td>\n",
       "    </tr>\n",
       "    <tr>\n",
       "      <th>Finance</th>\n",
       "      <td>6</td>\n",
       "      <td>11</td>\n",
       "      <td>10</td>\n",
       "      <td>8</td>\n",
       "    </tr>\n",
       "    <tr>\n",
       "      <th>HR</th>\n",
       "      <td>15</td>\n",
       "      <td>10</td>\n",
       "      <td>12</td>\n",
       "      <td>8</td>\n",
       "    </tr>\n",
       "    <tr>\n",
       "      <th>IT</th>\n",
       "      <td>7</td>\n",
       "      <td>12</td>\n",
       "      <td>16</td>\n",
       "      <td>12</td>\n",
       "    </tr>\n",
       "    <tr>\n",
       "      <th>Marketing</th>\n",
       "      <td>11</td>\n",
       "      <td>10</td>\n",
       "      <td>5</td>\n",
       "      <td>8</td>\n",
       "    </tr>\n",
       "    <tr>\n",
       "      <th>R&amp;D</th>\n",
       "      <td>10</td>\n",
       "      <td>10</td>\n",
       "      <td>7</td>\n",
       "      <td>14</td>\n",
       "    </tr>\n",
       "    <tr>\n",
       "      <th>Sales</th>\n",
       "      <td>16</td>\n",
       "      <td>12</td>\n",
       "      <td>14</td>\n",
       "      <td>13</td>\n",
       "    </tr>\n",
       "  </tbody>\n",
       "</table>\n",
       "</div>"
      ],
      "text/plain": [
       "Performance Rating  Exceeds Expectations  Meets Expectations  \\\n",
       "Department                                                     \n",
       "Customer Service                      13                  10   \n",
       "Finance                                6                  11   \n",
       "HR                                    15                  10   \n",
       "IT                                     7                  12   \n",
       "Marketing                             11                  10   \n",
       "R&D                                   10                  10   \n",
       "Sales                                 16                  12   \n",
       "\n",
       "Performance Rating  Needs Improvement  Outstanding  \n",
       "Department                                          \n",
       "Customer Service                    8           12  \n",
       "Finance                            10            8  \n",
       "HR                                 12            8  \n",
       "IT                                 16           12  \n",
       "Marketing                           5            8  \n",
       "R&D                                 7           14  \n",
       "Sales                              14           13  "
      ]
     },
     "execution_count": 10,
     "metadata": {},
     "output_type": "execute_result"
    }
   ],
   "source": [
    "pivot_performance = pd.pivot_table(df, values='Employee ID', index='Department', columns='Performance Rating', aggfunc='count')\n",
    "pivot_performance"
   ]
  },
  {
   "cell_type": "markdown",
   "id": "29ba244e-cd61-4150-8247-0b7a2b3bbd59",
   "metadata": {},
   "source": [
    "Let's create another pivot table to explore the education level across different departments. This time, we'll add the `margins = True` parameter to get a cross total (per department) and vertical total (across education levels). \n",
    "\n",
    "You'll see an \"All\" column and an \"All\" row that calculates those values."
   ]
  },
  {
   "cell_type": "code",
   "execution_count": 11,
   "id": "d8f2e80e-089d-4b6e-a811-f9422de9501e",
   "metadata": {},
   "outputs": [
    {
     "data": {
      "text/html": [
       "<div>\n",
       "<style scoped>\n",
       "    .dataframe tbody tr th:only-of-type {\n",
       "        vertical-align: middle;\n",
       "    }\n",
       "\n",
       "    .dataframe tbody tr th {\n",
       "        vertical-align: top;\n",
       "    }\n",
       "\n",
       "    .dataframe thead th {\n",
       "        text-align: right;\n",
       "    }\n",
       "</style>\n",
       "<table border=\"1\" class=\"dataframe\">\n",
       "  <thead>\n",
       "    <tr style=\"text-align: right;\">\n",
       "      <th>Education Level</th>\n",
       "      <th>Bachelors</th>\n",
       "      <th>Masters</th>\n",
       "      <th>PhD</th>\n",
       "      <th>All</th>\n",
       "    </tr>\n",
       "    <tr>\n",
       "      <th>Department</th>\n",
       "      <th></th>\n",
       "      <th></th>\n",
       "      <th></th>\n",
       "      <th></th>\n",
       "    </tr>\n",
       "  </thead>\n",
       "  <tbody>\n",
       "    <tr>\n",
       "      <th>Customer Service</th>\n",
       "      <td>16</td>\n",
       "      <td>12</td>\n",
       "      <td>15</td>\n",
       "      <td>43</td>\n",
       "    </tr>\n",
       "    <tr>\n",
       "      <th>Finance</th>\n",
       "      <td>14</td>\n",
       "      <td>10</td>\n",
       "      <td>11</td>\n",
       "      <td>35</td>\n",
       "    </tr>\n",
       "    <tr>\n",
       "      <th>HR</th>\n",
       "      <td>13</td>\n",
       "      <td>18</td>\n",
       "      <td>14</td>\n",
       "      <td>45</td>\n",
       "    </tr>\n",
       "    <tr>\n",
       "      <th>IT</th>\n",
       "      <td>17</td>\n",
       "      <td>9</td>\n",
       "      <td>21</td>\n",
       "      <td>47</td>\n",
       "    </tr>\n",
       "    <tr>\n",
       "      <th>Marketing</th>\n",
       "      <td>12</td>\n",
       "      <td>14</td>\n",
       "      <td>8</td>\n",
       "      <td>34</td>\n",
       "    </tr>\n",
       "    <tr>\n",
       "      <th>R&amp;D</th>\n",
       "      <td>8</td>\n",
       "      <td>15</td>\n",
       "      <td>18</td>\n",
       "      <td>41</td>\n",
       "    </tr>\n",
       "    <tr>\n",
       "      <th>Sales</th>\n",
       "      <td>17</td>\n",
       "      <td>17</td>\n",
       "      <td>21</td>\n",
       "      <td>55</td>\n",
       "    </tr>\n",
       "    <tr>\n",
       "      <th>All</th>\n",
       "      <td>97</td>\n",
       "      <td>95</td>\n",
       "      <td>108</td>\n",
       "      <td>300</td>\n",
       "    </tr>\n",
       "  </tbody>\n",
       "</table>\n",
       "</div>"
      ],
      "text/plain": [
       "Education Level   Bachelors  Masters  PhD  All\n",
       "Department                                    \n",
       "Customer Service         16       12   15   43\n",
       "Finance                  14       10   11   35\n",
       "HR                       13       18   14   45\n",
       "IT                       17        9   21   47\n",
       "Marketing                12       14    8   34\n",
       "R&D                       8       15   18   41\n",
       "Sales                    17       17   21   55\n",
       "All                      97       95  108  300"
      ]
     },
     "execution_count": 11,
     "metadata": {},
     "output_type": "execute_result"
    }
   ],
   "source": [
    "pivot_education_dept = pd.pivot_table(df, values='Employee ID', index='Department', columns='Education Level', aggfunc='count', margins=True)\n",
    "pivot_education_dept"
   ]
  },
  {
   "cell_type": "markdown",
   "id": "e99eddc1-4da1-4816-85a6-71c13361a9c8",
   "metadata": {},
   "source": [
    "In the last section, we used `groupby` to see how Job Titles within each Department impact the average pay. Let's do this again but using `pivot_tables.`"
   ]
  },
  {
   "cell_type": "code",
   "execution_count": 12,
   "id": "f32e37f7",
   "metadata": {},
   "outputs": [
    {
     "data": {
      "text/html": [
       "<div>\n",
       "<style scoped>\n",
       "    .dataframe tbody tr th:only-of-type {\n",
       "        vertical-align: middle;\n",
       "    }\n",
       "\n",
       "    .dataframe tbody tr th {\n",
       "        vertical-align: top;\n",
       "    }\n",
       "\n",
       "    .dataframe thead th {\n",
       "        text-align: right;\n",
       "    }\n",
       "</style>\n",
       "<table border=\"1\" class=\"dataframe\">\n",
       "  <thead>\n",
       "    <tr style=\"text-align: right;\">\n",
       "      <th>Job Title</th>\n",
       "      <th>Analyst</th>\n",
       "      <th>Associate</th>\n",
       "      <th>Clerk</th>\n",
       "      <th>Coordinator</th>\n",
       "      <th>Director</th>\n",
       "      <th>Intern</th>\n",
       "      <th>Manager</th>\n",
       "    </tr>\n",
       "    <tr>\n",
       "      <th>Department</th>\n",
       "      <th></th>\n",
       "      <th></th>\n",
       "      <th></th>\n",
       "      <th></th>\n",
       "      <th></th>\n",
       "      <th></th>\n",
       "      <th></th>\n",
       "    </tr>\n",
       "  </thead>\n",
       "  <tbody>\n",
       "    <tr>\n",
       "      <th>Customer Service</th>\n",
       "      <td>71302.500000</td>\n",
       "      <td>73627.142857</td>\n",
       "      <td>77646.666667</td>\n",
       "      <td>70662.400000</td>\n",
       "      <td>77518.0</td>\n",
       "      <td>67571.833333</td>\n",
       "      <td>68184.800000</td>\n",
       "    </tr>\n",
       "    <tr>\n",
       "      <th>Finance</th>\n",
       "      <td>65523.000000</td>\n",
       "      <td>72727.500000</td>\n",
       "      <td>79419.333333</td>\n",
       "      <td>80596.100000</td>\n",
       "      <td>57136.5</td>\n",
       "      <td>73883.333333</td>\n",
       "      <td>80732.250000</td>\n",
       "    </tr>\n",
       "    <tr>\n",
       "      <th>HR</th>\n",
       "      <td>74539.714286</td>\n",
       "      <td>82332.666667</td>\n",
       "      <td>68220.200000</td>\n",
       "      <td>70651.750000</td>\n",
       "      <td>68323.5</td>\n",
       "      <td>73127.000000</td>\n",
       "      <td>79613.500000</td>\n",
       "    </tr>\n",
       "    <tr>\n",
       "      <th>IT</th>\n",
       "      <td>70279.571429</td>\n",
       "      <td>80819.000000</td>\n",
       "      <td>60791.250000</td>\n",
       "      <td>67352.000000</td>\n",
       "      <td>85688.2</td>\n",
       "      <td>77293.571429</td>\n",
       "      <td>76154.111111</td>\n",
       "    </tr>\n",
       "    <tr>\n",
       "      <th>Marketing</th>\n",
       "      <td>75464.750000</td>\n",
       "      <td>72058.000000</td>\n",
       "      <td>80517.200000</td>\n",
       "      <td>71169.166667</td>\n",
       "      <td>79129.5</td>\n",
       "      <td>79637.875000</td>\n",
       "      <td>72976.000000</td>\n",
       "    </tr>\n",
       "    <tr>\n",
       "      <th>R&amp;D</th>\n",
       "      <td>62759.000000</td>\n",
       "      <td>94246.400000</td>\n",
       "      <td>79555.200000</td>\n",
       "      <td>79685.300000</td>\n",
       "      <td>76879.0</td>\n",
       "      <td>80842.400000</td>\n",
       "      <td>78633.500000</td>\n",
       "    </tr>\n",
       "    <tr>\n",
       "      <th>Sales</th>\n",
       "      <td>65267.400000</td>\n",
       "      <td>69187.833333</td>\n",
       "      <td>69373.500000</td>\n",
       "      <td>83749.750000</td>\n",
       "      <td>70984.4</td>\n",
       "      <td>72789.545455</td>\n",
       "      <td>69417.000000</td>\n",
       "    </tr>\n",
       "  </tbody>\n",
       "</table>\n",
       "</div>"
      ],
      "text/plain": [
       "Job Title              Analyst     Associate         Clerk   Coordinator  \\\n",
       "Department                                                                 \n",
       "Customer Service  71302.500000  73627.142857  77646.666667  70662.400000   \n",
       "Finance           65523.000000  72727.500000  79419.333333  80596.100000   \n",
       "HR                74539.714286  82332.666667  68220.200000  70651.750000   \n",
       "IT                70279.571429  80819.000000  60791.250000  67352.000000   \n",
       "Marketing         75464.750000  72058.000000  80517.200000  71169.166667   \n",
       "R&D               62759.000000  94246.400000  79555.200000  79685.300000   \n",
       "Sales             65267.400000  69187.833333  69373.500000  83749.750000   \n",
       "\n",
       "Job Title         Director        Intern       Manager  \n",
       "Department                                              \n",
       "Customer Service   77518.0  67571.833333  68184.800000  \n",
       "Finance            57136.5  73883.333333  80732.250000  \n",
       "HR                 68323.5  73127.000000  79613.500000  \n",
       "IT                 85688.2  77293.571429  76154.111111  \n",
       "Marketing          79129.5  79637.875000  72976.000000  \n",
       "R&D                76879.0  80842.400000  78633.500000  \n",
       "Sales              70984.4  72789.545455  69417.000000  "
      ]
     },
     "execution_count": 12,
     "metadata": {},
     "output_type": "execute_result"
    }
   ],
   "source": [
    "dep_and_title_pivot = pd.pivot_table(df, values='Salary', index='Department', columns='Job Title', aggfunc='mean')\n",
    "dep_and_title_pivot"
   ]
  },
  {
   "cell_type": "code",
   "execution_count": 13,
   "id": "cdf8e781-38b6-4590-8fe9-4d73a537edf7",
   "metadata": {},
   "outputs": [
    {
     "data": {
      "text/plain": [
       "Department        Job Title  \n",
       "Customer Service  Analyst        71302.500000\n",
       "                  Associate      73627.142857\n",
       "                  Clerk          77646.666667\n",
       "                  Coordinator    70662.400000\n",
       "                  Director       77518.000000\n",
       "                  Intern         67571.833333\n",
       "                  Manager        68184.800000\n",
       "Finance           Analyst        65523.000000\n",
       "                  Associate      72727.500000\n",
       "                  Clerk          79419.333333\n",
       "                  Coordinator    80596.100000\n",
       "                  Director       57136.500000\n",
       "                  Intern         73883.333333\n",
       "                  Manager        80732.250000\n",
       "HR                Analyst        74539.714286\n",
       "                  Associate      82332.666667\n",
       "                  Clerk          68220.200000\n",
       "                  Coordinator    70651.750000\n",
       "                  Director       68323.500000\n",
       "                  Intern         73127.000000\n",
       "                  Manager        79613.500000\n",
       "IT                Analyst        70279.571429\n",
       "                  Associate      80819.000000\n",
       "                  Clerk          60791.250000\n",
       "                  Coordinator    67352.000000\n",
       "                  Director       85688.200000\n",
       "                  Intern         77293.571429\n",
       "                  Manager        76154.111111\n",
       "Marketing         Analyst        75464.750000\n",
       "                  Associate      72058.000000\n",
       "                  Clerk          80517.200000\n",
       "                  Coordinator    71169.166667\n",
       "                  Director       79129.500000\n",
       "                  Intern         79637.875000\n",
       "                  Manager        72976.000000\n",
       "R&D               Analyst        62759.000000\n",
       "                  Associate      94246.400000\n",
       "                  Clerk          79555.200000\n",
       "                  Coordinator    79685.300000\n",
       "                  Director       76879.000000\n",
       "                  Intern         80842.400000\n",
       "                  Manager        78633.500000\n",
       "Sales             Analyst        65267.400000\n",
       "                  Associate      69187.833333\n",
       "                  Clerk          69373.500000\n",
       "                  Coordinator    83749.750000\n",
       "                  Director       70984.400000\n",
       "                  Intern         72789.545455\n",
       "                  Manager        69417.000000\n",
       "Name: Salary, dtype: float64"
      ]
     },
     "execution_count": 13,
     "metadata": {},
     "output_type": "execute_result"
    }
   ],
   "source": [
    "#compare to groupby results from earlier!\n",
    "dep_and_title_groupby"
   ]
  },
  {
   "cell_type": "markdown",
   "id": "956a48d6-e2a7-4d43-a4ff-8e91c00b4069",
   "metadata": {},
   "source": [
    "### Groupby vs. Pivot Tables"
   ]
  },
  {
   "cell_type": "markdown",
   "id": "b31b83a9-df28-4fd4-9262-5e3ca21058a9",
   "metadata": {},
   "source": [
    "Okay, but which one should I use?  \n",
    "\n",
    "* If you're looking for something quick and efficient, `groupby()` is slightly faster for larger datasets\n",
    "\n",
    "* `groupby()` allows for custom aggregation functions, while `pivot_table()` only supports common aggregation functions\n",
    "\n",
    "* If you're looking to share your results with a larger group, `pivot_table()` has better formatting and a tabular output\n",
    "  \n",
    "* `pivot_table()` has built-in flexibility with paramaters like `margins=True` and `fill_value =0`. If you were using groupby, you would need to manage those things yourself"
   ]
  },
  {
   "cell_type": "markdown",
   "id": "aade3307-4f83-49d1-8315-afe68cbab792",
   "metadata": {},
   "source": [
    "For most use cases, it doesn't matter which one you pick. If you don't use the `columns` paramater in `pivot_table()`, then `groupby()` and `pivot_table()` produce the same data. Infact, pivot tables are essentially defined using groupby!\n"
   ]
  },
  {
   "cell_type": "markdown",
   "id": "45e237db-0d4e-4d95-910f-56428a512c40",
   "metadata": {},
   "source": [
    "`pivot_table --> groupby + unstack`\n",
    "\n",
    "and \n",
    "\n",
    "`groupby --> pivot_table + stack`\n",
    "\n",
    "Let's prove this. We have our department and title `groupby` results from earlier. Let's recreate `dep_and_title_pivot` by unstacking `dep_and_title_groupby.`\n"
   ]
  },
  {
   "cell_type": "code",
   "execution_count": 14,
   "id": "7d596ce4-b29e-4b86-9ee4-197cb0f5b7ef",
   "metadata": {},
   "outputs": [
    {
     "data": {
      "text/plain": [
       "Department        Job Title  \n",
       "Customer Service  Analyst        71302.500000\n",
       "                  Associate      73627.142857\n",
       "                  Clerk          77646.666667\n",
       "                  Coordinator    70662.400000\n",
       "                  Director       77518.000000\n",
       "                  Intern         67571.833333\n",
       "                  Manager        68184.800000\n",
       "Finance           Analyst        65523.000000\n",
       "                  Associate      72727.500000\n",
       "                  Clerk          79419.333333\n",
       "                  Coordinator    80596.100000\n",
       "                  Director       57136.500000\n",
       "                  Intern         73883.333333\n",
       "                  Manager        80732.250000\n",
       "HR                Analyst        74539.714286\n",
       "                  Associate      82332.666667\n",
       "                  Clerk          68220.200000\n",
       "                  Coordinator    70651.750000\n",
       "                  Director       68323.500000\n",
       "                  Intern         73127.000000\n",
       "                  Manager        79613.500000\n",
       "IT                Analyst        70279.571429\n",
       "                  Associate      80819.000000\n",
       "                  Clerk          60791.250000\n",
       "                  Coordinator    67352.000000\n",
       "                  Director       85688.200000\n",
       "                  Intern         77293.571429\n",
       "                  Manager        76154.111111\n",
       "Marketing         Analyst        75464.750000\n",
       "                  Associate      72058.000000\n",
       "                  Clerk          80517.200000\n",
       "                  Coordinator    71169.166667\n",
       "                  Director       79129.500000\n",
       "                  Intern         79637.875000\n",
       "                  Manager        72976.000000\n",
       "R&D               Analyst        62759.000000\n",
       "                  Associate      94246.400000\n",
       "                  Clerk          79555.200000\n",
       "                  Coordinator    79685.300000\n",
       "                  Director       76879.000000\n",
       "                  Intern         80842.400000\n",
       "                  Manager        78633.500000\n",
       "Sales             Analyst        65267.400000\n",
       "                  Associate      69187.833333\n",
       "                  Clerk          69373.500000\n",
       "                  Coordinator    83749.750000\n",
       "                  Director       70984.400000\n",
       "                  Intern         72789.545455\n",
       "                  Manager        69417.000000\n",
       "Name: Salary, dtype: float64"
      ]
     },
     "execution_count": 14,
     "metadata": {},
     "output_type": "execute_result"
    }
   ],
   "source": [
    "#a reminder of what dep_and_title_groupby looks like\n",
    "dep_and_title_groupby"
   ]
  },
  {
   "cell_type": "code",
   "execution_count": 15,
   "id": "f12af3cf-5a04-4ec8-b259-ee837793adda",
   "metadata": {},
   "outputs": [
    {
     "data": {
      "text/html": [
       "<div>\n",
       "<style scoped>\n",
       "    .dataframe tbody tr th:only-of-type {\n",
       "        vertical-align: middle;\n",
       "    }\n",
       "\n",
       "    .dataframe tbody tr th {\n",
       "        vertical-align: top;\n",
       "    }\n",
       "\n",
       "    .dataframe thead th {\n",
       "        text-align: right;\n",
       "    }\n",
       "</style>\n",
       "<table border=\"1\" class=\"dataframe\">\n",
       "  <thead>\n",
       "    <tr style=\"text-align: right;\">\n",
       "      <th>Job Title</th>\n",
       "      <th>Analyst</th>\n",
       "      <th>Associate</th>\n",
       "      <th>Clerk</th>\n",
       "      <th>Coordinator</th>\n",
       "      <th>Director</th>\n",
       "      <th>Intern</th>\n",
       "      <th>Manager</th>\n",
       "    </tr>\n",
       "    <tr>\n",
       "      <th>Department</th>\n",
       "      <th></th>\n",
       "      <th></th>\n",
       "      <th></th>\n",
       "      <th></th>\n",
       "      <th></th>\n",
       "      <th></th>\n",
       "      <th></th>\n",
       "    </tr>\n",
       "  </thead>\n",
       "  <tbody>\n",
       "    <tr>\n",
       "      <th>Customer Service</th>\n",
       "      <td>71302.500000</td>\n",
       "      <td>73627.142857</td>\n",
       "      <td>77646.666667</td>\n",
       "      <td>70662.400000</td>\n",
       "      <td>77518.0</td>\n",
       "      <td>67571.833333</td>\n",
       "      <td>68184.800000</td>\n",
       "    </tr>\n",
       "    <tr>\n",
       "      <th>Finance</th>\n",
       "      <td>65523.000000</td>\n",
       "      <td>72727.500000</td>\n",
       "      <td>79419.333333</td>\n",
       "      <td>80596.100000</td>\n",
       "      <td>57136.5</td>\n",
       "      <td>73883.333333</td>\n",
       "      <td>80732.250000</td>\n",
       "    </tr>\n",
       "    <tr>\n",
       "      <th>HR</th>\n",
       "      <td>74539.714286</td>\n",
       "      <td>82332.666667</td>\n",
       "      <td>68220.200000</td>\n",
       "      <td>70651.750000</td>\n",
       "      <td>68323.5</td>\n",
       "      <td>73127.000000</td>\n",
       "      <td>79613.500000</td>\n",
       "    </tr>\n",
       "    <tr>\n",
       "      <th>IT</th>\n",
       "      <td>70279.571429</td>\n",
       "      <td>80819.000000</td>\n",
       "      <td>60791.250000</td>\n",
       "      <td>67352.000000</td>\n",
       "      <td>85688.2</td>\n",
       "      <td>77293.571429</td>\n",
       "      <td>76154.111111</td>\n",
       "    </tr>\n",
       "    <tr>\n",
       "      <th>Marketing</th>\n",
       "      <td>75464.750000</td>\n",
       "      <td>72058.000000</td>\n",
       "      <td>80517.200000</td>\n",
       "      <td>71169.166667</td>\n",
       "      <td>79129.5</td>\n",
       "      <td>79637.875000</td>\n",
       "      <td>72976.000000</td>\n",
       "    </tr>\n",
       "    <tr>\n",
       "      <th>R&amp;D</th>\n",
       "      <td>62759.000000</td>\n",
       "      <td>94246.400000</td>\n",
       "      <td>79555.200000</td>\n",
       "      <td>79685.300000</td>\n",
       "      <td>76879.0</td>\n",
       "      <td>80842.400000</td>\n",
       "      <td>78633.500000</td>\n",
       "    </tr>\n",
       "    <tr>\n",
       "      <th>Sales</th>\n",
       "      <td>65267.400000</td>\n",
       "      <td>69187.833333</td>\n",
       "      <td>69373.500000</td>\n",
       "      <td>83749.750000</td>\n",
       "      <td>70984.4</td>\n",
       "      <td>72789.545455</td>\n",
       "      <td>69417.000000</td>\n",
       "    </tr>\n",
       "  </tbody>\n",
       "</table>\n",
       "</div>"
      ],
      "text/plain": [
       "Job Title              Analyst     Associate         Clerk   Coordinator  \\\n",
       "Department                                                                 \n",
       "Customer Service  71302.500000  73627.142857  77646.666667  70662.400000   \n",
       "Finance           65523.000000  72727.500000  79419.333333  80596.100000   \n",
       "HR                74539.714286  82332.666667  68220.200000  70651.750000   \n",
       "IT                70279.571429  80819.000000  60791.250000  67352.000000   \n",
       "Marketing         75464.750000  72058.000000  80517.200000  71169.166667   \n",
       "R&D               62759.000000  94246.400000  79555.200000  79685.300000   \n",
       "Sales             65267.400000  69187.833333  69373.500000  83749.750000   \n",
       "\n",
       "Job Title         Director        Intern       Manager  \n",
       "Department                                              \n",
       "Customer Service   77518.0  67571.833333  68184.800000  \n",
       "Finance            57136.5  73883.333333  80732.250000  \n",
       "HR                 68323.5  73127.000000  79613.500000  \n",
       "IT                 85688.2  77293.571429  76154.111111  \n",
       "Marketing          79129.5  79637.875000  72976.000000  \n",
       "R&D                76879.0  80842.400000  78633.500000  \n",
       "Sales              70984.4  72789.545455  69417.000000  "
      ]
     },
     "execution_count": 15,
     "metadata": {},
     "output_type": "execute_result"
    }
   ],
   "source": [
    "#a reminder of what dep_and_title_pivot looks like \n",
    "dep_and_title_pivot"
   ]
  },
  {
   "cell_type": "code",
   "execution_count": 16,
   "id": "480c628c-43f7-421e-951f-9d6f02115f6d",
   "metadata": {},
   "outputs": [
    {
     "data": {
      "text/html": [
       "<div>\n",
       "<style scoped>\n",
       "    .dataframe tbody tr th:only-of-type {\n",
       "        vertical-align: middle;\n",
       "    }\n",
       "\n",
       "    .dataframe tbody tr th {\n",
       "        vertical-align: top;\n",
       "    }\n",
       "\n",
       "    .dataframe thead th {\n",
       "        text-align: right;\n",
       "    }\n",
       "</style>\n",
       "<table border=\"1\" class=\"dataframe\">\n",
       "  <thead>\n",
       "    <tr style=\"text-align: right;\">\n",
       "      <th>Job Title</th>\n",
       "      <th>Analyst</th>\n",
       "      <th>Associate</th>\n",
       "      <th>Clerk</th>\n",
       "      <th>Coordinator</th>\n",
       "      <th>Director</th>\n",
       "      <th>Intern</th>\n",
       "      <th>Manager</th>\n",
       "    </tr>\n",
       "    <tr>\n",
       "      <th>Department</th>\n",
       "      <th></th>\n",
       "      <th></th>\n",
       "      <th></th>\n",
       "      <th></th>\n",
       "      <th></th>\n",
       "      <th></th>\n",
       "      <th></th>\n",
       "    </tr>\n",
       "  </thead>\n",
       "  <tbody>\n",
       "    <tr>\n",
       "      <th>Customer Service</th>\n",
       "      <td>71302.500000</td>\n",
       "      <td>73627.142857</td>\n",
       "      <td>77646.666667</td>\n",
       "      <td>70662.400000</td>\n",
       "      <td>77518.0</td>\n",
       "      <td>67571.833333</td>\n",
       "      <td>68184.800000</td>\n",
       "    </tr>\n",
       "    <tr>\n",
       "      <th>Finance</th>\n",
       "      <td>65523.000000</td>\n",
       "      <td>72727.500000</td>\n",
       "      <td>79419.333333</td>\n",
       "      <td>80596.100000</td>\n",
       "      <td>57136.5</td>\n",
       "      <td>73883.333333</td>\n",
       "      <td>80732.250000</td>\n",
       "    </tr>\n",
       "    <tr>\n",
       "      <th>HR</th>\n",
       "      <td>74539.714286</td>\n",
       "      <td>82332.666667</td>\n",
       "      <td>68220.200000</td>\n",
       "      <td>70651.750000</td>\n",
       "      <td>68323.5</td>\n",
       "      <td>73127.000000</td>\n",
       "      <td>79613.500000</td>\n",
       "    </tr>\n",
       "    <tr>\n",
       "      <th>IT</th>\n",
       "      <td>70279.571429</td>\n",
       "      <td>80819.000000</td>\n",
       "      <td>60791.250000</td>\n",
       "      <td>67352.000000</td>\n",
       "      <td>85688.2</td>\n",
       "      <td>77293.571429</td>\n",
       "      <td>76154.111111</td>\n",
       "    </tr>\n",
       "    <tr>\n",
       "      <th>Marketing</th>\n",
       "      <td>75464.750000</td>\n",
       "      <td>72058.000000</td>\n",
       "      <td>80517.200000</td>\n",
       "      <td>71169.166667</td>\n",
       "      <td>79129.5</td>\n",
       "      <td>79637.875000</td>\n",
       "      <td>72976.000000</td>\n",
       "    </tr>\n",
       "    <tr>\n",
       "      <th>R&amp;D</th>\n",
       "      <td>62759.000000</td>\n",
       "      <td>94246.400000</td>\n",
       "      <td>79555.200000</td>\n",
       "      <td>79685.300000</td>\n",
       "      <td>76879.0</td>\n",
       "      <td>80842.400000</td>\n",
       "      <td>78633.500000</td>\n",
       "    </tr>\n",
       "    <tr>\n",
       "      <th>Sales</th>\n",
       "      <td>65267.400000</td>\n",
       "      <td>69187.833333</td>\n",
       "      <td>69373.500000</td>\n",
       "      <td>83749.750000</td>\n",
       "      <td>70984.4</td>\n",
       "      <td>72789.545455</td>\n",
       "      <td>69417.000000</td>\n",
       "    </tr>\n",
       "  </tbody>\n",
       "</table>\n",
       "</div>"
      ],
      "text/plain": [
       "Job Title              Analyst     Associate         Clerk   Coordinator  \\\n",
       "Department                                                                 \n",
       "Customer Service  71302.500000  73627.142857  77646.666667  70662.400000   \n",
       "Finance           65523.000000  72727.500000  79419.333333  80596.100000   \n",
       "HR                74539.714286  82332.666667  68220.200000  70651.750000   \n",
       "IT                70279.571429  80819.000000  60791.250000  67352.000000   \n",
       "Marketing         75464.750000  72058.000000  80517.200000  71169.166667   \n",
       "R&D               62759.000000  94246.400000  79555.200000  79685.300000   \n",
       "Sales             65267.400000  69187.833333  69373.500000  83749.750000   \n",
       "\n",
       "Job Title         Director        Intern       Manager  \n",
       "Department                                              \n",
       "Customer Service   77518.0  67571.833333  68184.800000  \n",
       "Finance            57136.5  73883.333333  80732.250000  \n",
       "HR                 68323.5  73127.000000  79613.500000  \n",
       "IT                 85688.2  77293.571429  76154.111111  \n",
       "Marketing          79129.5  79637.875000  72976.000000  \n",
       "R&D                76879.0  80842.400000  78633.500000  \n",
       "Sales              70984.4  72789.545455  69417.000000  "
      ]
     },
     "execution_count": 16,
     "metadata": {},
     "output_type": "execute_result"
    }
   ],
   "source": [
    "#recreate dep_and_title_pivot by unstacking dep_and_title_groupby\n",
    "dep_and_title_groupby.unstack()"
   ]
  },
  {
   "cell_type": "markdown",
   "id": "aac4015d",
   "metadata": {},
   "source": [
    "## Exercises \n"
   ]
  },
  {
   "cell_type": "markdown",
   "id": "4c9e7916",
   "metadata": {},
   "source": [
    "#### Use `groupby()` to calculate the max salary within each department.\n"
   ]
  },
  {
   "cell_type": "code",
   "execution_count": null,
   "id": "70c8cea8",
   "metadata": {},
   "outputs": [],
   "source": []
  },
  {
   "cell_type": "markdown",
   "id": "97fa34fb",
   "metadata": {
    "ExecuteTime": {
     "end_time": "2024-04-29T19:17:27.197949Z",
     "start_time": "2024-04-29T19:17:27.194067Z"
    }
   },
   "source": [
    "#### Use `pivot_table()` to calculate the max salary within each department.\n"
   ]
  },
  {
   "cell_type": "code",
   "execution_count": null,
   "id": "acc5d731",
   "metadata": {},
   "outputs": [],
   "source": []
  },
  {
   "cell_type": "markdown",
   "id": "e023eb87",
   "metadata": {},
   "source": [
    "#### Return the average age and years of experience for each department.\n",
    "\n"
   ]
  },
  {
   "cell_type": "code",
   "execution_count": null,
   "id": "763ea24a-c1da-4eed-8e44-c042eb19552a",
   "metadata": {},
   "outputs": [],
   "source": []
  },
  {
   "cell_type": "markdown",
   "id": "a590ff2e-ce7f-4c47-bc9e-633c46d4b261",
   "metadata": {},
   "source": [
    "#### What's the maximum and minimum salaries within each job title?\n",
    "Hint: You can specify two aggregation functions \n",
    "\n"
   ]
  },
  {
   "cell_type": "code",
   "execution_count": null,
   "id": "18bb1b74-99be-4a0c-8912-ee7b8b469665",
   "metadata": {},
   "outputs": [],
   "source": []
  },
  {
   "cell_type": "markdown",
   "id": "8cbaebed-69d3-4e58-9a5a-8178c0865e26",
   "metadata": {},
   "source": [
    "#### Count the number of employees in each job title, segmented by their performance rating. What was the total count of employees for each performance rating?"
   ]
  },
  {
   "cell_type": "code",
   "execution_count": null,
   "id": "8aa55de2-ab95-4e79-8a43-7bc4ac44e2c4",
   "metadata": {},
   "outputs": [],
   "source": []
  }
 ],
 "metadata": {
  "hide_input": false,
  "kernelspec": {
   "display_name": "Python 3 (ipykernel)",
   "language": "python",
   "name": "python3"
  },
  "language_info": {
   "codemirror_mode": {
    "name": "ipython",
    "version": 3
   },
   "file_extension": ".py",
   "mimetype": "text/x-python",
   "name": "python",
   "nbconvert_exporter": "python",
   "pygments_lexer": "ipython3",
   "version": "3.9.19"
  }
 },
 "nbformat": 4,
 "nbformat_minor": 5
}
