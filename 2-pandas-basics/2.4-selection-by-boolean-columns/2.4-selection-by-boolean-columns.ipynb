{
 "cells": [
  {
   "cell_type": "markdown",
   "metadata": {},
   "source": [
    "# Problem Set 2.4: Selection by Boolean Columns\n",
    "\n",
    "Explore how to select rows in a DataFrame based on a condition, rather than\n",
    "their position (or label).\n",
    "\n",
    "We'll use the same 'deck.csv' from [Problem Set\n",
    "2.3](../2.3-row-and-column-selection-by-location/2.3-row-and-column-selection-by-location.ipynb)."
   ]
  },
  {
   "cell_type": "code",
   "execution_count": null,
   "metadata": {},
   "outputs": [],
   "source": [
    "import pandas as pd\n",
    "\n",
    "deck_df = pd.read_csv('deck.csv')\n",
    "deck_df"
   ]
  },
  {
   "cell_type": "markdown",
   "metadata": {},
   "source": [
    "## Comparing columns\n",
    "\n",
    "Just like you can add something to a column, you can compare a column to\n",
    "something. This will return a Series of True and False values, where each\n",
    "position is True if the value in that row matches your condition."
   ]
  },
  {
   "cell_type": "code",
   "execution_count": null,
   "metadata": {},
   "outputs": [],
   "source": [
    "ten_plus = deck_df['value'] >= 10\n",
    "ten_plus"
   ]
  },
  {
   "cell_type": "markdown",
   "metadata": {},
   "source": [
    "This is True whenever the `>= 10` comparison was true, and False otherwise."
   ]
  },
  {
   "cell_type": "markdown",
   "metadata": {},
   "source": [
    "## Selection by Boolean Columns\n",
    "\n",
    "These are very powerful when used with `.loc[]`. You can use a Series of True\n",
    "and False values to select rows from a DataFrame."
   ]
  },
  {
   "cell_type": "code",
   "execution_count": null,
   "metadata": {},
   "outputs": [],
   "source": [
    "# Select rows where 'rank' is greater than or equal to 10\n",
    "selected_rows = deck_df.loc[ten_plus]\n",
    "selected_rows"
   ]
  },
  {
   "cell_type": "markdown",
   "metadata": {},
   "source": [
    "This operation is similar to applying a WHERE clause in SQL, where only rows that satisfy the specified condition are selected."
   ]
  },
  {
   "cell_type": "markdown",
   "metadata": {},
   "source": [
    "Often you'll see the condition written directly in the `.loc[]` call, like\n",
    "this:"
   ]
  },
  {
   "cell_type": "code",
   "execution_count": null,
   "metadata": {},
   "outputs": [],
   "source": [
    "selected_rows = deck_df.loc[deck_df['value'] >= 10]\n",
    "selected_rows"
   ]
  },
  {
   "cell_type": "markdown",
   "metadata": {},
   "source": [
    "## Exercises"
   ]
  },
  {
   "cell_type": "markdown",
   "metadata": {},
   "source": [
    "Let's use Boolean columns to solve the same problems we solved in [the previous notebook](../2.3-row-and-column-selection-by-location/2.3-row-and-column-selection-by-location.ipynb). This will help us see how Boolean slicing can achieve the same results more easily."
   ]
  },
  {
   "cell_type": "markdown",
   "metadata": {},
   "source": [
    "### Exercise 1\n",
    "\n",
    "Select the 'symbol', 'rank', and 'value' columns for the hearts with ranks 10 and above."
   ]
  },
  {
   "cell_type": "code",
   "execution_count": null,
   "metadata": {},
   "outputs": [],
   "source": []
  },
  {
   "cell_type": "markdown",
   "metadata": {},
   "source": [
    "### Exercise 2\n",
    "\n",
    "Select the rows where the 'suit' is 'hearts' and the 'rank' is 'A'."
   ]
  },
  {
   "cell_type": "code",
   "execution_count": null,
   "metadata": {},
   "outputs": [],
   "source": []
  },
  {
   "cell_type": "markdown",
   "metadata": {},
   "source": [
    "### Exercise 3\n",
    "\n",
    "Select the 'suit', 'rank', and 'value' columns for the cards with 'symbol' '♠'."
   ]
  },
  {
   "cell_type": "code",
   "execution_count": null,
   "metadata": {},
   "outputs": [],
   "source": []
  },
  {
   "cell_type": "markdown",
   "metadata": {},
   "source": [
    "By slicing with Boolean columns, we can answer the same questions, but now our\n",
    "code is easier to write, and expresses our *intent*. This way, if we got a\n",
    "different deck of cards, the code would still conceptually do the same thing."
   ]
  }
 ],
 "metadata": {
  "kernelspec": {
   "display_name": "Python 3",
   "language": "python",
   "name": "python3"
  },
  "language_info": {
   "codemirror_mode": {
    "name": "ipython",
    "version": 3
   },
   "file_extension": ".py",
   "mimetype": "text/x-python",
   "name": "python",
   "nbconvert_exporter": "python",
   "pygments_lexer": "ipython3",
   "version": "3.11.7"
  }
 },
 "nbformat": 4,
 "nbformat_minor": 2
}
