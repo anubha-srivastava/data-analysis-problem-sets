{
 "cells": [
  {
   "cell_type": "markdown",
   "metadata": {},
   "source": [
    "# Problem Set 2.4: Selection by Boolean Columns\n",
    "\n",
    "[Click here to open this notebook in your browser](https://leifwalsh.github.io/data-analysis-problem-sets/lab/index.html?path=2-pandas-basics/2.4-selection-by-boolean-columns/2.4-selection-by-boolean-columns.ipynb)\n",
    "\n",
    "Explore how to select rows in a DataFrame based on a condition, rather than\n",
    "their position (or label).\n",
    "\n",
    "We'll use the same 'deck.csv' from [Problem Set\n",
    "2.3](../2.3-row-and-column-selection-by-location/2.3-row-and-column-selection-by-location.ipynb)."
   ]
  },
  {
   "cell_type": "code",
   "execution_count": null,
   "metadata": {},
   "outputs": [],
   "source": [
    "import pandas as pd\n",
    "\n",
    "deck_df = pd.read_csv('deck.csv')\n",
    "deck_df"
   ]
  },
  {
   "cell_type": "markdown",
   "metadata": {},
   "source": [
    "## Comparing columns\n",
    "\n",
    "Just like you can add something to a column, you can compare a column to\n",
    "something. This will return a Series of True and False values, where each\n",
    "position is True if the value in that row matches your condition."
   ]
  },
  {
   "cell_type": "code",
   "execution_count": null,
   "metadata": {},
   "outputs": [],
   "source": [
    "ten_plus = deck_df['value'] >= 10\n",
    "ten_plus"
   ]
  },
  {
   "cell_type": "markdown",
   "metadata": {},
   "source": [
    "This is True whenever the `>= 10` comparison was true, and False otherwise."
   ]
  },
  {
   "cell_type": "markdown",
   "metadata": {},
   "source": [
    "## Selection by Boolean Columns\n",
    "\n",
    "These are very powerful when used with `.loc[]`. You can use a Series of True\n",
    "and False values to select rows from a DataFrame."
   ]
  },
  {
   "cell_type": "code",
   "execution_count": null,
   "metadata": {},
   "outputs": [],
   "source": [
    "# Select rows where 'rank' is greater than or equal to 10\n",
    "selected_rows = deck_df.loc[ten_plus]\n",
    "selected_rows"
   ]
  },
  {
   "cell_type": "markdown",
   "metadata": {},
   "source": [
    "This operation is similar to applying a WHERE clause in SQL, where only rows that satisfy the specified condition are selected."
   ]
  },
  {
   "cell_type": "markdown",
   "metadata": {},
   "source": [
    "Often you'll see the condition written directly in the `.loc[]` call, like\n",
    "this:"
   ]
  },
  {
   "cell_type": "code",
   "execution_count": null,
   "metadata": {},
   "outputs": [],
   "source": [
    "selected_rows = deck_df.loc[deck_df['value'] >= 10]\n",
    "selected_rows"
   ]
  },
  {
   "cell_type": "markdown",
   "metadata": {},
   "source": [
    "Do you remember all the comparison operators in Python?\n",
    "- `==` for equality\n",
    "- `!=` for inequality\n",
    "- `>` for greater than\n",
    "- `<` for less than\n",
    "- `>=` for greater than or equal to\n",
    "- `<=` for less than or equal to\n",
    "\n",
    "We can get a winning poker hand by selecting all aces:"
   ]
  },
  {
   "cell_type": "code",
   "execution_count": null,
   "metadata": {},
   "outputs": [],
   "source": [
    "deck_df.loc[deck_df['rank'] == 'A']"
   ]
  },
  {
   "cell_type": "markdown",
   "metadata": {},
   "source": [
    "### Combining selectors\n",
    "\n",
    "If you're familiar with SQL, you might know you can combine multiple conditions\n",
    "with AND and OR. For example, `WHERE a = 1 AND b = 2` would select only the\n",
    "rows where both `a` is 1 and `b` is 2, and `WHERE a = 1 OR b = 2` would select\n",
    "all the rows where either `a` is 1 or `b` is 2.\n",
    "\n",
    "You can do the same thing in pandas, using the `&` operator for AND and the `|`\n",
    "operator for OR.\n",
    "\n",
    "Note: For Python experts, you may know that in normal Python, \"and\" and \"or\"\n",
    "are keywords, you just write those words in your program:\n",
    "\n",
    "```python\n",
    "# This is just the word!\n",
    "#         vvv\n",
    "if a == 1 and b == 1:\n",
    "    print(\"Both a and b are 1\")\n",
    "```\n",
    "\n",
    "But in pandas (for technical reasons), you need to use `&` and `|` instead, and\n",
    "it's good practice (and often necessary) to put each condition in\n",
    "parentheses."
   ]
  },
  {
   "cell_type": "markdown",
   "metadata": {},
   "source": [
    "So, we can select across multiple columns with these combining operators:"
   ]
  },
  {
   "cell_type": "code",
   "execution_count": null,
   "metadata": {},
   "outputs": [],
   "source": [
    "deck_df.loc[(deck_df['value'] < 7) & (deck_df['suit'] == 'hearts')]"
   ]
  },
  {
   "cell_type": "markdown",
   "metadata": {},
   "source": [
    "A straight flush!"
   ]
  },
  {
   "cell_type": "markdown",
   "metadata": {},
   "source": [
    "Python experts will note that in pandas, these `&` and `|` are overloading the\n",
    "bitwise AND and OR operators - in Python you can't overload what the `and` and\n",
    "`or` keywords mean, but you can overload bitwise operators.\n",
    "\n",
    "Similarly, pandas overloads the `~` operator for NOT, so you can select all the\n",
    "non-clubs like this:"
   ]
  },
  {
   "cell_type": "code",
   "execution_count": null,
   "metadata": {},
   "outputs": [],
   "source": [
    "deck_df.loc[~(deck_df['suit'] == 'clubs')]"
   ]
  },
  {
   "cell_type": "markdown",
   "metadata": {},
   "source": [
    "Of course, you also could have used `!=` to do the same thing:"
   ]
  },
  {
   "cell_type": "code",
   "execution_count": null,
   "metadata": {},
   "outputs": [],
   "source": [
    "deck_df.loc[deck_df['suit'] != 'clubs']"
   ]
  },
  {
   "cell_type": "markdown",
   "metadata": {},
   "source": [
    "But in some cases, you'll end up wanting to use `~` to negate a more complex\n",
    "condition."
   ]
  },
  {
   "cell_type": "markdown",
   "metadata": {},
   "source": [
    "## Exercises"
   ]
  },
  {
   "cell_type": "markdown",
   "metadata": {},
   "source": [
    "Let's use Boolean columns to solve the same problems we solved in [the previous notebook](../2.3-row-and-column-selection-by-location/2.3-row-and-column-selection-by-location.ipynb). This will help us see how Boolean slicing can achieve the same results more easily."
   ]
  },
  {
   "cell_type": "markdown",
   "metadata": {},
   "source": [
    "### Exercise 1\n",
    "\n",
    "Select the 'symbol', 'rank', and 'value' columns for the hearts with ranks 10 and above."
   ]
  },
  {
   "cell_type": "code",
   "execution_count": null,
   "metadata": {},
   "outputs": [],
   "source": []
  },
  {
   "cell_type": "markdown",
   "metadata": {},
   "source": [
    "### Exercise 2\n",
    "\n",
    "Select the rows where the 'suit' is 'hearts' and the 'rank' is 'A'."
   ]
  },
  {
   "cell_type": "code",
   "execution_count": null,
   "metadata": {},
   "outputs": [],
   "source": []
  },
  {
   "cell_type": "markdown",
   "metadata": {},
   "source": [
    "### Exercise 3\n",
    "\n",
    "Select the 'suit', 'rank', and 'value' columns for the cards with 'symbol' '♠'."
   ]
  },
  {
   "cell_type": "code",
   "execution_count": null,
   "metadata": {},
   "outputs": [],
   "source": []
  },
  {
   "cell_type": "markdown",
   "metadata": {},
   "source": [
    "By slicing with Boolean columns, we can answer the same questions, but now our\n",
    "code is easier to write, and expresses our *intent*. This way, if we got a\n",
    "different deck of cards, the code would still conceptually do the same thing."
   ]
  },
  {
   "cell_type": "markdown",
   "metadata": {},
   "source": [
    "### Exercise 4\n",
    "\n",
    "Stack the deck! Deal yourself a good poker hand."
   ]
  },
  {
   "cell_type": "code",
   "execution_count": null,
   "metadata": {},
   "outputs": [],
   "source": []
  }
 ],
 "metadata": {
  "kernelspec": {
   "display_name": "Python 3",
   "language": "python",
   "name": "python3"
  },
  "language_info": {
   "codemirror_mode": {
    "name": "ipython",
    "version": 3
   },
   "file_extension": ".py",
   "mimetype": "text/x-python",
   "name": "python",
   "nbconvert_exporter": "python",
   "pygments_lexer": "ipython3",
   "version": "3.11.8"
  }
 },
 "nbformat": 4,
 "nbformat_minor": 2
}
