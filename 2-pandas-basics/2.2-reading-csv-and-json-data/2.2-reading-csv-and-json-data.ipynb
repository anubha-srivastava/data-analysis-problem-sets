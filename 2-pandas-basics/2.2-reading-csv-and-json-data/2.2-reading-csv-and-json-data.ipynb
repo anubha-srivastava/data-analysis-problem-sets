{
 "cells": [
  {
   "cell_type": "markdown",
   "metadata": {},
   "source": [
    "# Problem Set 2.2: Reading CSV and JSON Data into pandas DataFrames\n",
    "\n",
    "Learn how to read data from CSV and JSON files using pandas DataFrames."
   ]
  },
  {
   "cell_type": "markdown",
   "metadata": {},
   "source": [
    "First, our imports:"
   ]
  },
  {
   "cell_type": "code",
   "execution_count": null,
   "metadata": {},
   "outputs": [],
   "source": [
    "import pandas as pd"
   ]
  },
  {
   "cell_type": "markdown",
   "metadata": {},
   "source": [
    "## Reading CSV Data\n",
    "\n",
    "Pandas provides a convenient `read_csv` function to read data from CSV files. Let's read a sample CSV file:"
   ]
  },
  {
   "cell_type": "code",
   "execution_count": null,
   "metadata": {},
   "outputs": [],
   "source": [
    "csv_file_path = 'census.csv'\n",
    "df_csv = pd.read_csv(csv_file_path)\n",
    "df_csv"
   ]
  },
  {
   "cell_type": "markdown",
   "metadata": {},
   "source": [
    "## Reading JSON Data\n",
    "\n",
    "Similarly, pandas provides a `read_json` function to read data from JSON files. Let's read a sample JSON file:"
   ]
  },
  {
   "cell_type": "code",
   "execution_count": null,
   "metadata": {},
   "outputs": [],
   "source": [
    "json_file_path = 'census.json'\n",
    "df_json = pd.read_json(json_file_path)\n",
    "df_json"
   ]
  },
  {
   "cell_type": "markdown",
   "metadata": {},
   "source": [
    "## Writing DataFrames to CSV and JSON Files\n",
    "\n",
    "You can also write a pandas DataFrame back to a CSV or JSON file using the\n",
    "`to_csv` and `to_json` functions. Let's write the `df` DataFrame to a CSV file:\n",
    "\n",
    "**Warning:** Don't run these cells in Jupyter Lite - there is a bug in how\n",
    "writing files is handled in Jupyter Lite. Just trust that these work correctly\n",
    "in a regular Jupyter notebook."
   ]
  },
  {
   "cell_type": "code",
   "execution_count": null,
   "metadata": {},
   "outputs": [],
   "source": [
    "new_csv_file_path = 'new_census.csv'\n",
    "df_csv.to_csv(new_csv_file_path, index=False)"
   ]
  },
  {
   "cell_type": "code",
   "execution_count": null,
   "metadata": {},
   "outputs": [],
   "source": [
    "new_json_file_path = 'new_census.json'\n",
    "df_json.to_json(new_json_file_path, orient='records')"
   ]
  },
  {
   "cell_type": "markdown",
   "metadata": {},
   "source": [
    "## Summary\n",
    "\n",
    "That's about it. This problem set just shows you those exist. You'll use them a\n",
    "lot to read in data someone sent you, or to save intermediate results.\n",
    "\n",
    "Note that Google Sheets and Excel (and many other things) will let you export\n",
    "data as CSV. There are a lot of things that can go wrong with CSV data, it's\n",
    "kind of a meme that people hate it, but you're going to work with it a lot."
   ]
  },
  {
   "cell_type": "markdown",
   "metadata": {},
   "source": [
    "# Exercises"
   ]
  },
  {
   "cell_type": "markdown",
   "metadata": {},
   "source": [
    "## Exercise 1\n",
    "\n",
    "Notice how we passed `index=False` to `to_csv` to remove the row numbers from\n",
    "the file. What happens if you don't pass that? Does that remind you of anything\n",
    "from [Problem Set\n",
    "2.1](../2.1-numpy-arrays-series-dataframe/2.1-numpy-arrays-series-dataframe.ipynb)?"
   ]
  },
  {
   "cell_type": "code",
   "execution_count": null,
   "metadata": {},
   "outputs": [],
   "source": []
  },
  {
   "cell_type": "markdown",
   "metadata": {},
   "source": [
    "## Exercise 2\n",
    "\n",
    "Try passing different values to the `orient` parameter of `to_json`. The valid\n",
    "options are:\n",
    "\n",
    "- `\"split\"`\n",
    "- `\"records\"`\n",
    "- `\"index\"`\n",
    "- `\"columns\"`\n",
    "- `\"values\"`\n",
    "- `\"table\"`\n",
    "\n",
    "What happens if you don't pass anything?"
   ]
  },
  {
   "cell_type": "code",
   "execution_count": null,
   "metadata": {},
   "outputs": [],
   "source": []
  },
  {
   "cell_type": "markdown",
   "metadata": {},
   "source": [
    "## Exercise 3\n",
    "\n",
    "Take a look at the documentation for `read_csv` and `to_csv`.\n",
    "\n",
    "- [read_csv](https://pandas.pydata.org/pandas-docs/stable/reference/api/pandas.read_csv.html)\n",
    "- [to_csv](https://pandas.pydata.org/pandas-docs/stable/reference/api/pandas.DataFrame.to_csv.html)\n",
    "\n",
    "Don't read them in detail, just skim through to get a sense of what other\n",
    "parameters are available. There are a lot of settings, and the default isn't\n",
    "always what you want. It's just good to know that there are other settings in\n",
    "case it's not doing the right thing with a file you have."
   ]
  },
  {
   "cell_type": "markdown",
   "metadata": {},
   "source": [
    "Here's a cell if you want to try anything out, but this exercise is just\n",
    "reading."
   ]
  },
  {
   "cell_type": "code",
   "execution_count": null,
   "metadata": {},
   "outputs": [],
   "source": []
  },
  {
   "cell_type": "markdown",
   "metadata": {},
   "source": [
    "## Exercise 4\n",
    "\n",
    "Take a look at the documentation for `read_json` and `to_json`.\n",
    "\n",
    "- [read_json](https://pandas.pydata.org/pandas-docs/stable/reference/api/pandas.read_json.html)\n",
    "- [to_json](https://pandas.pydata.org/pandas-docs/stable/reference/api/pandas.DataFrame.to_json.html)\n",
    "\n",
    "Same deal, just get a feel for what's available."
   ]
  },
  {
   "cell_type": "code",
   "execution_count": null,
   "metadata": {},
   "outputs": [],
   "source": []
  }
 ],
 "metadata": {
  "kernelspec": {
   "display_name": "Python 3",
   "language": "python",
   "name": "python3"
  },
  "language_info": {
   "codemirror_mode": {
    "name": "ipython",
    "version": 3
   },
   "file_extension": ".py",
   "mimetype": "text/x-python",
   "name": "python",
   "nbconvert_exporter": "python",
   "pygments_lexer": "ipython3",
   "version": "3.11.7"
  }
 },
 "nbformat": 4,
 "nbformat_minor": 2
}
