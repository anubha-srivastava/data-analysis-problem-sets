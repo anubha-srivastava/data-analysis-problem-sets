{
 "cells": [
  {
   "cell_type": "markdown",
   "metadata": {},
   "source": [
    "# Problem Set 2.5: Indexes: `.loc[]` vs `.iloc[]`\n",
    "\n",
    "Explore what \"indexes\" are in Series and DataFrames.\n",
    "\n",
    "We'll also explore the difference between selecting rows in a DataFrame using\n",
    "labels (`loc[]`) and positions (`iloc[]`). We'll use same deck of cards as last\n",
    "time:"
   ]
  },
  {
   "cell_type": "code",
   "execution_count": null,
   "metadata": {},
   "outputs": [],
   "source": [
    "import pandas as pd\n",
    "deck_df = pd.read_csv('deck.csv')\n",
    "deck_df"
   ]
  },
  {
   "cell_type": "markdown",
   "metadata": {},
   "source": [
    "## Understanding Indexes\n",
    "\n",
    "Indexes in pandas provide a way to uniquely identify each row in a DataFrame.\n",
    "The index of `deck_df` is the row numbers we've been seeing:"
   ]
  },
  {
   "cell_type": "code",
   "execution_count": null,
   "metadata": {},
   "outputs": [],
   "source": [
    "deck_df.index"
   ]
  },
  {
   "cell_type": "markdown",
   "metadata": {},
   "source": [
    "In this case, it's just the numbers from 0 to 51. You can get the underlying\n",
    "numpy array with `.values`:"
   ]
  },
  {
   "cell_type": "code",
   "execution_count": null,
   "metadata": {},
   "outputs": [],
   "source": [
    "deck_df.index.values"
   ]
  },
  {
   "cell_type": "markdown",
   "metadata": {},
   "source": [
    "But the index isn't always just the row numbers. Let's inspect a little closer.\n",
    "\n",
    "First, let's pull out the spades and diamonds from the deck:"
   ]
  },
  {
   "cell_type": "code",
   "execution_count": null,
   "metadata": {},
   "outputs": [],
   "source": [
    "spades = deck_df[deck_df['suit'] == 'spades']\n",
    "spades"
   ]
  },
  {
   "cell_type": "code",
   "execution_count": null,
   "metadata": {},
   "outputs": [],
   "source": [
    "diamonds = deck_df.loc[deck_df['suit'] == 'diamonds']\n",
    "diamonds"
   ]
  },
  {
   "cell_type": "markdown",
   "metadata": {},
   "source": [
    "### Upending our worldview"
   ]
  },
  {
   "cell_type": "markdown",
   "metadata": {},
   "source": [
    "HOLD ON! Those aren't row numbers!"
   ]
  },
  {
   "cell_type": "code",
   "execution_count": null,
   "metadata": {},
   "outputs": [],
   "source": [
    "diamonds.index"
   ]
  },
  {
   "cell_type": "markdown",
   "metadata": {},
   "source": [
    "Well, they are, but they're the row numbers *from when we read the CSV*. When\n",
    "we select a subset of a DataFrame, the index of each row stays what it was\n",
    "before.\n",
    "\n",
    "What we have been thinking of as row numbers so far are actually what pandas\n",
    "calls the \"label\" for a row. A row's label is actually its Series's name. And\n",
    "an \"index\" is a collection of labels.\n",
    "\n",
    "Let's look:"
   ]
  },
  {
   "cell_type": "code",
   "execution_count": null,
   "metadata": {},
   "outputs": [],
   "source": [
    "diamonds.loc[13]"
   ]
  },
  {
   "cell_type": "markdown",
   "metadata": {},
   "source": [
    "The whole time we've been using `.loc[]`, we've actually been selecting with\n",
    "labels, not row numbers."
   ]
  },
  {
   "cell_type": "markdown",
   "metadata": {},
   "source": [
    "### Series have indexes too"
   ]
  },
  {
   "cell_type": "markdown",
   "metadata": {},
   "source": [
    "Let's examine that card:"
   ]
  },
  {
   "cell_type": "code",
   "execution_count": null,
   "metadata": {},
   "outputs": [],
   "source": [
    "two_of_diamonds = diamonds.loc[13]\n",
    "two_of_diamonds.index"
   ]
  },
  {
   "cell_type": "markdown",
   "metadata": {},
   "source": [
    "The card (remember, this represents a row) is a Series, and it has an index\n",
    "too. The valid labels are 'suit', 'symbol', 'rank', and 'value'.\n",
    "\n",
    "And you can use `.loc[]` on those labels:"
   ]
  },
  {
   "cell_type": "code",
   "execution_count": null,
   "metadata": {},
   "outputs": [],
   "source": [
    "two_of_diamonds.loc['symbol']"
   ]
  },
  {
   "cell_type": "markdown",
   "metadata": {},
   "source": [
    "### Indexes and Labels: Recap\n",
    "\n",
    "So, what's going on?\n",
    "\n",
    "- A Series has a `name`, an `index`, and `values`. The `index` contains the\n",
    "  valid labels in that Series, and each label corresponds to one of the values.\n",
    "  The values are just in a numpy array.\n",
    "- A DataFrame has `columns`. It acts like a `dict` where if you select a column\n",
    "  by name, you get a Series (whose name matches the column name).\n",
    "- Every Series in a DataFrame has an index. Actually, they all have *the same*\n",
    "  index. Meaning, any label corresponds to some value in each column.\n",
    "- The index of the DataFrame is just that. It's the index all the columns\n",
    "  share.\n",
    "- This is really all DataFrames are. They are a collection of columns, in a\n",
    "  `dict`-like structure where you can identify a column by its name. All the\n",
    "  columns are \"aligned\" (which means they have the same index)."
   ]
  },
  {
   "cell_type": "code",
   "execution_count": null,
   "metadata": {},
   "outputs": [],
   "source": [
    "diamonds.index"
   ]
  },
  {
   "cell_type": "code",
   "execution_count": null,
   "metadata": {},
   "outputs": [],
   "source": [
    "diamonds['suit'].index"
   ]
  },
  {
   "cell_type": "code",
   "execution_count": null,
   "metadata": {},
   "outputs": [],
   "source": [
    "diamonds['rank'].index"
   ]
  },
  {
   "cell_type": "markdown",
   "metadata": {},
   "source": [
    "## Selecting rows with `.loc[]` and `.iloc[]`\n",
    "\n",
    "As we've seen, `.loc[]` selects an item (an element of a Series, or a row of a\n",
    "DataFrame) by its label."
   ]
  },
  {
   "cell_type": "code",
   "execution_count": null,
   "metadata": {},
   "outputs": [],
   "source": [
    "diamonds.loc[13:18]"
   ]
  },
  {
   "cell_type": "code",
   "execution_count": null,
   "metadata": {},
   "outputs": [],
   "source": [
    "diamonds['rank'].loc[13:18]"
   ]
  },
  {
   "cell_type": "markdown",
   "metadata": {},
   "source": [
    "### Introducing `.iloc[]`\n",
    "\n",
    "But how do we actually select things by row number? For that, we use `.iloc[]`\n",
    "(for \"integer location\"):"
   ]
  },
  {
   "cell_type": "code",
   "execution_count": null,
   "metadata": {},
   "outputs": [],
   "source": [
    "diamonds.iloc[0]"
   ]
  },
  {
   "cell_type": "markdown",
   "metadata": {},
   "source": [
    "`.iloc[]` also supports slices, but they are *exclusive* of the end point.\n",
    "\n",
    "`.loc[]` is inclusive of the end point: see above when we selected\n",
    "`diamonds.loc[13:18]`, the row with label 18 was included.\n",
    "\n",
    "With `.iloc[]`, it acts more like a Python list slice: the end point is not\n",
    "included. This makes sense for collections that are indexed by integers,\n",
    "[according to\n",
    "Dijkstra](https://www.cs.utexas.edu/users/EWD/ewd08xx/EWD831.PDF)."
   ]
  },
  {
   "cell_type": "code",
   "execution_count": null,
   "metadata": {},
   "outputs": [],
   "source": [
    "diamonds.iloc[0:6]"
   ]
  },
  {
   "cell_type": "markdown",
   "metadata": {},
   "source": [
    "#### Selecting along both axes with `.iloc[]`\n",
    "\n",
    "Just as `.loc[]` can select along both axes, so can `.iloc[]`. But the second\n",
    "axis is also integers, not column names:"
   ]
  },
  {
   "cell_type": "code",
   "execution_count": null,
   "metadata": {},
   "outputs": [],
   "source": [
    "diamonds.iloc[0:6, 1]"
   ]
  },
  {
   "cell_type": "code",
   "execution_count": null,
   "metadata": {},
   "outputs": [],
   "source": [
    "diamonds.iloc[0:6, 1:3]"
   ]
  },
  {
   "cell_type": "markdown",
   "metadata": {},
   "source": [
    "Notice that the index labels (names) are different from the row numbers. Indexes don't have to be numeric and can be anything that uniquely identifies each row."
   ]
  },
  {
   "cell_type": "markdown",
   "metadata": {},
   "source": [
    "## Recap\n",
    "\n",
    "In a DataFrame, row numbers are not the same as row labels. Row labels are\n",
    "preserved when selecting subsets of rows.\n",
    "\n",
    "You can select rows by label with `.loc[]` and by position with `.iloc[]`.\n",
    "\n",
    "You can also select columns by their label (name) with `.loc[]` or by their\n",
    "position with `.iloc[]`."
   ]
  },
  {
   "cell_type": "markdown",
   "metadata": {},
   "source": [
    "## Examples\n",
    "\n",
    "Let's now practice selecting rows using both `.loc[]` and `.iloc[]` methods. Complete the exercises in the following code cells."
   ]
  },
  {
   "cell_type": "markdown",
   "metadata": {},
   "source": [
    "### Example 1\n",
    "\n",
    "Select all cards from the suit 'hearts' using `.loc[]`."
   ]
  },
  {
   "cell_type": "code",
   "execution_count": null,
   "metadata": {},
   "outputs": [],
   "source": []
  },
  {
   "cell_type": "markdown",
   "metadata": {},
   "source": [
    "### Example 2\n",
    "\n",
    "Select the first and last cards from the suit 'clubs' using `.iloc[]`."
   ]
  },
  {
   "cell_type": "code",
   "execution_count": null,
   "metadata": {},
   "outputs": [],
   "source": []
  },
  {
   "cell_type": "markdown",
   "metadata": {},
   "source": [
    "### Example 3\n",
    "\n",
    "Select all cards from the suit 'hearts' with ranks between 7 and 10 (inclusive) using `.loc[]`."
   ]
  },
  {
   "cell_type": "code",
   "execution_count": null,
   "metadata": {},
   "outputs": [],
   "source": []
  },
  {
   "cell_type": "markdown",
   "metadata": {},
   "source": [
    "### Example 4\n",
    "\n",
    "Split the deck in two, selecting the odd numbered cards (by row number) into\n",
    "one DataFrame and the even numbered cards into another DataFrame, using\n",
    "`.iloc[]`."
   ]
  },
  {
   "cell_type": "code",
   "execution_count": null,
   "metadata": {},
   "outputs": [],
   "source": [
    "# Even cards\n"
   ]
  },
  {
   "cell_type": "code",
   "execution_count": null,
   "metadata": {},
   "outputs": [],
   "source": [
    "# Odd cards\n"
   ]
  },
  {
   "cell_type": "markdown",
   "metadata": {},
   "source": [
    "### Example 5\n",
    "\n",
    "Draw a hand of five random cards. Here are five random row numbers to use:"
   ]
  },
  {
   "cell_type": "code",
   "execution_count": null,
   "metadata": {},
   "outputs": [],
   "source": [
    "import numpy as np\n",
    "rows = np.random.choice(deck_df.index.values, 5)\n",
    "rows"
   ]
  },
  {
   "cell_type": "code",
   "execution_count": null,
   "metadata": {},
   "outputs": [],
   "source": [
    "# Select rows with .iloc[]\n"
   ]
  }
 ],
 "metadata": {
  "kernelspec": {
   "display_name": "Python 3",
   "language": "python",
   "name": "python3"
  },
  "language_info": {
   "codemirror_mode": {
    "name": "ipython",
    "version": 3
   },
   "file_extension": ".py",
   "mimetype": "text/x-python",
   "name": "python",
   "nbconvert_exporter": "python",
   "pygments_lexer": "ipython3",
   "version": "3.11.7"
  }
 },
 "nbformat": 4,
 "nbformat_minor": 2
}
